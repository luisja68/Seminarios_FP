{
 "cells": [
  {
   "cell_type": "markdown",
   "metadata": {},
   "source": [
    "# Seminario 4. Excepciones en Python.\n",
    "\n",
    "Ante la aparición de un error durante la ejecución de un programa, lo aconsejable es no hacer nada especial y dejar que la ejecución termine, para saber exactamente qué circunstancias han provocado dicho error. No obstante, durante el proceso de desarrollo conviene prever las circunstancias en las que puedan generarse errores, bien para impedirlas (lo cual puede ser muy difícil o prácticamente imposible), bien para gestionar esos errores (por ejemplo, informando al usuario) de modo que el programa pueda seguir funcionando aunque alguna operación haya fallado. Un caso muy común: el usuario suministra al programa un nombre de archivo con datos de entrada, pero ese archivo no se puede abrir –quizá porque no existe–. En ese caso, lo apropiado es informar del problema al usuario, posibilitando que suministre otro nombre de archivo si así lo desea.\n",
    "\n",
    "Existen muchísimas situaciones que pueden dar lugar a errores y que, por su propia naturaleza, son imprevisibles; con frecuencia, relacionadas con la entrada de datos o, en general, con los interfaces de usuario (sean de texto o gráficos). Resulta tremendamente difícil anticipar todo lo que puede ir mal en la interacción de un programa con los usuarios o con dispositivos externos: un nombre de archivo mal escrito; datos de entrada que no poseen el formato o tipo correctos; sensores que proporcionan lecturas absurdas o contradictorias, etc.\n",
    "\n",
    "> Existen situaciones en las que un programa simplemente *no debe dejar de funcionar bajo ninguna circunstancia*. En el peor de los casos, deberá iniciar estrategias orientadas a preservar la integridad de los recursos (dispositivos, datos, etc.) que se hallan bajo su control. Desgraciadamente, no siempre es posible prever todo lo que puede ir mal, por lo que hay que aceptar el hecho de que se produzcan errores durante la ejecución. De ahí que sea fundamental gestionar esos errores adecuadamente.\n",
    "\n",
    "La mayoría de los lenguajes de programación modernos cuentan con mecanismos que permiten gestionar los posibles errores que puedan generarse durante la ejecución de un programa. De hecho, muchos de esos mecanismos se basan en la misma idea: considerar esos errores como eventos excepcionales (*excepciones*) y ofrecer una forma de *capturar* dichas excepciones de modo que, en lugar de mostrar un mensaje de error y abortar la ejecución del programa, se realice algún tipo de acción alternativa. El objetivo de este seminario es, precisamente, introducir el mecanismo de excepciones de Python."
   ]
  },
  {
   "cell_type": "markdown",
   "metadata": {},
   "source": [
    "## Errores sintácticos y de ejecución.\n",
    "\n",
    "En cualquier lenguaje de programación nos podemos encontrar con dos clases de errores: (1) aquéllos que se producen  al  *traducir* el código fuente; y (2) aquéllos que tienen lugar durante la *ejecución* del programa.\n",
    "\n",
    "Los errores de la primera clase suelen ser *sintácticos*, originados por una sentencia o expresión que viola las reglas gramaticales del lenguaje. En los lenguajes compilados la traducción del código es una fase claramente diferenciada y previa a la ejecución, por lo que los errores sintácticos sólo se producen durante la compilación. Sin embargo, en los lenguajes interpretados la fase de traducción no está tan claramente diferenciada de la fase de ejecución, por lo que pueden darse circunstancias en las que un error sintáctico se detecte una vez iniciada la ejecución del programa. Por ejemplo, en Python podría iniciarse la ejecución de un script con total normalidad, y producirse un error sintáctico en el momento en que se importa un módulo cuyo código contiene ese error. Esta es una excelente razón por la que es conveniente importar los módulos al comienzo de los scripts.\n",
    "\n",
    "> Antes de iniciar la ejecución de un script, y también al importar cualquier módulo, Python realiza una traducción completa del código fuente del script o del módulo a un código intermedio (comúnmente llamado *bytecode*) optimizado para su interpretación subsiguiente. En consecuencia, los errores sintácticos se detectan y reportan durante dicha traducción preliminar. Es más, cuando se importa un módulo `xyz`, Python primero trata de utilizar el archivo `xyz.pyc`; si no existe, entonces utilizará el archivo `xyz.py`, almacenando el *bytecode* resultante de su traducción en `xyz.pyc` para usos posteriores. Si existen ambos archivos: `xyz.py` y `xyz.pyc`, se utilizará el primero sólo si ha sido modificado más recientemente que el segundo.\n",
    "\n",
    "Los errores de la segunda clase (los generados durante la ejecución) pueden ser de diversos tipos y provocados por muchas posibles causas. En Python estos errores se caracterizan por desencadenar excepciones, que en caso de necesidad podremos capturar y gestionar."
   ]
  },
  {
   "cell_type": "markdown",
   "metadata": {},
   "source": [
    "## Clases de excepciones predefinidas en Python.\n",
    "\n",
    "Antes de abordar cómo gestionar una excepción, es conveniente saber qué clases de excepciones vienen *de serie* con Python.\n",
    "\n",
    "Dado que Python es un lenguaje orientado a objetos, no debe resultar sorprendente que existan clases de excepciones. Las excepciones en sí no son otra cosa que *instancias* de alguna clase de excepciones. **Cuando debido a un error se desencadena una excepción, Python crea automáticamente una instancia de la clase de excepción correspondiente a ese error.** Normalmente, esa instancia incluirá atributos con información adicional sobre el error producido.\n",
    "\n",
    "Existe toda una jerarquía de clases de excepciones, que deriva en su totalidad de la clase `BaseException`. En realidad, la gran mayoría de clases de excepciones derivan de la clase `Exception`, que es a su vez una subclase de `BaseException`. A continuación se muestra la jerarquía completa de clases de excepciones de Python 3.11:\n",
    "\n",
    "    BaseException\n",
    "     +-- BaseExceptionGroup\n",
    "     +-- GeneratorExit\n",
    "     +-- KeyboardInterrupt\n",
    "     +-- SystemExit\n",
    "     +-- Exception\n",
    "          +-- ArithmeticError\n",
    "          |    +-- FloatingPointError\n",
    "          |    +-- OverflowError\n",
    "          |    +-- ZeroDivisionError\n",
    "          +-- AssertionError\n",
    "          +-- AttributeError\n",
    "          +-- BufferError\n",
    "          +-- EOFError\n",
    "          +-- ExceptionGroup [BaseExceptionGroup]\n",
    "          +-- ImportError\n",
    "          |    +-- ModuleNotFoundError\n",
    "          +-- LookupError\n",
    "          |    +-- IndexError\n",
    "          |    +-- KeyError\n",
    "          +-- MemoryError\n",
    "          +-- NameError\n",
    "          |    +-- UnboundLocalError\n",
    "          +-- OSError\n",
    "          |    +-- BlockingIOError\n",
    "          |    +-- ChildProcessError\n",
    "          |    +-- ConnectionError\n",
    "          |    |    +-- BrokenPipeError\n",
    "          |    |    +-- ConnectionAbortedError\n",
    "          |    |    +-- ConnectionRefusedError\n",
    "          |    |    +-- ConnectionResetError\n",
    "          |    +-- FileExistsError\n",
    "          |    +-- FileNotFoundError\n",
    "          |    +-- InterruptedError\n",
    "          |    +-- IsADirectoryError\n",
    "          |    +-- NotADirectoryError\n",
    "          |    +-- PermissionError\n",
    "          |    +-- ProcessLookupError\n",
    "          |    +-- TimeoutError\n",
    "          +-- ReferenceError\n",
    "          +-- RuntimeError\n",
    "          |    +-- NotImplementedError\n",
    "          |    +-- RecursionError\n",
    "          +-- StopAsyncIteration\n",
    "          +-- StopIteration\n",
    "          +-- SyntaxError\n",
    "          |    +-- IndentationError\n",
    "          |         +-- TabError\n",
    "          +-- SystemError\n",
    "          +-- TypeError\n",
    "          +-- ValueError\n",
    "          |    +-- UnicodeError\n",
    "          |         +-- UnicodeDecodeError\n",
    "          |         +-- UnicodeEncodeError\n",
    "          |         +-- UnicodeTranslateError\n",
    "          +-- Warning\n",
    "               +-- BytesWarning\n",
    "               +-- DeprecationWarning\n",
    "               +-- EncodingWarning\n",
    "               +-- FutureWarning\n",
    "               +-- ImportWarning\n",
    "               +-- PendingDeprecationWarning\n",
    "               +-- ResourceWarning\n",
    "               +-- RuntimeWarning\n",
    "               +-- SyntaxWarning\n",
    "               +-- UnicodeWarning\n",
    "               +-- UserWarning\n",
    "\n",
    "En la sección [Built-in Exceptions](https://docs.python.org/3/library/exceptions.html#bltin-exceptions) de la documentación de Python se describe cada una de estas clases de excepciones. Es muy recomendable leer dichas descripciones, aunque sea por encima, para hacerse una idea de los tipos de errores de ejecución que pueden producirse (y que podremos manipular).\n",
    "\n",
    ">Nótese que al final de la jerarquía aparecen también los *warnings* (avisos), que si bien técnicamente son clases de excepciones, tienen la particularidad de que es posible utilizar filtros de warnings, mediante los cuales es posible especificar acciones predeterminadas, tanto por categoría como por origen del *warning*. Para más información sobre los warnings y los filtros de warnings, consúltese [Warning Control](https://docs.python.org/3/library/warnings.html) en la documentación de Python."
   ]
  },
  {
   "cell_type": "markdown",
   "metadata": {},
   "source": [
    "## Categorías de excepciones.\n",
    "\n",
    "Una clase de excepciones y todas las subclases derivadas definen una *categoría* de excepciones. Este concepto es importante porque, como veremos en breve, con la sentencia `try` se manipulan categorías de excepciones. Por ejemplo, al ejecutar el siguiente código:\n",
    "\n",
    "    try:\n",
    "        f = open(nombre_archivo)\n",
    "    except OSError:\n",
    "        print(f'No se ha podido abrir el archivo {nombre_archivo}')\n",
    "        \n",
    "estamos especificando una acción no sólo para las excepciones de la clase `OSError`, sino también para todas las clases que derivan de `OSError` como, por ejemplo, `FileNotFoundError` o `PermissionError`.\n",
    "\n",
    "Según el caso, nos interesará manipular categorías de excepciones más amplias, o bien distinguir entre las posibles causas de errores empleando categorías más precisas."
   ]
  },
  {
   "cell_type": "markdown",
   "metadata": {},
   "source": [
    "## Cómo generar una excepción: la sentencia `raise`.\n",
    "\n",
    "Cuando sucede un error de ejecución, Python genera automáticamente una excepción, en dos pasos:\n",
    "\n",
    "1. Se crea una excepción de la clase correspondiente al error producido, pasando al constructor de la excepción argumentos que informan sobre el error causante. Esos argumentos se almacenan en el atributo `args` de la excepción recién creada.\n",
    "\n",
    "2. Se interrumpe la ejecución del programa en el punto donde se ha producido el error causante de la excepción, y se ejecuta la secuencia de acciones definidas para esa excepción. A esto se le llama *manipulación de la excepción* (en inglés, *exception handling*). La secuencia de acciones por defecto consiste en abortar la ejecución del programa y generar un informe de error en el que se mostrará, entre otras cosas, el valor del atributo `args` de la excepción. Como veremos más adelante, es posible [especificar la secuencia de acciones que queramos](#Manipulación-de-excepciones-(exception-handling).) utilizando la sentencia `try`."
   ]
  },
  {
   "cell_type": "markdown",
   "metadata": {},
   "source": [
    "Veamos un ejemplo:"
   ]
  },
  {
   "cell_type": "code",
   "execution_count": 1,
   "metadata": {
    "tags": [
     "raises-exception"
    ]
   },
   "outputs": [
    {
     "ename": "ValueError",
     "evalue": "invalid literal for int() with base 10: '3.5'",
     "output_type": "error",
     "traceback": [
      "\u001b[0;31m---------------------------------------------------------------------------\u001b[0m",
      "\u001b[0;31mValueError\u001b[0m                                Traceback (most recent call last)",
      "\u001b[0;32m<ipython-input-1-cfac68ab62ef>\u001b[0m in \u001b[0;36m<module>\u001b[0;34m\u001b[0m\n\u001b[1;32m      1\u001b[0m \u001b[0mx\u001b[0m \u001b[0;34m=\u001b[0m \u001b[0;34m'3.5'\u001b[0m\u001b[0;34m\u001b[0m\u001b[0;34m\u001b[0m\u001b[0m\n\u001b[0;32m----> 2\u001b[0;31m \u001b[0mprint\u001b[0m\u001b[0;34m(\u001b[0m\u001b[0mint\u001b[0m\u001b[0;34m(\u001b[0m\u001b[0mx\u001b[0m\u001b[0;34m)\u001b[0m\u001b[0;34m)\u001b[0m\u001b[0;34m\u001b[0m\u001b[0;34m\u001b[0m\u001b[0m\n\u001b[0m",
      "\u001b[0;31mValueError\u001b[0m: invalid literal for int() with base 10: '3.5'"
     ]
    }
   ],
   "source": [
    "x = '3.5'\n",
    "print(int(x))"
   ]
  },
  {
   "cell_type": "markdown",
   "metadata": {},
   "source": [
    "¿Qué ha pasado aquí? El intento de crear un `int` a partir de la cadena `3.5` ha producido un error de ejecución, lo cual hace que Python genere una excepción de la clase `ValueError`. Primero crea una excepción de clase `ValueError` pasándole como argumento a su constructor el mensaje `'invalid literal for int()...'`, y a continuación, el manipulador de esa excepción (en este caso, el predeterminado) aborta la ejecución de ese programa y genera un informe de error que incluye ese mensaje.\n",
    "\n",
    "No sólo el intérprete de Python puede generar excepciones. Nosotros también podemos generar excepciones deliberadamente empleando la sentencia `raise`, cuyo argumento será o bien una clase de excepciones:\n",
    "\n",
    "    raise ValueError\n",
    "    \n",
    "o bien una *instancia* de una clase de excepciones:\n",
    "\n",
    "    raise ValueError('El valor debe ser positivo') \n",
    "\n",
    "En el primer caso, Python instancia automáticamente la clase llamando a su constructor sin pasarle ningún argumento. En el segundo caso, se suministran uno o más argumentos con información sobre la causa de la excepción.\n",
    "\n",
    "Evidentemente, la sentencia `raise` la utilizaremos para generar excepciones ante condiciones de error que detectamos programáticamente. Por ejemplo, dentro de una función podríamos detectar que uno o más de sus argumentos no tienen valores aceptables, o que son de un tipo incorrecto."
   ]
  },
  {
   "cell_type": "markdown",
   "metadata": {},
   "source": [
    "### Un ejemplo: la función `ec2grado`.\n",
    "\n",
    "En este ejemplo se aplica `raise` en una función que calcula las raíces de la ecuación de 2º grado, dado que hay casos en los que no es posible calcular dichas raíces:"
   ]
  },
  {
   "cell_type": "code",
   "execution_count": 2,
   "metadata": {},
   "outputs": [],
   "source": [
    "def ec2grado(a, b, c):\n",
    "    if a == 0 and b == 0:\n",
    "        if c == 0:\n",
    "            raise ValueError(f'Error: hay infinitas soluciones para {c}=0')\n",
    "        else:\n",
    "            raise ValueError(f'Error: no existe solución para {c}=0')\n",
    "    elif a == 0:\n",
    "        r = complex(-c/b)\n",
    "        return r, r\n",
    "    elif c == 0: # tratamos aparte este caso para ahorrar una raíz cuadrada\n",
    "        return complex(-b/a), 0j\n",
    "    else:\n",
    "        sqrt_d = complex(b*b - 4*a*c)**0.5\n",
    "        return (-b + sqrt_d)/(2*a), (-b - sqrt_d)/(2*a)"
   ]
  },
  {
   "cell_type": "markdown",
   "metadata": {},
   "source": [
    "La función `ec2grado` retorna dos raíces de tipo `complex`, salvo que no sea posible por tratarse de una ecuación tautológica o contradictoria; en ese caso, la función genera una excepción de la clase `ValueError`, indicando la causa del error. Por otro lado, la función asume que se le pasan tres argumentos numéricos (`int`, `float` o `complex`); de no ser así, sus operaciones provocarían excepciones de la clase `TypeError`.\n",
    "\n",
    "El objetivo es que el comportamiento de la función sea absolutamente coherente: si la ecuación se puede resolver, siempre retornará una tupla con dos raíces de tipo `complex` (puesto que así se abarcan todas las posibilidades). Si ambos parámetros `a` y `b` tienen valor cero la ecuación no es resoluble, por lo que genera una excepción `ValueError`, que es la clase de excepción apropiada para este tipo de error. Y si hay otros problemas con los argumentos (que ya escaparían al control por la propia función), simplemente se traslada la responsabilidad a Python para que éste genere las excepciones adecuadas.\n",
    "\n",
    "En las siguientes celdas se pone a prueba la función `ec2grado` utilizando distintos valores de sus argumentos:"
   ]
  },
  {
   "cell_type": "code",
   "execution_count": 3,
   "metadata": {
    "scrolled": true,
    "tags": [
     "raises-exception"
    ]
   },
   "outputs": [
    {
     "name": "stdout",
     "output_type": "stream",
     "text": [
      "(-0.5j, 1.5j)\n"
     ]
    }
   ],
   "source": [
    "print(ec2grado(4j, 4, (0+3j)))"
   ]
  },
  {
   "cell_type": "code",
   "execution_count": 4,
   "metadata": {
    "scrolled": true,
    "tags": [
     "raises-exception"
    ]
   },
   "outputs": [
    {
     "name": "stdout",
     "output_type": "stream",
     "text": [
      "((-0.49999999999999994+0.8660254037844386j), (-0.5-0.8660254037844386j))\n"
     ]
    }
   ],
   "source": [
    "print(ec2grado(1, 1, 1))"
   ]
  },
  {
   "cell_type": "code",
   "execution_count": 5,
   "metadata": {
    "scrolled": true,
    "tags": [
     "raises-exception"
    ]
   },
   "outputs": [
    {
     "name": "stdout",
     "output_type": "stream",
     "text": [
      "((1+0j), (1+0j))\n"
     ]
    }
   ],
   "source": [
    "print(ec2grado(1, -2, 1))"
   ]
  },
  {
   "cell_type": "code",
   "execution_count": 6,
   "metadata": {
    "scrolled": true,
    "tags": [
     "raises-exception"
    ]
   },
   "outputs": [
    {
     "name": "stdout",
     "output_type": "stream",
     "text": [
      "((4+0j), (-4+0j))\n"
     ]
    }
   ],
   "source": [
    "print(ec2grado(1, 0, -16))"
   ]
  },
  {
   "cell_type": "code",
   "execution_count": 7,
   "metadata": {
    "scrolled": true,
    "tags": [
     "raises-exception"
    ]
   },
   "outputs": [
    {
     "ename": "ValueError",
     "evalue": "Error: no existe solución para 1=0",
     "output_type": "error",
     "traceback": [
      "\u001b[0;31m---------------------------------------------------------------------------\u001b[0m",
      "\u001b[0;31mValueError\u001b[0m                                Traceback (most recent call last)",
      "\u001b[0;32m<ipython-input-7-107ba4f59304>\u001b[0m in \u001b[0;36m<module>\u001b[0;34m\u001b[0m\n\u001b[0;32m----> 1\u001b[0;31m \u001b[0mprint\u001b[0m\u001b[0;34m(\u001b[0m\u001b[0mec2grado\u001b[0m\u001b[0;34m(\u001b[0m\u001b[0;36m0\u001b[0m\u001b[0;34m,\u001b[0m \u001b[0;36m0\u001b[0m\u001b[0;34m,\u001b[0m \u001b[0;36m1\u001b[0m\u001b[0;34m)\u001b[0m\u001b[0;34m)\u001b[0m\u001b[0;34m\u001b[0m\u001b[0;34m\u001b[0m\u001b[0m\n\u001b[0m",
      "\u001b[0;32m<ipython-input-2-93c7c938b7fc>\u001b[0m in \u001b[0;36mec2grado\u001b[0;34m(a, b, c)\u001b[0m\n\u001b[1;32m      4\u001b[0m             \u001b[0;32mraise\u001b[0m \u001b[0mValueError\u001b[0m\u001b[0;34m(\u001b[0m\u001b[0;34mf'Error: hay infinitas soluciones para {c}=0'\u001b[0m\u001b[0;34m)\u001b[0m\u001b[0;34m\u001b[0m\u001b[0;34m\u001b[0m\u001b[0m\n\u001b[1;32m      5\u001b[0m         \u001b[0;32melse\u001b[0m\u001b[0;34m:\u001b[0m\u001b[0;34m\u001b[0m\u001b[0;34m\u001b[0m\u001b[0m\n\u001b[0;32m----> 6\u001b[0;31m             \u001b[0;32mraise\u001b[0m \u001b[0mValueError\u001b[0m\u001b[0;34m(\u001b[0m\u001b[0;34mf'Error: no existe solución para {c}=0'\u001b[0m\u001b[0;34m)\u001b[0m\u001b[0;34m\u001b[0m\u001b[0;34m\u001b[0m\u001b[0m\n\u001b[0m\u001b[1;32m      7\u001b[0m     \u001b[0;32melif\u001b[0m \u001b[0ma\u001b[0m \u001b[0;34m==\u001b[0m \u001b[0;36m0\u001b[0m\u001b[0;34m:\u001b[0m\u001b[0;34m\u001b[0m\u001b[0;34m\u001b[0m\u001b[0m\n\u001b[1;32m      8\u001b[0m         \u001b[0mr\u001b[0m \u001b[0;34m=\u001b[0m \u001b[0mcomplex\u001b[0m\u001b[0;34m(\u001b[0m\u001b[0;34m-\u001b[0m\u001b[0mc\u001b[0m\u001b[0;34m/\u001b[0m\u001b[0mb\u001b[0m\u001b[0;34m)\u001b[0m\u001b[0;34m\u001b[0m\u001b[0;34m\u001b[0m\u001b[0m\n",
      "\u001b[0;31mValueError\u001b[0m: Error: no existe solución para 1=0"
     ]
    }
   ],
   "source": [
    "print(ec2grado(0, 0, 1))"
   ]
  },
  {
   "cell_type": "code",
   "execution_count": 8,
   "metadata": {
    "scrolled": true,
    "tags": [
     "raises-exception"
    ]
   },
   "outputs": [
    {
     "ename": "TypeError",
     "evalue": "unsupported operand type(s) for -: 'int' and 'str'",
     "output_type": "error",
     "traceback": [
      "\u001b[0;31m---------------------------------------------------------------------------\u001b[0m",
      "\u001b[0;31mTypeError\u001b[0m                                 Traceback (most recent call last)",
      "\u001b[0;32m<ipython-input-8-94f45f1fd9b6>\u001b[0m in \u001b[0;36m<module>\u001b[0;34m\u001b[0m\n\u001b[0;32m----> 1\u001b[0;31m \u001b[0mprint\u001b[0m\u001b[0;34m(\u001b[0m\u001b[0mec2grado\u001b[0m\u001b[0;34m(\u001b[0m\u001b[0;36m2\u001b[0m\u001b[0;34m,\u001b[0m \u001b[0;36m8\u001b[0m\u001b[0;34m,\u001b[0m \u001b[0;34m'1'\u001b[0m\u001b[0;34m)\u001b[0m\u001b[0;34m)\u001b[0m\u001b[0;34m\u001b[0m\u001b[0;34m\u001b[0m\u001b[0m\n\u001b[0m",
      "\u001b[0;32m<ipython-input-2-93c7c938b7fc>\u001b[0m in \u001b[0;36mec2grado\u001b[0;34m(a, b, c)\u001b[0m\n\u001b[1;32m     11\u001b[0m         \u001b[0;32mreturn\u001b[0m \u001b[0mcomplex\u001b[0m\u001b[0;34m(\u001b[0m\u001b[0;34m-\u001b[0m\u001b[0mb\u001b[0m\u001b[0;34m/\u001b[0m\u001b[0ma\u001b[0m\u001b[0;34m)\u001b[0m\u001b[0;34m,\u001b[0m \u001b[0;36m0j\u001b[0m\u001b[0;34m\u001b[0m\u001b[0;34m\u001b[0m\u001b[0m\n\u001b[1;32m     12\u001b[0m     \u001b[0;32melse\u001b[0m\u001b[0;34m:\u001b[0m\u001b[0;34m\u001b[0m\u001b[0;34m\u001b[0m\u001b[0m\n\u001b[0;32m---> 13\u001b[0;31m         \u001b[0msqrt_d\u001b[0m \u001b[0;34m=\u001b[0m \u001b[0mcomplex\u001b[0m\u001b[0;34m(\u001b[0m\u001b[0mb\u001b[0m\u001b[0;34m*\u001b[0m\u001b[0mb\u001b[0m \u001b[0;34m-\u001b[0m \u001b[0;36m4\u001b[0m\u001b[0;34m*\u001b[0m\u001b[0ma\u001b[0m\u001b[0;34m*\u001b[0m\u001b[0mc\u001b[0m\u001b[0;34m)\u001b[0m\u001b[0;34m**\u001b[0m\u001b[0;36m0.5\u001b[0m\u001b[0;34m\u001b[0m\u001b[0;34m\u001b[0m\u001b[0m\n\u001b[0m\u001b[1;32m     14\u001b[0m         \u001b[0;32mreturn\u001b[0m \u001b[0;34m(\u001b[0m\u001b[0;34m-\u001b[0m\u001b[0mb\u001b[0m \u001b[0;34m+\u001b[0m \u001b[0msqrt_d\u001b[0m\u001b[0;34m)\u001b[0m\u001b[0;34m/\u001b[0m\u001b[0;34m(\u001b[0m\u001b[0;36m2\u001b[0m\u001b[0;34m*\u001b[0m\u001b[0ma\u001b[0m\u001b[0;34m)\u001b[0m\u001b[0;34m,\u001b[0m \u001b[0;34m(\u001b[0m\u001b[0;34m-\u001b[0m\u001b[0mb\u001b[0m \u001b[0;34m-\u001b[0m \u001b[0msqrt_d\u001b[0m\u001b[0;34m)\u001b[0m\u001b[0;34m/\u001b[0m\u001b[0;34m(\u001b[0m\u001b[0;36m2\u001b[0m\u001b[0;34m*\u001b[0m\u001b[0ma\u001b[0m\u001b[0;34m)\u001b[0m\u001b[0;34m\u001b[0m\u001b[0;34m\u001b[0m\u001b[0m\n",
      "\u001b[0;31mTypeError\u001b[0m: unsupported operand type(s) for -: 'int' and 'str'"
     ]
    }
   ],
   "source": [
    "print(ec2grado(2, 8, '1'))"
   ]
  },
  {
   "cell_type": "markdown",
   "metadata": {},
   "source": [
    "## Manipulación de excepciones (*exception handling*).\n",
    "\n",
    "Tras estudiar qué son las excepciones, qué clases de excepciones incluye Python y su jerarquía, y cómo generar excepciones a voluntad, veremos ahora cómo podemos especificar las acciones a realizar cuando se produzcan ciertas clases de excepciones. Las acciones que se ejecutan para manejar una cierta clase de excpción constituyen lo que se denomina *manipulador de la excepción* (en inglés, *exception handler*)."
   ]
  },
  {
   "cell_type": "markdown",
   "metadata": {},
   "source": [
    "### La sentencia `try`.\n",
    "\n",
    "Empecemos con un ejemplo sencillo en el que además se muestra un uso clásico de las excepciones para solucionar problemas con la entrada de datos:\n",
    "\n",
    "    while True:\n",
    "        try:\n",
    "            x = int(input('Dame un número entero: '))\n",
    "            break\n",
    "        except ValueError:\n",
    "            print('Eso no era un número válido. Prueba otra vez.')\n",
    "    print(f'Has introducido el valor {x}')\n",
    "\n",
    "Este código pedirá repetidamente un número entero mientras introduzcamos cadenas que no tienen el formato correcto, ya que en ese caso la llamada a `int` generaría una excepción `ValueError`, y en consecuencia no llegaría a ejecutarse la sentencia `break`. En respuesta a dicha excepción, se procederá con el código de la cláusula `except`, mostrándose el mensaje que rechaza el valor introducido. Cuando introduzcamos una cadena con el formato adecuado, la llamda a `int` funcionará correctamente y se ejecutará el `break`, con lo que terminará el ciclo `while` y se mostrará el valor introducido. Por ejemplo:\n",
    "\n",
    "    Dame un número entero: PEPE\n",
    "    Eso no era un número válido. Prueba otra vez.\n",
    "    Dame un número entero: 3.5\n",
    "    Eso no era un número válido. Prueba otra vez.\n",
    "    Dame un número entero: 8\n",
    "    Has introducido el valor 8\n",
    "    \n",
    "Una sentencia `try` en su forma más simple funciona del siguiente modo:\n",
    "\n",
    "- Se ejecutan las sentencias de la cláusula `try`.\n",
    "- Si ninguna de esas sentencias genera una excepción, la sentencia `try` finaliza.\n",
    "- Si alguna de las sentencias del bloque `try` genera una excepción, la ejecución del bloque `try` finaliza y se pasa al bloque `except`, tal como sigue:\n",
    "    - Si la clase de la excepción pertenece a la categoría de excepciones especificada tras la claúsula `except` (es decir, a esa clase o a sus derivadas), se ejecutan las sentencias de la cláusula `except` (el manipulador especificado para esa clase de excepciones).\n",
    "    - En caso contrario, la excepción se va traspasando a sentencias `try` más externas, si las hay.\n",
    "    - Si finalmente no se encuentra ninguna cláusula `except` para esa excepción, se considera como una excepción no manipulada y Python aplica su manipulador predeterminado: detiene la ejecución del programa adjuntando un informe de error.\n",
    "    \n",
    "> Nótese que este procesamiento sólo se aplica a las excepciones que se producen en el bloque `try`, y no a las que ocurran en las cláusulas `except`, `else` o `finally` (que trataremos en breve)."
   ]
  },
  {
   "cell_type": "markdown",
   "metadata": {},
   "source": [
    "### La sentencia  `try` con múltiples cláusulas `except`.\n",
    "\n",
    "Una sentencia `try` puede tener varias cláusulas `except` con manipuladores para diferentes categorías de excepciones. Si hay más de una cláusula `except` en la que encaje una excepción surgida en la cláusula `try`, se utiliza la que figure en primer lugar. Esto es de aplicación cuando hay manipuladores para una clase de excepción y también para alguna de sus clases derivadas. Por ejemplo, sabemos que la clase `FileNotFoundError` deriva de la clase `OSError`. Veamos qué sucede al ejecutar el código siguiente:"
   ]
  },
  {
   "cell_type": "code",
   "execution_count": 9,
   "metadata": {},
   "outputs": [
    {
     "name": "stdout",
     "output_type": "stream",
     "text": [
      "*** archivo no encontrado ***\n"
     ]
    }
   ],
   "source": [
    "try:\n",
    "    raise FileNotFoundError\n",
    "except FileNotFoundError:\n",
    "    print('*** archivo no encontrado ***')\n",
    "except OSError:\n",
    "    print('*** error de sistema operativo ***')"
   ]
  },
  {
   "cell_type": "markdown",
   "metadata": {},
   "source": [
    "Pero si invertimos el orden de las cláusulas `except`:"
   ]
  },
  {
   "cell_type": "code",
   "execution_count": 10,
   "metadata": {},
   "outputs": [
    {
     "name": "stdout",
     "output_type": "stream",
     "text": [
      "*** error de sistema operativo ***\n"
     ]
    }
   ],
   "source": [
    "try:\n",
    "    raise FileNotFoundError\n",
    "except OSError:\n",
    "    print('*** error de sistema operativo ***')\n",
    "except FileNotFoundError:\n",
    "    print('*** archivo no encontrado ***')"
   ]
  },
  {
   "cell_type": "markdown",
   "metadata": {},
   "source": [
    "Lo que sucede es que `FileNotFoundError` encaja tanto en la categoría de su propia clase como en la categoría superior `OSError` (ya que ésta incluye a sus clases derivadas). En consecuencia, el orden de las cláusulas `except` es importante, ya que, como hemos dicho, si la excepción encaja en más de una se ejecutará la que figure en primer lugar."
   ]
  },
  {
   "cell_type": "markdown",
   "metadata": {},
   "source": [
    "### Una misma claúsula  `except` para varias excepciones.\n",
    "\n",
    "Podemos especificar un mismo manipulador para varias categorías de excepciones, formando con ellas una tupla, como en este ejemplo:\n",
    "\n",
    "    except (TypeError, NameError, SyntaxError):\n",
    "        ..."
   ]
  },
  {
   "cell_type": "markdown",
   "metadata": {},
   "source": [
    "### Una claúsula  `except`  *comodín*.\n",
    "\n",
    "En la última cláusula `except` podemos omitir la clase de excepción, creando así un manipulador *comodín* (*wildcard*) que se aplicaría a cualquier excepción que haya ocurrido en la cláusula `try` y que no haya encajado en ninguna de las cláusulas `except` anteriores. **Esto es potencialmente peligroso** ya que puede enmascarar otros errores del programa. No obstante, puede resultar útil para mostrar un mensaje informando de que se ha producido un error inesperado en el bloque `try`, y acto seguido emplear `raise` (sin argumento) para así re-generar la misma excepción que hemos estado manipulando:\n",
    "\n",
    "    try:\n",
    "        ...\n",
    "    except ValueError:\n",
    "        ...\n",
    "    except TypeError:\n",
    "        ...\n",
    "    except:\n",
    "        print('*** ERROR INESPERADO ***')\n",
    "        raise\n",
    "\n",
    "De ese modo, tras informar del problema esa excepción se traspasaría al siguiente `try` más externo, si lo hay, o quedaría no manipulada."
   ]
  },
  {
   "cell_type": "markdown",
   "metadata": {},
   "source": [
    "### Acceso a los argumentos de una excepción.\n",
    "\n",
    "Al generarse una excepción se crea una instancia de la clase correspondiente, a veces con información anexa relativa al error que la ha producido, que es entregada a través de los argumentos del constructor. Para acceder a dichos argumentos desde el bloque manipulador, se utiliza `except` del siguiente modo:\n",
    "\n",
    "    except <categoría(s) de excepciones> as <instance>:\n",
    "        ...\n",
    "        \n",
    "De ese modo, la variable *instance* hará referencia a la instancia de la excepción que se esté manipulando y nos permitirá acceder a los argumentos que se le hayan pasado en el momento de generarla, mediante el atributo `args` (que contendrá una tupla con los argumentos):\n",
    "\n",
    "    instance.args\n",
    "\n",
    "Como siempre, la mejor forma de entender esto es con un ejemplo:"
   ]
  },
  {
   "cell_type": "code",
   "execution_count": 11,
   "metadata": {},
   "outputs": [
    {
     "name": "stdout",
     "output_type": "stream",
     "text": [
      "Clase: <class 'Exception'>\n",
      "Argumentos: ('uno', 'dos', 'tres')\n"
     ]
    }
   ],
   "source": [
    "try:\n",
    "    raise Exception('uno', 'dos', 'tres')\n",
    "except Exception as instancia:\n",
    "    print('Clase:', type(instancia))      # Confirmemos que es una instancia de la clase Exception\n",
    "    print('Argumentos:', instancia.args)  # Tupla de argumentos de la excepción"
   ]
  },
  {
   "cell_type": "markdown",
   "metadata": {},
   "source": [
    "### La cláusula `else`.\n",
    "\n",
    "Opcionalmente, tras las cláusulas `except` podemos añadir una cláusula `else`, que tiene un sentido similar a las que se pueden utilizar con otras sentencias como `for` y `while`: *las sentencias de la cláusula `else` se ejecutan si y sólo si no se ha producido ninguna excepción en la cláusula `try`*.\n",
    "\n",
    "Dentro de la cláusula `else` debemos colocar las sentencias cuya correcta ejecución *depende* de que las sentencias de la cláusula `try` se hayan ejecutado sin problema alguno. Esto es mucho más robusto que simplemente ubicarlas a continuación (es decir, fuera) de la sentencia `try`."
   ]
  },
  {
   "cell_type": "markdown",
   "metadata": {},
   "source": [
    "### Ejemplo completo: programa para calcular las raíces de una ecuación de 2º grado.\n",
    "\n",
    "En el siguiente ejemplo se utiliza [la función `ec2grado`](#Ejemplo:-función-ec2grado) para calcular las raíces de una ecuación de 2º grado, rodeando la llamada a `ec2grado` del código necesario para gestionar los errores que se produzcan en la introducción de datos o en la propia llamada.\n",
    "\n",
    "El programa consiste en un bucle en el que se solicitan valores para los tres coeficientes de la ecuación, bucle que finaliza si se introduce una cadena vacía. En caso contrario, se utiliza `eval` para evaluar la cadena de entrada, lo que debe resultar en una tupla con tres valores numéricos, que se desempaquetan y asignan a las variables `a`, `b` y `c`. Siempre que la evaluación o la asignación fallen por cualquier causa, se muestra un mensaje de error y se da otra oportunidad de introducir los valores de los coeficientes. Una vez que se han obtenido tres valores, se pasan como argumentos a la función `ec2grado`, durante cuya ejecución puede surgir bien una excepción `TypeError` (si es que uno de los tres argumentos no es numérico), o bien una excepción `ValueError` (si la ecuación no tiene solución con esos argumentos). Obsérvese también cómo se utiliza la cláusula `else` para mostrar las soluciones de la ecuación sólo en el caso de que la función se haya ejecutado con éxito."
   ]
  },
  {
   "cell_type": "code",
   "execution_count": 12,
   "metadata": {},
   "outputs": [
    {
     "name": "stdout",
     "output_type": "stream",
     "text": [
      "Introduzca los coeficientes a, b, c (sólo Intro para terminar): 1, 1, 1\n",
      "Solución 1: (-0.49999999999999994+0.8660254037844386j)\n",
      "Solución 2: (-0.5-0.8660254037844386j)\n",
      "Introduzca los coeficientes a, b, c (sólo Intro para terminar): 1, 0, -16\n",
      "Solución 1: (4+0j)\n",
      "Solución 2: (-4+0j)\n",
      "Introduzca los coeficientes a, b, c (sólo Intro para terminar): 0, 0, 1\n",
      "Error: no existe solución para 1=0\n",
      "Introduzca los coeficientes a, b, c (sólo Intro para terminar): 0, 0, 0\n",
      "Error: hay infinitas soluciones para 0=0\n",
      "Introduzca los coeficientes a, b, c (sólo Intro para terminar): \n",
      "Programa terminado\n"
     ]
    }
   ],
   "source": [
    "while True:\n",
    "    entrada = input('Introduzca los coeficientes a, b, c (sólo Intro para terminar): ')\n",
    "    if entrada == '':\n",
    "        print('Programa terminado')\n",
    "        break\n",
    "        \n",
    "    try:\n",
    "        a, b, c = eval(entrada)\n",
    "    except:\n",
    "        print('Error: deben introducirse tres expresiones numéricas separadas por comas')\n",
    "        continue\n",
    "\n",
    "    try:\n",
    "        sol1, sol2 = ec2grado(a, b, c)\n",
    "    except TypeError:\n",
    "        print('Error: los tres coeficientes deben ser numéricos')\n",
    "    except ValueError as e:\n",
    "        print(e)\n",
    "    else:\n",
    "        if sol1 == sol2:\n",
    "            print('Solución:', sol1)\n",
    "        else:\n",
    "            print('Solución 1:', sol1)\n",
    "            print('Solución 2:', sol2)"
   ]
  },
  {
   "cell_type": "markdown",
   "metadata": {},
   "source": [
    "### La cláusula `finally`.\n",
    "\n",
    "La sentencia `try` admite un último tipo de cláusula opcional: `finally`, la cual, en caso de utilizarse, debe figurar en último lugar. Las sentencias de esta cláusula se ejecutan *siempre*, ocurra lo que ocurra en las cláusulas `try`, `except` o `else`. Su finalidad (nunca mejor dicho) es realizar una **limpieza** tras los posibles problemas que se hayan encontrado en la sentencia `try`. Típicamente, dicha limpieza consistirá en liberar recursos que hayan empezado a utilizarse antes de generarse una excepción; por ejemplo, cerrar archivos, cerrar conexiones de red, etc.\n",
    "\n",
    "Considerando la cláusula `finally`, éstas son las posibles situaciones que se pueden dar:\n",
    "\n",
    "- Si se produce una excepción en la cláusula `try`, puede que sea manipulada por una cláusula `except`; de no ser así, la excepción se genera de nuevo automáticamente *después* de ejecutar la cláusula `finally`.\n",
    "- Si se produce una excepción en una cláusula `except` o `else`, también se genera de nuevo dicha excepción *después* de ejecutar la cláusula `finally`.\n",
    "- Si en la cláusula `try` se alcanza una sentencia `break`, `continue` o `return`, la cláusula `finally` se ejecutará justo antes de que se ejecute esa sentencia.\n",
    "- Si tanto la cláusula `try` como la cláusula `finally` incluyen sendas sentencias `return`, el valor de retorno será el del `return` de la cláusula `finally` y no el de la claúsula `try`.\n",
    "\n",
    "En definitiva, si una sentencia `try` posee una cláusula `finally`, siempre será ésta lo último que se ejecute antes de salir de la sentencia `try`, sea del modo que sea."
   ]
  },
  {
   "cell_type": "markdown",
   "metadata": {},
   "source": [
    "## Definición de clases de excepciones.\n",
    "\n",
    "Por supuesto, podemos definir nuestras propias clases de excepciones. Resulta mucho más fácil identificar y manipular ciertos errores (específicos de nuestro programa) si estos generan excepciones específicas. Como siempre, lo mejor es verlo con un ejemplo.\n",
    "\n",
    "A continuación se define una función `check_dni` que verifica la corrección de un número de DNI (nacional o de extranjero residente) con o sin letra final. Si no hya letra final, dicha letra se calcula y se añade automáticamente; si hay letra final, se comprueba si dicho número es correcto. La función también comprueba si su argumento es del tipo adecuado, y si tiene el formato correcto tanto para un DNI nacional como de extranjero residente.\n",
    "\n",
    "Junto con la función `check_dni`, se define una nueva clase de excepción `DNIError` como subclase de `Exception`, y a su vez, dos subclases específicas de `DNIError`: `DNIFormatError` y `DNICheckError`. De ese modo, dentro de una sentencia `try` podremos definir manipuladores tanto para la categoría `DNIError` como para las dos subcategorías más específicas, según lo que nos interese.\n",
    "\n",
    "Obsérvese que las clases de excepciones definidas aquí no añaden funcionalidades o atributos a la clase `Exception`. Su utilidad es simplemente *existir como clases diferenciadas* de las predefinidas en Python."
   ]
  },
  {
   "cell_type": "code",
   "execution_count": 15,
   "metadata": {},
   "outputs": [],
   "source": [
    "class DNIError(Exception):\n",
    "    pass\n",
    "\n",
    "class DNIFormatError(DNIError):\n",
    "    pass\n",
    "\n",
    "class DNICheckError(DNIError):\n",
    "    pass\n",
    "\n",
    "def check_dni(dni):\n",
    "    letras = 'TRWAGMYFPDXBNJZSQVHLCKE'\n",
    "    letra_extrj = {'X': '0', 'Y': '1', 'Z': '2'}\n",
    "    if type(dni) is not str:\n",
    "        raise TypeError(f'{dni!r} no es de tipo str')\n",
    "    if len(dni) not in (8, 9):\n",
    "        raise DNIFormatError(f'La longitud de {dni!r} es incorrecta')\n",
    "    num = dni[:8]\n",
    "    if not num[0].isdecimal() and not num[0] in 'XYZ' or not num[1:].isdecimal():\n",
    "        raise DNIFormatError(f'El formato de {dni!r} es incorrecto')\n",
    "    if num[0] in 'XYZ':\n",
    "        num = letra_extrj[num[0]] + num[1:]\n",
    "    letra_final = letras[int(num) % len(letras)]\n",
    "    if len(dni) == 9:\n",
    "        if dni[8] not in letras:\n",
    "            raise DNIFormatError(f'El DNI {dni!r} carece de la letra final')\n",
    "        if dni[8] != letra_final:\n",
    "            raise DNICheckError(f'Error al verificar el DNI {dni!r}')\n",
    "    else:\n",
    "        dni = dni + letra_final\n",
    "    return dni"
   ]
  },
  {
   "cell_type": "markdown",
   "metadata": {},
   "source": [
    "En la celda siguiente se puede jugar con la función `check_dni`:"
   ]
  },
  {
   "cell_type": "code",
   "execution_count": 17,
   "metadata": {
    "tags": [
     "raises-exception"
    ]
   },
   "outputs": [
    {
     "name": "stdout",
     "output_type": "stream",
     "text": [
      "Introduce un DNI (Intro para acabar): 12345678\n",
      "DNI verificado: 12345678Z\n",
      "Introduce un DNI (Intro para acabar): 12345678G\n",
      "Error al verificar el DNI '12345678G'\n",
      "Introduce un DNI (Intro para acabar): X1234567H\n",
      "Error al verificar el DNI 'X1234567H'\n",
      "Introduce un DNI (Intro para acabar): X1234567\n",
      "DNI verificado: X1234567L\n",
      "Introduce un DNI (Intro para acabar): 123456\n",
      "La longitud de '123456' es incorrecta\n",
      "Introduce un DNI (Intro para acabar): \n"
     ]
    }
   ],
   "source": [
    "while True:\n",
    "    try:\n",
    "        dni = input(\"Introduce un DNI (Intro para acabar): \")\n",
    "        if not dni:\n",
    "            break\n",
    "        dni = check_dni(dni)\n",
    "    except DNIError as e:\n",
    "        print(e)\n",
    "    else:\n",
    "        print(f'DNI verificado: {dni}')"
   ]
  }
 ],
 "metadata": {
  "kernelspec": {
   "display_name": "Python 3",
   "language": "python",
   "name": "python3"
  },
  "language_info": {
   "codemirror_mode": {
    "name": "ipython",
    "version": 3
   },
   "file_extension": ".py",
   "mimetype": "text/x-python",
   "name": "python",
   "nbconvert_exporter": "python",
   "pygments_lexer": "ipython3",
   "version": "3.8.2"
  },
  "nteract": {
   "version": "0.28.0"
  }
 },
 "nbformat": 4,
 "nbformat_minor": 5
}
