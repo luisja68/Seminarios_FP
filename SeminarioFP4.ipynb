{
  "cells": [
    {
      "cell_type": "markdown",
      "source": [
        "# Seminario 4 de Python: Excepciones.\n",
        "\n",
        "Ante la aparición de un error durante la ejecución de un programa que estamos desarrollando, lo aconsejable es no hacer nada especial y dejar que se aborte la ejecución del programa, ya que es necesario conocer en qué circunstancias se ha producido dicho error. No obstante, cuando preparamos un programa para que pueda ponerse en producción y ser utilizado por cualquier persona, resulta apropiado tratar de prever las circunstancias más usuales en las que puedan generarse errores y, o bien impedir que se dé cada una de esas circunstancias (lo cual puede ser muy difícil o prácticamente imposible), o bien gestionar esos errores (por ejemplo, informando de su causa al usuario) de modo que el programa pueda seguir funcionando aunque alguna operación haya fallado. Ejemplo típico: el usuario suministra al programa un nombre de archivo con datos de entrada, pero ese archivo no se puede abrir –quizá porque no existe–. En ese caso, lo apropiado es informar del problema al usuario, posibilitando que suministre otro nombre de archivo si lo desea.\n",
        "\n",
        "Existen muchísimas situaciones que, por su propia naturaleza, son imprevisibles; con frecuencia, relacionadas con la entrada de datos o, en general, con los interfaces de usuario (sean de texto o gráficos). Resulta tremendamente difícil anticipar todo lo que puede ir mal con fuentes externas a un programa: un nombre de archivo mal escrito; datos de entrada que no poseen el formato o tipo correctos; sensores que proporcionan lecturas absurdas o contradictorias, etc.\n",
        "\n",
        "> Téngase en cuenta que existen situaciones en las que un programa simplemente *no debe dejar de funcionar bajo ninguna circunstancia*; en el peor de los casos, deberá iniciar estrategias orientadas a preservar en la medida de lo posible la integridad de aquello que se halla bajo su control. Desgraciadamente, no siempre es posible prever todo lo que puede ir mal, por lo que habrá que asumir la posibilidad de que se produzcan errores durante la ejecución, resultando fundamental gestionar esos errores adecuadamente.\n",
        "\n",
        "La mayoría de los lenguajes de programación modernos cuentan con mecanismos que posibilitan gestionar los posibles errores que puedan generarse durante la ejecución de un programa. De hecho, muchos de esos mecanismos se basan en la misma idea: considerar esos errores como eventos excepcionales (*excepciones*), y ofrecer una forma de *capturar* dichas excepciones de modo que, en lugar de mostrar un mensaje de error y abortar la ejecución del programa, se realice algún tipo de acción alternativa. El objetivo de este seminario es, precisamente, familiarizarnos con el mecanismo de excepciones de Python.\n",
        "\n",
        "\n",
        "## Errores sintácticos y de ejecución.\n",
        "\n",
        "Con cualquier lenguaje de programación nos encontraremos con dos clases de errores: aquéllos que se producen  al  *traducir* el código fuente; y aquéllos que tienen lugar durante la *ejecución* del programa.\n",
        "\n",
        "Los errores de la primera clase suelen ser *sintácticos*, originados por una sentencia o expresión que viola las reglas gramaticales del lenguaje. En los lenguajes compilados la traducción del código es una fase claramente diferenciada y previa a la ejecución, por lo que los errores sintácticos sólo se producen durante la compilación. Sin embargo, en los lenguajes interpretados la fase de traducción no está tan claramente diferenciada de la fase de ejecución, por lo que pueden darse circunstancias en las que un error sintáctico se detecte una vez iniciada la ejecución del programa. Por ejemplo, en Python podría iniciarse la ejecución de un script con total normalidad, y producirse un error sintáctico en el momento en que se importa un módulo cuyo código contiene ese error (ésta es una excelente razón por la que es conveniente importar los módulos al comienzo de los scripts).\n",
        "\n",
        "> Antes de iniciar la ejecución de un script, y también al importar cualquier módulo, Python realiza una traducción completa del código fuente del script o del módulo a un código intermedio (comúnmente llamado *bytecode*) optimizado para su interpretación subsiguiente. En consecuencia, los errores sintácticos se detectan y reportan durante dicha traducción preliminar. Es más, cuando se importa un módulo `xyz`, Python primero trata de utilizar el archivo `xyz.pyc`; si no existe, entonces utilizará el archivo `xyz.py`, almacenando el *bytecode* resultante de su traducción en `xyz.pyc` para usos posteriores. Si existen ambos archivos: `xyz.py` y `xyz.pyc`, se utilizará el primero sólo si ha sido modificado más recientemente que el segundo.\n",
        "\n",
        "Los errores de la segunda clase (generados durante la ejecución) pueden ser de muy diversos tipos y causas. En Python estos errores se caracterizan por desencadenar excepciones, que en caso de necesidad podremos capturar y gestionar.\n",
        "\n",
        "\n",
        "## Clases de excepciones predefinidas en Python.\n",
        "\n",
        "Antes de abordar cómo gestionarlas, es preciso ver qué clases de excepciones vienen *de serie* con Python.\n",
        "\n",
        "Dado que Python es un lenguaje orientado a objetos, no debe resultar sorprendente que existan clases de excepciones. Las excepciones en sí no son otra cosa que *instancias* de alguna clase de excepciones. **Cuando debido a un error se desencadena una excepción, Python crea automáticamente una instancia de la clase de excepción correspondiente a ese error.** Normalmente, esa instancia incluirá atributos con información adicional sobre el error producido.\n",
        "\n",
        "Existe toda una jerarquía de clases de excepciones, que deriva en su totalidad de la clase `BaseException`. En realidad, la gran mayoría de clases de excepciones derivan de la clase `Exception`, que es a su vez una subclase de `BaseException`. A continuación se muestra la jerarquía completa de clases de excepciones de Python 3.9:\n",
        "\n",
        "    BaseException\n",
        "     +-- SystemExit\n",
        "     +-- KeyboardInterrupt\n",
        "     +-- GeneratorExit\n",
        "     +-- Exception\n",
        "          +-- StopIteration\n",
        "          +-- StopAsyncIteration\n",
        "          +-- ArithmeticError\n",
        "          |    +-- FloatingPointError\n",
        "          |    +-- OverflowError\n",
        "          |    +-- ZeroDivisionError\n",
        "          +-- AssertionError\n",
        "          +-- AttributeError\n",
        "          +-- BufferError\n",
        "          +-- EOFError\n",
        "          +-- ImportError\n",
        "          |    +-- ModuleNotFoundError\n",
        "          +-- LookupError\n",
        "          |    +-- IndexError\n",
        "          |    +-- KeyError\n",
        "          +-- MemoryError\n",
        "          +-- NameError\n",
        "          |    +-- UnboundLocalError\n",
        "          +-- OSError\n",
        "          |    +-- BlockingIOError\n",
        "          |    +-- ChildProcessError\n",
        "          |    +-- ConnectionError\n",
        "          |    |    +-- BrokenPipeError\n",
        "          |    |    +-- ConnectionAbortedError\n",
        "          |    |    +-- ConnectionRefusedError\n",
        "          |    |    +-- ConnectionResetError\n",
        "          |    +-- FileExistsError\n",
        "          |    +-- FileNotFoundError\n",
        "          |    +-- InterruptedError\n",
        "          |    +-- IsADirectoryError\n",
        "          |    +-- NotADirectoryError\n",
        "          |    +-- PermissionError\n",
        "          |    +-- ProcessLookupError\n",
        "          |    +-- TimeoutError\n",
        "          +-- ReferenceError\n",
        "          +-- RuntimeError\n",
        "          |    +-- NotImplementedError\n",
        "          |    +-- RecursionError\n",
        "          +-- SyntaxError\n",
        "          |    +-- IndentationError\n",
        "          |         +-- TabError\n",
        "          +-- SystemError\n",
        "          +-- TypeError\n",
        "          +-- ValueError\n",
        "          |    +-- UnicodeError\n",
        "          |         +-- UnicodeDecodeError\n",
        "          |         +-- UnicodeEncodeError\n",
        "          |         +-- UnicodeTranslateError\n",
        "          +-- Warning\n",
        "               +-- DeprecationWarning\n",
        "               +-- PendingDeprecationWarning\n",
        "               +-- RuntimeWarning\n",
        "               +-- SyntaxWarning\n",
        "               +-- UserWarning\n",
        "               +-- FutureWarning\n",
        "               +-- ImportWarning\n",
        "               +-- UnicodeWarning\n",
        "               +-- BytesWarning\n",
        "               +-- ResourceWarning\n",
        "\n",
        "En la sección [Built-in Exceptions](https://docs.python.org/3/library/exceptions.html#bltin-exceptions) de la documentación de Python se describe cada una de estas clases de excepciones. Es muy recomendable leer dichas descripciones, siquiera someramente, para hacerse una idea de los tipos de errores de ejecución que pueden producirse (y que podremos manipular).\n",
        "\n",
        ">Nótese que al final de la jerarquía aparecen también los *warnings*, que si bien técnicamente son clases de excepciones, tienen la particularidad de que es posible utilizar filtros de warnings, mediante los cuales podemos especificar la acción predeterminada para los warnings, tanto por categoría como por origen. Para más información sobre los warnings y los filtros de warnings, consúltese [Warning Control](https://docs.python.org/3/library/warnings.html) en la documentación de Python.\n",
        "\n",
        "\n",
        "### Categorías de excepciones.\n",
        "\n",
        "Una clase de excepciones y todas sus descendientes definen una *categoría* de excepciones. Este concepto es importante porque, como veremos en breve, con la sentencia `try` se manipulan categorías de excepciones: por ejemplo, si hacemos algo como\n",
        "\n",
        "    try:\n",
        "        f = open(nombre_archivo)\n",
        "    except OSError:\n",
        "        print('No se ha podido abrir el archivo')\n",
        "        \n",
        "en realidad estamos manipulando no sólo las excepciones de la clase `OSError`, sino también las de todas las clases que descienden de `OSError` como, por ejemplo, `FileNotFoundError` o `PermissionError`.\n",
        "\n",
        "Según el caso, nos interesará manipular categorías de excepciones más amplias, o bien distinguir entre las posibles causas de errores empleando categorías más precisas.\n",
        "\n",
        "\n",
        "\n",
        "## Desencadenamiento de excepciones: la sentencia `raise`.\n",
        "\n",
        "Cuando sucede un error de ejecución, Python automáticamente *desencadena* una excepción, lo cual básicamente consiste en:\n",
        "\n",
        "1. Se crea una excepción instanciando la clase de excepciones correspondiente al error producido, pasándole como argumentos a su constructor información sobre el error causante. Esos argumentos se almacenan en el atributo `args` de la excepción recién creada.\n",
        "2. Se interrumpe en ese punto la ejecución del programa, pasando a ejecutar el *manipulador* de esa excepción (*exception handler*). El manipulador predeterminado aborta la ejecución del programa y genera un informe de error en el que se mostrará, entre otras cosas, el valor del atributo `args` de la excepción. No obstante, es posible [especificar otros manipuladores](#Manipulación-de-excepciones-(exception-handling).) utilizando la sentencia `try`.\n",
        "\n",
        "Veamos un ejemplo:"
      ],
      "metadata": {},
      "id": "whole-alpha"
    },
    {
      "cell_type": "code",
      "source": [
        "x = '3.5'\n",
        "print(int(x))"
      ],
      "outputs": [
        {
          "output_type": "error",
          "ename": "ValueError",
          "evalue": "invalid literal for int() with base 10: '3.5'",
          "traceback": [
            "\u001b[0;31m---------------------------------------------------------------------------\u001b[0m",
            "\u001b[0;31mValueError\u001b[0m                                Traceback (most recent call last)",
            "\u001b[0;32m<ipython-input-1-cfac68ab62ef>\u001b[0m in \u001b[0;36m<module>\u001b[0;34m\u001b[0m\n\u001b[1;32m      1\u001b[0m \u001b[0mx\u001b[0m \u001b[0;34m=\u001b[0m \u001b[0;34m'3.5'\u001b[0m\u001b[0;34m\u001b[0m\u001b[0;34m\u001b[0m\u001b[0m\n\u001b[0;32m----> 2\u001b[0;31m \u001b[0mprint\u001b[0m\u001b[0;34m(\u001b[0m\u001b[0mint\u001b[0m\u001b[0;34m(\u001b[0m\u001b[0mx\u001b[0m\u001b[0;34m)\u001b[0m\u001b[0;34m)\u001b[0m\u001b[0;34m\u001b[0m\u001b[0;34m\u001b[0m\u001b[0m\n\u001b[0m",
            "\u001b[0;31mValueError\u001b[0m: invalid literal for int() with base 10: '3.5'"
          ]
        }
      ],
      "execution_count": 1,
      "metadata": {
        "tags": [
          "raises-exception"
        ]
      },
      "id": "preliminary-assault"
    },
    {
      "cell_type": "markdown",
      "source": [
        "¿Qué ha pasado aquí? El intento de crear un `int` a partir de la cadena `3.5` ha generado un error de ejecución, lo cual provoca que Python desencadene una excepción de la clase `ValueError`: primero crea una excepción de clase `ValueError` pasándole como argumento a su constructor el mensaje `'invalid literal for int()...'`. A continuación, el manipulador de esa excepción (en este caso, el predeterminado) aborta la ejecución de ese programa y genera un informe de error que incluye ese mensaje.\n",
        "\n",
        "Sin embargo, no sólo el intérprete de Python puede desencadenar excepciones; *nosotros también podemos desencadenar excepciones deliberadamente* empleando la sentencia `raise`, cuyo argumento puede ser bien cualquier clase de excepciones, como en\n",
        "\n",
        "    raise ValueError\n",
        "    \n",
        "o bien puede tratarse de una *instancia* de cualquier clase de excepciones, la cual típicamente se crea en la misma sentencia:\n",
        "\n",
        "    raise ValueError('el valor debe ser positivo') \n",
        "\n",
        "En el primer caso de uso de `raise`, Python instancia automáticamente la clase llamando a su constructor sin pasarle ningún argumento. En el segundo caso, normalmente pasaremos uno o más argumentos al constructor, con información sobre la causa de esa excepción.\n",
        "\n",
        "También se puede utilizar `raise` *sin argumento alguno*, en cuyo caso se desencadena de nuevo la excepción que ya estuviésemos manipulando. Naturalmente esta forma de uso sólo tiene sentido dentro de un manipulador de excepciones, lo cual [se trata más adelante](#except-final-como-comod%C3%ADn.).\n",
        "\n",
        "La utilidad de la sentencia `raise` es, evidentemente, desencadenar excepciones ante condiciones de error que detectamos programáticamente. Por ejemplo, dentro de una función podríamos detectar que uno o más de sus parámetros no tienen valores aceptables, o que son de un tipo incorrecto.\n",
        "\n",
        "### Ejemplo: función `ec2grado`\n",
        "\n",
        "En este ejemplo se aplica `raise` en una función que calcula las raíces de la ecuación de 2º grado, dado que hay casos en los que no es posible calcularlas:"
      ],
      "metadata": {},
      "id": "responsible-sunday"
    },
    {
      "cell_type": "code",
      "source": [
        "def ec2grado(a,b,c):\n",
        "    if a == 0 and b == 0:\n",
        "        if c == 0:\n",
        "            raise ValueError(f'Error: hay infinitas soluciones para {c}=0')\n",
        "        else:\n",
        "            raise ValueError(f'Error: no existe solución para {c}=0')\n",
        "    elif a == 0:\n",
        "        r = complex(-c/b)\n",
        "        return r,r\n",
        "    elif c == 0:    # tratamos aparte para ahorrar una sqrt\n",
        "        return complex(-b/a), 0j\n",
        "    else:\n",
        "        sqrt_d = complex(b*b - 4*a*c)**0.5\n",
        "        return (-b + sqrt_d)/(2*a), (-b - sqrt_d)/(2*a)"
      ],
      "outputs": [],
      "execution_count": 2,
      "metadata": {},
      "id": "arabic-edition"
    },
    {
      "cell_type": "markdown",
      "source": [
        "Hemos escrito la función `ec2grado` de forma que retorne dos raíces de tipo `complex`, salvo que ello no sea posible al plantear una ecuación tautológica o contradictoria; en ese caso, la función desencadena sendas excepciones `ValueError`, indicando la causa en el mensaje. Por otro lado, la función asume que se le pasan tres argumentos numéricos (`int`, `float` o `complex`); de no ser así, sus operaciones desencadenarán excepciones de clase `TypeError`.\n",
        "\n",
        "El objetivo es que el comportamiento de la función sea absolutamente coherente: si la ecuación se puede resolver, siempre retornará una tupla con dos raíces de tipo `complex` (puesto que así se abarcan todas las posibilidades). Si ambos parámetros `a` y `b` tienen valor cero la ecuación no es resoluble, por lo que desencadena una excepción `ValueError`, que es la clase de excepción apropiada para este tipo de error. Y si hay otros problemas con los argumentos (que ya escaparían al control por la propia función), simplemente se traslada la responsabilidad a Python para que éste desencadene las excepciones adecuadas.\n",
        "\n",
        "En la siguiente celda se puede probar la función variando los valores de sus argumentos:"
      ],
      "metadata": {},
      "id": "expensive-passage"
    },
    {
      "cell_type": "code",
      "source": [
        "print(ec2grado(4j, 4, (0+3j)))"
      ],
      "outputs": [
        {
          "output_type": "stream",
          "name": "stdout",
          "text": [
            "(-0.5j, 1.5j)\n"
          ]
        }
      ],
      "execution_count": 3,
      "metadata": {
        "scrolled": true,
        "tags": [
          "raises-exception"
        ]
      },
      "id": "plastic-bangladesh"
    },
    {
      "cell_type": "markdown",
      "source": [
        "## Manipulación de excepciones (*exception handling*).\n",
        "\n",
        "Tras estudiar qué son las excepciones, qué clases de excepciones incluye Python y su jerarquía, y cómo desencadenarlas a voluntad, veremos ahora cómo podemos manipularlas en caso de que se desencadenen al ejecutar cierto código.\n",
        "\n",
        "Para manipular (*handle*) una excepción, hemos de especificar las acciones que se ejecutarán cuando dicha excepción se desencadene, como alternativa a las acciones que realiza el manipulador predeterminado (detener la ejecución del programa generando un informe de error). Dichas acciones constituyen lo que se denomina el *manipulador de la excepción* (*exception handler*).\n",
        "\n",
        "\n",
        "### La sentencia `try`.\n",
        "\n",
        "Empecemos con un ejemplo sencillo en el que, además, se muestra un uso clásico de la manipulación de excepciones para solucionar problemas con la entrada de datos:\n",
        "\n",
        "    while True:\n",
        "        try:\n",
        "            x = int(input('Dame un número entero: '))\n",
        "            break\n",
        "        except ValueError:\n",
        "            print('Eso no era un número válido. Prueba otra vez.')\n",
        "    print('Has introducido', x)\n",
        "\n",
        "Ese código pedirá repetidamente un número entero mientras introduzcamos cadenas que no tienen el formato correcto, ya que en ese caso `int` desencadena una excepción `ValueError`, y en consecuencia no llega a ejecutarse la sentencia `break`. En respuesta a dicha excepción se procederá con el código de la cláusula `except`, mostrándose el mensaje que rechaza el valor introducido. Cuando  introduzcamos una cadena con el formato adecuado `int` funcionará correctamente y se ejecutará el `break`, con lo que terminará el ciclo `while` y se mostrará el valor introducido. Por ejemplo:\n",
        "\n",
        "    Dame un número entero: PEPE\n",
        "    Eso no era un número válido. Prueba otra vez.\n",
        "    Dame un número entero: 3.5\n",
        "    Eso no era un número válido. Prueba otra vez.\n",
        "    Dame un número entero: 8\n",
        "    Has introducido 8\n",
        "    \n",
        "Una sentencia `try` en su forma más simple funciona del siguiente modo:\n",
        "\n",
        "- Se ejecutan las sentencias de la cláusula `try`.\n",
        "- Si ninguna de esas sentencias desencadena una excepción, se salta la cláusula `except` y la sentencia `try` finaliza.\n",
        "- Si se desencadena una excepción, se salta el resto de las sentencias de la cláusula `try`, y entonces:\n",
        "    - Si la clase de la excepción pertenece a la categoría de excepciones especificada tras el `except` (es decir, esa clase y sus descendientes), se ejecutan las sentencias de la cláusula `except` (el manipulador).\n",
        "    - En caso contrario, la excepción se va traspasando a sentencias `try` más externas, si las hay.\n",
        "    - Si finalmente no se encuentra ninguna cláusula `except` para esa excepción, se considera como una excepción no manipulada y Python aplica su manipulador predeterminado (detiene la ejecución del programa adjuntando un informe de error).\n",
        "    \n",
        "> Nótese que este procesamiento sólo se aplica a las excepciones que se desencadenen en una cláusula `try`, y no a las que ocurran en las cláusulas `except` (o `else` o `finally`, que trataremos en breve).\n",
        "\n",
        "\n",
        "###  `try` con múltiples cláusulas `except`.\n",
        "\n",
        "Una sentencia `try` puede tener varias cláusulas `except` con manipuladores para diferentes categorías de excepciones. Si hay más de una cláusula `except` en la que encaje una excepción surgida en la cláusula `try`, se utiliza la que figure en primer lugar. Esto es de aplicación cuando hay manipuladores para una clase de excepción y también para alguna de sus descendientes. Por ejemplo: sabemos que la clase `FileNotFoundError` desciende de `OSError`. Entonces:"
      ],
      "metadata": {},
      "id": "apparent-desktop"
    },
    {
      "cell_type": "code",
      "source": [
        "try:\n",
        "    raise FileNotFoundError\n",
        "except FileNotFoundError:\n",
        "    print('*** archivo no encontrado ***')\n",
        "except OSError:\n",
        "    print('*** error de sistema operativo ***')"
      ],
      "outputs": [
        {
          "output_type": "stream",
          "name": "stdout",
          "text": [
            "*** archivo no encontrado ***\n"
          ]
        }
      ],
      "execution_count": 4,
      "metadata": {},
      "id": "medium-bracket"
    },
    {
      "cell_type": "markdown",
      "source": [
        "Pero si invertimos el orden de las cláusulas `except`:"
      ],
      "metadata": {},
      "id": "split-graph"
    },
    {
      "cell_type": "code",
      "source": [
        "try:\n",
        "    raise FileNotFoundError\n",
        "except OSError:\n",
        "    print('*** error de sistema operativo ***')\n",
        "except FileNotFoundError:\n",
        "    print('*** archivo no encontrado ***')"
      ],
      "outputs": [
        {
          "output_type": "stream",
          "name": "stdout",
          "text": [
            "*** error de sistema operativo ***\n"
          ]
        }
      ],
      "execution_count": 5,
      "metadata": {},
      "id": "fluid-convenience"
    },
    {
      "cell_type": "markdown",
      "source": [
        "Lo que sucede es que `FileNotFoundError` encaja tanto en la categoría de su propia clase como en la categoría superior `OSError` (ya que ésta incluye a sus descendientes). En consecuencia, el orden de las cláusulas `except` es importante, ya que, como hemos dicho, si la excepción encaja en más de una se ejecuta la que figura en primer lugar.\n",
        "\n",
        "\n",
        "###  `except` para varias excepciones.\n",
        "\n",
        "Podemos especificar un mismo manipulador para varias categorías de excepciones, formando con ellas una tupla, como en este ejemplo:\n",
        "\n",
        "    except (TypeError, NameError, SyntaxError):\n",
        "        ...\n",
        "\n",
        "\n",
        "###  `except`  *comodín*.\n",
        "\n",
        "En la última cláusula `except` podemos omitir la clase de excepción, creando así un manipulador *comodín* (*wildcard*) que se aplicaría a cualquier excepción que haya ocurrido en la cláusula `try` y que no haya encajado en ninguna de las cláusulas `except` anteriores. **Esto es potencialmente peligroso** ya que puede enmascarar otros errores del programa. No obstante, puede resultar útil para mostrar un mensaje informando que se ha producido un error inesperado en esa sentencia `try`, y acto seguido emplear `raise` (sin argumento) para así desencadenar de nuevo la misma excepción:\n",
        "\n",
        "    try:\n",
        "        ...\n",
        "    except ValueError:\n",
        "        ...\n",
        "    except TypeError:\n",
        "        ...\n",
        "    except:\n",
        "        print('*** ERROR INESPERADO ***')\n",
        "        raise\n",
        "\n",
        "De ese modo, tras informar del problema esa excepción se traspasaría al siguiente `try` más externo, si lo hay, o quedaría no manipulada.\n",
        "\n",
        "\n",
        "### Acceso a los argumentos de excepciones.\n",
        "\n",
        "Como ya hemos visto, al desencadenarse una excepción siempre se crea una instancia de la clase correspondiente. Si queremos acceder a los atributos que contiene la instancia (típicamente, los argumentos que se pasaron a su constructor) necesitamos poder acceder de algún modo a esa excepción.\n",
        "\n",
        "Para acceder a los argumentos de una excepción en su manipulador, se utiliza `except` del siguiente modo:\n",
        "\n",
        "    except <categoría(s) de excepciones> as <variable>:\n",
        "        ...\n",
        "        \n",
        "De ese modo, esa *variable* hará referencia a la instancia de la excepción que se está manipulando.\n",
        "\n",
        "El método `__init__` de las instancias de la clase `BaseException` empaqueta sus argumentos en una tupla, y crea un atributo `args` referenciando a dicha tupla. Es decir, realiza algo similar a esto:\n",
        "\n",
        "    class BaseException():\n",
        "        ...\n",
        "        def __init__(self, *args):\n",
        "            ...\n",
        "            self.args = args\n",
        "            ...\n",
        "\n",
        "Recuérdese que todas las clases de excepciones descienden de `BaseException` (la gran mayoría a través de la clase `Exception`), y en consecuencia heredan su método `__init__` (salvo aquellas subclases que lo reemplacen por uno propio). Por tanto, procesarán del mismo modo los argumentos que se le pasen al constructor de la excepción. Por otra parte, el método `__str__` de `BaseException` (el cual es utilizado por la función `print`) retorna el valor del atributo `args` o, si esa tupla sólo contiene un elemento (porque se ha pasado un único argumento al constructor de la excepción), retorna el valor de ese elemento. Como siempre, la mejor forma de entender esto es con un ejemplo:"
      ],
      "metadata": {},
      "id": "divine-document"
    },
    {
      "cell_type": "code",
      "source": [
        "try:\n",
        "    raise Exception('uno', 'dos', 'tres')\n",
        "except Exception as instancia:\n",
        "    print('Clase:', type(instancia))      # Confirmemos que es una instancia de la clase Exception\n",
        "    print('Argumentos:', instancia.args)  # Tupla de argumentos de la excepción\n",
        "    print('Instancia:', instancia)        # Mostrará lo mismo que el print anterior"
      ],
      "outputs": [
        {
          "output_type": "stream",
          "name": "stdout",
          "text": [
            "Clase: <class 'Exception'>\n",
            "Argumentos: ('uno', 'dos', 'tres')\n",
            "Instancia: ('uno', 'dos', 'tres')\n"
          ]
        }
      ],
      "execution_count": 6,
      "metadata": {},
      "id": "natural-interaction"
    },
    {
      "cell_type": "markdown",
      "source": [
        "Ahora obsérvese la diferencia si pasamos un único argumento al constructor de la excepción:"
      ],
      "metadata": {},
      "id": "respective-hurricane"
    },
    {
      "cell_type": "code",
      "source": [
        "try:\n",
        "    raise Exception('soy el único argumento')\n",
        "except Exception as instancia:\n",
        "    print('Clase:', type(instancia))      # Confirmemos que es una instancia de la clase Exception\n",
        "    print('Argumentos:', instancia.args)  # Tupla de argumentos de la excepción\n",
        "    print('Instancia:', instancia)        # Mostrará lo mismo que el print anterior"
      ],
      "outputs": [
        {
          "output_type": "stream",
          "name": "stdout",
          "text": [
            "Clase: <class 'Exception'>\n",
            "Argumentos: ('soy el único argumento',)\n",
            "Instancia: soy el único argumento\n"
          ]
        }
      ],
      "execution_count": 7,
      "metadata": {},
      "id": "behavioral-proof"
    },
    {
      "cell_type": "markdown",
      "source": [
        "Nótese que ahora `print(instancia)` ya no muestra una tupla con un único elemento, sino ese único elemento. Se trata de una simple conveniencia implementada en el método `__str__` de las excepciones.\n",
        "\n",
        "\n",
        "### La cláusula `else`.\n",
        "\n",
        "Opcionalmente, tras las cláusulas `except` podemos añadir una cláusula `else`, que tiene un sentido similar a las que se pueden utilizar con otras sentencias como `for` y `while`: *las sentencias de la cláusula `else` se ejecutan si y sólo si no se ha desencadenado ninguna excepción en la cláusula `try`*.\n",
        "\n",
        "Dentro de la cláusula `else` debemos colocar las sentencias cuya correcta ejecución *depende* de que las sentencias de la cláusula `try` se hayan ejecutado sin problema alguno. Esto es mucho más robusto que simplemente ubicarlas tras (fuera de) la sentencia `try`.\n",
        "\n",
        "\n",
        "### Ejemplo: programa para hallar las soluciones de ecuaciones de 2º grado\n",
        "\n",
        "A continuación se muestra un ejemplo con un programa para calcular las raíces de la ecuación de 2º grado, para lo cual emplea [la función `ec2grado`](#Ejemplo:-función-ec2grado). El programa consiste en un bucle en el que se solicitan valores para los tres coeficientes de la ecuación, el cual finaliza si se introduce una cadena vacía. En caso contrario, se utiliza `eval` para evaluar la cadena de entrada, lo que debe resultar en una tupla con tres valores numéricos, que se desempaquetan y asignan a las variables `a`, `b` y `c`. Siempre que la evaluación o la asignación fallen por cualquier causa, se muestra un mensaje de error y se da otra oportunidad de introducir los valores de los coeficientes. Una vez que se han obtenido tres valores, se pasan como argumentos a la función `ec2grado`, durante cuya ejecución puede surgir bien una excepción `TypeError` (si es que uno de los tres argumentos no es numérico, por lo que se producirá un error en los cálculos), o bien una excepción `ValueError` (si la ecuación no tiene solución con esos argumentos, en cuyo caso la función desencadena esa excepción e informa de su causa). El manipulador de `ValueError` muestra dicha causa. Obsérvese también cómo se utiliza la cláusula `else` para mostrar las soluciones sólo en el caso de que la función se haya ejecutado con éxito."
      ],
      "metadata": {},
      "id": "communist-winner"
    },
    {
      "cell_type": "code",
      "source": [
        "while False:  # CAMBIAR POR True PARA PROBAR EL PROGRAMA\n",
        "    entrada = input('Introduzca los coeficientes a,b,c (sólo Intro para terminar): ')\n",
        "    if entrada == '':\n",
        "        print('Programa terminado')\n",
        "        break\n",
        "        \n",
        "    try:\n",
        "        a,b,c = eval(entrada)\n",
        "    except:\n",
        "        print('Error: deben introducirse tres expresiones numéricas separadas por comas')\n",
        "        continue\n",
        "\n",
        "    try:\n",
        "        sol1,sol2 = ec2grado(a,b,c)\n",
        "    except TypeError:\n",
        "        print('Error: los tres coeficientes deben ser numéricos')\n",
        "    except ValueError as e:\n",
        "        print(e)\n",
        "    else:\n",
        "        if sol1 == sol2:\n",
        "            print('Solución:', sol1)\n",
        "        else:\n",
        "            print('Solución 1:', sol1)\n",
        "            print('Solución 2:', sol2)"
      ],
      "outputs": [],
      "execution_count": 8,
      "metadata": {},
      "id": "minute-disorder"
    },
    {
      "cell_type": "markdown",
      "source": [
        "### La cláusula `finally`.\n",
        "\n",
        "La sentencia `try` admite un último tipo de cláusula opcional: `finally`, la cual, en caso de utilizarse, debe figurar en último lugar. Las sentencias de esta cláusula se ejecutan *siempre*, ocurra lo que ocurra en las cláusulas `try`, `except` o `else`. Su finalidad (nunca mejor dicho) es realizar una “limpieza” tras los posibles problemas que hayan ocurrido en el resto de la sentencia `try`: típicamente, liberar recursos que hayan podido empezar a utilizarse antes de desencadenarse una excepción; por ejemplo, cerrar archivos, conexiones de red, etc.\n",
        "\n",
        "Considerando la cláusula `finally`, éstas son las posibles situaciones que se pueden dar:\n",
        "\n",
        "- Si se desencadena una excepción en la cláusula `try`, puede que sea manipulada por una cláusula `except`; pero, de no ser así, la excepción se desencadena de nuevo automáticamente *después* de ejecutar la cláusula `finally`.\n",
        "- Si se desencadena una excepción en una cláusula `except` o `else`, también se desencadena de nuevo dicha excepción *después* de ejecutar la cláusula `finally`.\n",
        "- Si en la cláusula `try` se alcanza una sentencia `break`, `continue` o `return`, la cláusula `finally` se ejecutará justo antes de que se ejecute esa sentencia.\n",
        "- Si tanto la cláusula `try` como la cláusula `finally` incluyen sendas sentencias `return`, el valor de retorno será el del `return` de la cláusula `finally` y no el de la `try`.\n",
        "\n",
        "En definitiva, si una sentencia `try` posee una cláusula `finally`, siempre será ésta lo último que se ejecute antes de salir de la sentencia `try`, sea del modo que sea."
      ],
      "metadata": {},
      "id": "limited-medium"
    },
    {
      "cell_type": "markdown",
      "source": [
        "## Definición de clases de excepciones.\n",
        "\n",
        "Por supuesto, podemos definir nuestras propias clases de excepciones. Esto es lo habitual al definir una nueva clase, puesto que al utilizar instancias de esa clase pueden ocurrir fallos que se pueden identificar y manipular mucho más fácilmente si desencadenan excepciones definidas específicamente para esa clase.\n",
        "\n",
        "Como siempre, lo mejor es verlo con un ejemplo.\n",
        "\n",
        "A continuación se define una clase `DNI` cuyo constructor permite crear un objeto `DNI` bien a partir de un número (nacional o de extranjero residente) sin letra final, en cuyo caso dicha letra se calcula y añade automáticamente; o bien a partir de un número con letra final, en cuyo caso se comprueba si es correcto. El constructor comprueba además si su argumento es del tipo adecuado, y si tiene el formato correcto tanto para un DNI nacional como de extranjero residente.\n",
        "\n",
        "Junto con la clase `DNI` se define una clase `DNIError` como subclase de `Exception`; a su vez, se definen dos subclases más específicas de `DNIError`: `DNIFormatError` y `DNICheckError`. De ese modo, dentro de una sentencia `try` podremos definir manipuladores tanto para la categoría `DNIError` como para las dos más específicas, según lo que nos interese.\n",
        "\n",
        "Obsérvese que las clases de excepciones definidas aquí no añaden funcionalidades o atributos a la clase `Exception`, ya que no es necesario. Su utilidad es simplemente *existir como clases diferenciadas* de las predefinidas en Python."
      ],
      "metadata": {},
      "id": "defensive-routine"
    },
    {
      "cell_type": "code",
      "source": [
        "class DNIError(Exception):\n",
        "    pass\n",
        "\n",
        "class DNIFormatError(DNIError):\n",
        "    pass\n",
        "\n",
        "class DNICheckError(DNIError):\n",
        "    pass\n",
        "\n",
        "class DNI():\n",
        "    def __init__(self, dni):\n",
        "        letras = 'TRWAGMYFPDXBNJZSQVHLCKE'\n",
        "        letra_extrj = dict(X='0', Y='1', Z='2')\n",
        "        if type(dni) is not str:\n",
        "            raise TypeError(f'{dni!r} no es de tipo str')\n",
        "        if len(dni) not in (8,9):\n",
        "            raise DNIFormatError(f'la longitud de {dni!r} es incorrecta')\n",
        "        num = dni[:8]\n",
        "        if not (num[0].isdecimal() or num[0] in 'XYZ') and num[1:].isdecimal():\n",
        "            raise DNIFormatError(f'el formato de {dni!r} es incorrecto')\n",
        "        if num[0] in 'XYZ':\n",
        "            num = letra_extrj[num[0]] + num[1:]\n",
        "        letrafinal = letras[int(num) % len(letras)]\n",
        "        if len(dni) == 9:\n",
        "            if dni[8] not in letras:\n",
        "                raise DNIFormatError(f'{dni!r} carece de la letra final')\n",
        "            if dni[8] != letrafinal:\n",
        "                raise DNICheckError(f'error al verificar el DNI {dni!r}')\n",
        "        else:\n",
        "            dni += letrafinal\n",
        "        self.dni = dni\n",
        "\n",
        "    def numero(self):\n",
        "        return self.dni[:-1]\n",
        "    \n",
        "    def letra(self):\n",
        "        return self.dni[-1]\n",
        "    \n",
        "    def es_extranjero(self):\n",
        "        return self.dni[0] in 'XYZ'\n",
        "    \n",
        "    def __repr__(self):\n",
        "        return f'DNI({self.dni!r})'\n",
        "    \n",
        "    def __str__(self):\n",
        "        return self.dni"
      ],
      "outputs": [],
      "execution_count": 9,
      "metadata": {},
      "id": "impressed-label"
    },
    {
      "cell_type": "markdown",
      "source": [
        "En la celda siguiente se puede juguetear con la clase `DNI`. En el ejemplo que se muestra, simplemente se crea un objeto `DNI` dentro de una sentencia `try`, de modo que variando el argumento del constructor veremos un mensaje de error diferente."
      ],
      "metadata": {},
      "id": "accessible-oxide"
    },
    {
      "cell_type": "code",
      "source": [
        "try:\n",
        "    d = DNI('12345678N')\n",
        "except DNIError as e:\n",
        "    print(e)"
      ],
      "outputs": [
        {
          "output_type": "stream",
          "name": "stdout",
          "text": [
            "error al verificar el DNI '12345678N'\n"
          ]
        }
      ],
      "execution_count": 10,
      "metadata": {
        "tags": [
          "raises-exception"
        ]
      },
      "id": "smart-drive"
    },
    {
      "cell_type": "markdown",
      "source": [
        "## THE END"
      ],
      "metadata": {},
      "id": "promising-popularity"
    }
  ],
  "metadata": {
    "kernelspec": {
      "display_name": "Python 3",
      "language": "python",
      "name": "python3"
    },
    "language_info": {
      "codemirror_mode": {
        "name": "ipython",
        "version": 3
      },
      "file_extension": ".py",
      "mimetype": "text/x-python",
      "name": "python",
      "nbconvert_exporter": "python",
      "pygments_lexer": "ipython3",
      "version": "3.8.5"
    },
    "nteract": {
      "version": "0.28.0"
    }
  },
  "nbformat": 4,
  "nbformat_minor": 5
}