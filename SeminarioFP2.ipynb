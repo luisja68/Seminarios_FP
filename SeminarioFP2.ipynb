{
 "cells": [
  {
   "cell_type": "markdown",
   "metadata": {},
   "source": [
    "# Seminario 2. Funciones en Python.\n",
    "\n",
    "Las funciones ofrecen muchas posibilidades en Python, más allá del uso básico que habitualmente hacemos de ellas. Aquí abordamos algunos aspectos poco conocidos y ciertas características que conviene conocer para desarrollar todo el potencial de las funciones en Python."
   ]
  },
  {
   "cell_type": "markdown",
   "metadata": {},
   "source": [
    "## Las funciones también son objetos.\n",
    "\n",
    "En Python las funciones son objetos, al igual que los enteros, las cadenas de caracteres o las listas, de modo que, dada una función `f`, la expresión `type(f)` retornará `<class ‘function'>`.\n",
    "\n",
    "Como cualquier otro objeto, las funciones poseen atributos que determinan su estado interno. Entre ellos, cabe destacar los siguientes:\n",
    "\n",
    "* `f.__name__`: nombre de la función (cadena de caracteres)\n",
    "* `f.__doc__`: descripción de la función (cadena de caracteres)\n",
    "* `f.__defaults__`: valores por defecto de los parámetros (tupla)\n",
    "* `f.__globals__`: módulos, variables, etc. que conforman el entorno de ejecución de la función, conocido como *clausura* (diccionario)\n",
    "\n",
    "Las funciones pueden asignarse a variables y, lógicamente, estas variables podrán ejecutarse (realmente estaremos ejecutando las funciones a las que hagan referencia). Por ejemplo:\n",
    "\n",
    "    import math\n",
    "    g = math.sqrt\n",
    "    g(25)\n",
    "    \n",
    "    5.0\n",
    "\n",
    "Podemos construir listas o diccionarios con nombres de funciones. Por ejemplo:\n",
    "\n",
    "    import math\n",
    "    l = [math.log, math.sqrt, math.exp, math.tan]\n",
    "    for f in l:\n",
    "        print(f(4))\n",
    "        \n",
    "    1.3862943611198906\n",
    "    2.0\n",
    "    54.598150033144236\n",
    "    1.1578212823495775\n",
    " \n",
    "Supongamos que pedimos el nombre de una función. El usuario introducirá una cadena de caracteres. ¿Cómo transformar esa cadena en el nombre (ejecutable) de una función? Muy sencillo: utilizando `eval`.\n",
    "\n",
    "    import math\n",
    "    fname = input(\"Nombre de la función: \")\n",
    "    f = eval(fname)\n",
    "    f(4)\n",
    "    \n",
    "    Nombre de la función: math.sqrt\n",
    "    2.0"
   ]
  },
  {
   "cell_type": "markdown",
   "metadata": {},
   "source": [
    "## Docstrings\n",
    "\n",
    "El llamado docstring es un comentario multi-línea (encerrado entre triples comillas) que describe la tarea y el modo de uso de la función, y que se incluye justo debajo del prototipo de la función. Internamente, se almacena en el atributo `f.__doc__` (siendo `f` el nombre de la función). Podemos acceder al docstring haciendo `help(f)`. Muchas herramientas de desarrollo, al teclear el nombre de la función y abrir el primer paréntesis, presentan al programador una ventana emergente con el contenido del docstring, lo cual facilita la comprensión de su funcionalidad y el modo de uso (parámetros, valores por defecto, etc.). La definición de cualquier función debería tener la siguiente estructura:\n",
    "\n",
    "    def f(arg1, arg2, ...):\n",
    "        \"\"\" Descripción de la función:\n",
    "                precondiciones\n",
    "                parámetros\n",
    "                funcionalidad\n",
    "                valor de retorno\n",
    "        \"\"\"\n",
    "           \n",
    "        <cuerpo de la función>"
   ]
  },
  {
   "cell_type": "markdown",
   "metadata": {},
   "source": [
    "## Espacios de nombres\n",
    "\n",
    "Cada función define un espacio de nombres, es decir, un ámbito propio para variables locales: los parámetros de la función y las variables auxiliares que se crean dentro de la función.\n",
    "\n",
    "Al ejecutar código en Python, y en particular el código de una función, los símbolos de variables, funciones, etc. se buscan en distintos espacios de nombres. Si un símbolo no se encuentra en el espacio de nombres local (propio de la función), la función lo busca sucesivamente en espacios de nombres superiores en la jerarquía, subiendo en el árbol de llamadas a función hasta llegar al espacio global de nombres (el del programa principal); si tampoco está allí, accede al espacio de nombres del lenguaje Python. Por último, si no encuentra el símbolo, el intérprete de Python genera una excepción de tipo `NameError`."
   ]
  },
  {
   "cell_type": "markdown",
   "metadata": {},
   "source": [
    "### Módulos importados\n",
    "Cada módulo importado crea su propio espacio de nombres, al cual se accede usando el nombre del módulo y el operador punto (`.`). Por ejemplo:"
   ]
  },
  {
   "cell_type": "code",
   "execution_count": 6,
   "metadata": {},
   "outputs": [],
   "source": [
    "import math\n",
    "\n",
    "y = math.sqrt(4.0)"
   ]
  },
  {
   "cell_type": "markdown",
   "metadata": {},
   "source": [
    "Al escribir `math.sqrt`, estamos forzando la búsqueda del símbolo *sqrt* única y exclusivamente en el espacio de nombres del módulo *math*. Las importaciones se pueden hacer de manera que los símbolos del módulo se traigan al espacio de nombres donde aparece la instrucción `import`. Por ejemplo: "
   ]
  },
  {
   "cell_type": "code",
   "execution_count": 7,
   "metadata": {},
   "outputs": [],
   "source": [
    "from math import sqrt\n",
    "\n",
    "y = sqrt(4.0)"
   ]
  },
  {
   "cell_type": "markdown",
   "metadata": {},
   "source": [
    "Hay que tener cuidado con este tipo de importaciones, ya que podría haber variables o funciones con un mismo nombre en distintos módulos y podríamos estar sobreescribiendo la definición de ciertos símbolos. En general, se recomieda mantener espacios de nombres separados para cada módulo."
   ]
  },
  {
   "cell_type": "markdown",
   "metadata": {},
   "source": [
    "### Variables globales (de módulo)\n",
    "Como ya sabemos, las variables asignadas (creadas) en una función pertenecen al espacio de nombres local. Para forzar su pertenencia al espacio de nombres global, se deben declarar como `global`. Por ejemplo:\n",
    "\n",
    "    def func(x):\n",
    "        global nitems\n",
    "        nitems = nitems + 1\n",
    "            [...]\n",
    "En el ejemplo anterior, la variable `nitems` pertenecerá al espacio de nombres global."
   ]
  },
  {
   "cell_type": "markdown",
   "metadata": {},
   "source": [
    "### Variables `nonlocal`\n",
    "También podemos declarar las variables de una función como `nonlocal`, de modo que la variable pertenecerá a un espacio de nombres superior en la jerarquía de llamadas a función (pero no al espacio global). Por ejemplo:\n",
    "\n",
    "    def procesar(s, c):\n",
    "        count = 0\n",
    "        def aux(t):\n",
    "           nonlocal count\n",
    "           count = count + 1\n",
    "           return t[1:]\n",
    "          [...]\n",
    "\n",
    "La variable `count` que aparece en la función `aux` se busca en un nivel superior; en este caso, se encuentra en el espacio de nombres local de la función `procesar`."
   ]
  },
  {
   "cell_type": "markdown",
   "metadata": {},
   "source": [
    "## Parámetros con valores predeterminados.\n",
    "\n",
    "Formalmente, los *parámetros* son los nombres que se especifican en la *definición* de la función, mientras que los *argumentos* son las expresiones que se especifican en la *llamada* a la función. Es decir, al llamar a una función se le *pasan* argumentos que son *recibidos* por (copiados en) sus parámetros, que en realidad son referencias a objetos.\n",
    "\n",
    "Es posible definir funciones con parámetros a los que se les asignan valores predeterminados. De este modo, se convierten en opcionales, salvo que deseemos pasar valores diferentes a los predeterminados. Esta técnica se usa frecuentemente en funciones en las que algunos de sus parámetros se utilizan para alterar algunos aspectos secundarios de su funcionamiento. Por ejemplo, el método `str.find` permite especificar opcionalmente la posición inicial de búsqueda, y adicionalmente la posición final:"
   ]
  },
  {
   "cell_type": "code",
   "execution_count": 8,
   "metadata": {},
   "outputs": [
    {
     "name": "stdout",
     "output_type": "stream",
     "text": [
      "4\n",
      "21\n",
      "-1\n"
     ]
    }
   ],
   "source": [
    "s='¡al rico helado! ¡al rico helado!'\n",
    "print(s.find('rico'))\n",
    "print(s.find('rico', 5))\n",
    "print(s.find('rico', 5, 10))"
   ]
  },
  {
   "cell_type": "markdown",
   "metadata": {},
   "source": [
    "Este comportamiento se consigue con una definición similar a ésta:\n",
    "\n",
    "    def find(sub, start=0, end=-1, /):\n",
    "        [...]\n",
    "\n",
    "(El significado de `/` en la lista de parámetros se verá [más adelante](#Establecimiento-de-restricciones-en-el-paso-de-argumentos.).)"
   ]
  },
  {
   "cell_type": "markdown",
   "metadata": {},
   "source": [
    "Los parámetros sin valores predeterminados deben especificarse siempre en primer lugar, ya que en caso contrario daría lugar a confusión. En otras palabras: una vez que se especifica un parámetro con valor predeterminado, todos los que van a continuación también deben tener un valor predeterminado. Por ejemplo, consideremos la siguiente función:\n",
    "\n",
    "    def f(a=5, b):\n",
    "        [...]\n",
    "\n",
    "¿Cómo se interpretaría la llamada `f(3)`? El argumento `3`, por su posición (primero y único), debería ser recibido por el parámetro `a`; sin embargo, como el parámetro `b` no es opcional, ¿no debería recibirlo el parámetro `b`? Para evitar esta situación, Python lo prohíbe sintácticamente:\n",
    "\n",
    "    def f(a=5, b):\n",
    "        print(a, b)\n",
    "\t\n",
    "    SyntaxError: non-default argument follows default argument\n",
    "    "
   ]
  },
  {
   "cell_type": "markdown",
   "metadata": {},
   "source": [
    "Es importante tener en cuenta que **los valores predeterminados de los parámetros se evalúan al definir la función**, no al llamarla. Esto puede dar lugar a sorpresas en caso de utilizar objetos mutables. Véamoslo con un ejemplo:"
   ]
  },
  {
   "cell_type": "code",
   "execution_count": 9,
   "metadata": {},
   "outputs": [
    {
     "name": "stdout",
     "output_type": "stream",
     "text": [
      "[1]\n",
      "[1, 2]\n",
      "[1, 2, 3]\n",
      "['a', 'b', 'c']\n",
      "[1, 2, 3, 4]\n"
     ]
    }
   ],
   "source": [
    "def f(a, l=[]):\n",
    "    l.append(a)\n",
    "    return l\n",
    "\n",
    "print(f(1))\n",
    "print(f(2))\n",
    "print(f(3))\n",
    "print(f('c', ['a','b']))\n",
    "print(f(4))"
   ]
  },
  {
   "cell_type": "markdown",
   "metadata": {},
   "source": [
    "¿Qué ha sucedido? El valor predeterminado de `l` se evaluó al definir la función `f`, y ya no vuelve a evaluarse por muchas veces que la llamemos. Es decir, el objeto `[]` se creó al definir la función, así como la referencia a él desde el parámetro `l`. Entonces, en la primera llamada se añade a esa lista el valor `1`; en la segunda llamada se le añade *a la misma lista* (que sigue referenciada por `l`) el valor `2`, etc. Nótese que esto no se ve afectado porque en otro momento llamemos a `f` pasando una lista distinta al parámetro `l`, ya que en la siguiente llamada en que se use su valor predeterminado, este parámetro vuelve a referenciar el objeto inicial."
   ]
  },
  {
   "cell_type": "markdown",
   "metadata": {},
   "source": [
    "## Argumentos *keyword*.\n",
    "\n",
    "Como alternativa al paso de argumentos posicionales, también es posible llamar a una función especificando los argumentos en la forma `keyword=expresión`, donde `keyword` es el nombre de cualquier parámetro de la función. En este caso, el orden o posición de los argumentos *keyword* es irrelevante.\n",
    "\n",
    "Es posible combinar argumentos posicionales y argumentos *keyword* en una llamada a una función. Ahora bien, de forma similar a lo que sucede con los parámetros con valores predeterminados, los argumentos posicionales deben especificarse primero, y a continuación deberán ir los argumentos *keyword*. Un ejemplo:"
   ]
  },
  {
   "cell_type": "code",
   "execution_count": 10,
   "metadata": {},
   "outputs": [],
   "source": [
    "def f(a, b=10, c='hola que tal'):\n",
    "    # Más adelante veremos una forma más general, simple y elegante de hacer esto\n",
    "    for arg in 'abc':\n",
    "        print(f'{arg} = {eval(arg)}')"
   ]
  },
  {
   "cell_type": "code",
   "execution_count": 11,
   "metadata": {},
   "outputs": [
    {
     "name": "stdout",
     "output_type": "stream",
     "text": [
      "a = 5\n",
      "b = 10\n",
      "c = hola que tal\n"
     ]
    }
   ],
   "source": [
    "f(5)"
   ]
  },
  {
   "cell_type": "code",
   "execution_count": 12,
   "metadata": {},
   "outputs": [
    {
     "name": "stdout",
     "output_type": "stream",
     "text": [
      "a = 1\n",
      "b = 2\n",
      "c = hola que tal\n"
     ]
    }
   ],
   "source": [
    "f(b=2, a=1)"
   ]
  },
  {
   "cell_type": "code",
   "execution_count": 13,
   "metadata": {},
   "outputs": [
    {
     "name": "stdout",
     "output_type": "stream",
     "text": [
      "a = 1\n",
      "b = 2\n",
      "c = 3\n"
     ]
    }
   ],
   "source": [
    "f(1, 2, 3)"
   ]
  },
  {
   "cell_type": "code",
   "execution_count": 14,
   "metadata": {},
   "outputs": [
    {
     "name": "stdout",
     "output_type": "stream",
     "text": [
      "a = 100\n",
      "b = 10\n",
      "c = caramba\n"
     ]
    }
   ],
   "source": [
    "f(c='caramba', a=100)"
   ]
  },
  {
   "cell_type": "markdown",
   "metadata": {},
   "source": [
    "Como se puede ver, mientras se respete la regla de que los argumentos posicionales (si los hay) han de especificarse delante de los argumentos *keyword* (si los hay), podemos realizar las combinaciones que queramos.\n",
    "\n",
    "Por el contrario, las llamadas a la función `f` que se listan a continuación no son posibles:\n",
    "\n",
    "    f()                # Se exige al menos un argumento (TypeError)\n",
    "    f(a=100, 7)        # Argumento posicional tras un argumento keyword (SyntaxError)\n",
    "    f(100, a=5)        # Dos argumentos para el mismo parámetro (TypeError)\n",
    "    f(100, d='adiós')  # Argumento keyword inesperado (TypeError)\n",
    "    "
   ]
  },
  {
   "cell_type": "markdown",
   "metadata": {},
   "source": [
    "## Empaquetamiento de argumentos en parámetros.\n",
    "\n",
    "Python proporciona mecanismos para **definir funciones con un número indeterminado de argumentos**. Veamos qué sucede con la siguiente función:"
   ]
  },
  {
   "cell_type": "code",
   "execution_count": 15,
   "metadata": {},
   "outputs": [],
   "source": [
    "def f(a, b=10, *posargs):\n",
    "    print(f'a = {a}')\n",
    "    print(f'b = {b}')\n",
    "    print(f'posargs = {posargs}')"
   ]
  },
  {
   "cell_type": "code",
   "execution_count": 16,
   "metadata": {},
   "outputs": [
    {
     "name": "stdout",
     "output_type": "stream",
     "text": [
      "a = 5\n",
      "b = 10\n",
      "posargs = ()\n"
     ]
    }
   ],
   "source": [
    "f(5)"
   ]
  },
  {
   "cell_type": "code",
   "execution_count": 17,
   "metadata": {},
   "outputs": [
    {
     "name": "stdout",
     "output_type": "stream",
     "text": [
      "a = 1\n",
      "b = 2\n",
      "posargs = (3, 4, 5, 6)\n"
     ]
    }
   ],
   "source": [
    "f(1, 2, 3, 4, 5, 6)"
   ]
  },
  {
   "cell_type": "markdown",
   "metadata": {},
   "source": [
    "¿Qué estamos viendo? Al especificar un parámetro precedido de `*`, en ese parámetro se empaquetan todos los *argumentos posicionales* que se especifiquen en la llamada, excepto aquéllos a los que ya les corresponda un parámetro. En este ejemplo, la función `f` tiene dos parámetros específicos (`a` y `b`), y un tercer parámetro `*posargs` que recogerá el resto de argumentos posicionales, empaquetándolos en forma de tupla. Lógicamente, `*posargs` sólo recogerá argumentos posicionales, ya que si en la llamada a `f` utilizamos argumentos *keyword* para `a` o `b`, todos los demás argumentos también habrán de ser *keyword*."
   ]
  },
  {
   "cell_type": "markdown",
   "metadata": {},
   "source": [
    "No obstante, y como cabría esperar, también hay una forma de empaquetar argumentos *keyword* en un parámetro:"
   ]
  },
  {
   "cell_type": "code",
   "execution_count": 18,
   "metadata": {},
   "outputs": [],
   "source": [
    "def f(a, b=10, *posargs, **kwargs):\n",
    "    print(f'a = {a}')\n",
    "    print(f'b = {b}')\n",
    "    print(f'posargs = {posargs}')\n",
    "    print(f'kwargs  = {kwargs}')"
   ]
  },
  {
   "cell_type": "code",
   "execution_count": 19,
   "metadata": {},
   "outputs": [
    {
     "name": "stdout",
     "output_type": "stream",
     "text": [
      "a = 5\n",
      "b = 10\n",
      "posargs = ()\n",
      "kwargs  = {}\n"
     ]
    }
   ],
   "source": [
    "f(5)"
   ]
  },
  {
   "cell_type": "code",
   "execution_count": 20,
   "metadata": {
    "scrolled": true
   },
   "outputs": [
    {
     "name": "stdout",
     "output_type": "stream",
     "text": [
      "a = 1\n",
      "b = 2\n",
      "posargs = (3, 4, 5, 6)\n",
      "kwargs  = {}\n"
     ]
    }
   ],
   "source": [
    "f(1, 2, 3, 4, 5, 6)"
   ]
  },
  {
   "cell_type": "code",
   "execution_count": 21,
   "metadata": {},
   "outputs": [
    {
     "name": "stdout",
     "output_type": "stream",
     "text": [
      "a = 1\n",
      "b = 2\n",
      "posargs = (3, 4)\n",
      "kwargs  = {'c': 'hola', 'd': 'adiós'}\n"
     ]
    }
   ],
   "source": [
    "f(1, 2, 3, 4, c='hola', d='adiós')"
   ]
  },
  {
   "cell_type": "code",
   "execution_count": 22,
   "metadata": {
    "scrolled": true
   },
   "outputs": [
    {
     "name": "stdout",
     "output_type": "stream",
     "text": [
      "a = 1\n",
      "b = 2\n",
      "posargs = ()\n",
      "kwargs  = {'c': 'hola', 'd': 'adiós'}\n"
     ]
    }
   ],
   "source": [
    "f(1, c='hola', b=2, d='adiós')"
   ]
  },
  {
   "cell_type": "markdown",
   "metadata": {},
   "source": [
    "Al especificar un parámetro precedido de `**` (`**kwargs`), en éste se empaquetan en forma de diccionario todos los argumentos *keyword* que haya en la llamada, excepto aquéllos para los que exista un parámetro específico. En dicho diccionario cada clave es el nombre del argumento (en forma de cadena de caracteres), y cada valor –lógicamente– su valor. Obsérvese en el último ejemplo de llamada a `f` cómo el argumento `b=2` no ha sido recogido en `**kwargs`, puesto que ya existe un parámetro denominado `b` en la definición de la función.\n",
    "\n",
    "En caso de utilizar ambos tipos de parámetros, tanto `*` como `**`, hay que especificar primero los argumentos posicionales y después los argumentos *keyword*.\n",
    "\n",
    "Un caso extremo sería una función que sólo contara con dos parámetros `*` y `**`. En ese caso, el primero recogería todos los argumentos posicionales (si los hubiera), y el segundo todos los argumentos *keyword* (si los hubiera) especificados en cualquier llamada a esa función. Véamoslo con un ejemplo:"
   ]
  },
  {
   "cell_type": "code",
   "execution_count": 23,
   "metadata": {},
   "outputs": [],
   "source": [
    "def g(*posargs, **kwargs):\n",
    "    for arg in posargs:\n",
    "        print(arg)\n",
    "    for k, v in kwargs.items():\n",
    "        print(f'{k} = {v}')"
   ]
  },
  {
   "cell_type": "code",
   "execution_count": 24,
   "metadata": {},
   "outputs": [
    {
     "name": "stdout",
     "output_type": "stream",
     "text": [
      "1\n",
      "2\n",
      "3\n",
      "a = uno\n",
      "b = dos\n",
      "c = tres\n"
     ]
    }
   ],
   "source": [
    "g(1,2,3, a='uno', b='dos', c='tres')"
   ]
  },
  {
   "cell_type": "code",
   "execution_count": 25,
   "metadata": {},
   "outputs": [
    {
     "name": "stdout",
     "output_type": "stream",
     "text": [
      "1\n",
      "2\n",
      "3\n"
     ]
    }
   ],
   "source": [
    "g(1,2,3)"
   ]
  },
  {
   "cell_type": "code",
   "execution_count": 26,
   "metadata": {},
   "outputs": [
    {
     "name": "stdout",
     "output_type": "stream",
     "text": [
      "a = uno\n",
      "b = dos\n",
      "c = tres\n"
     ]
    }
   ],
   "source": [
    "g(a='uno', b='dos', c='tres')"
   ]
  },
  {
   "cell_type": "markdown",
   "metadata": {},
   "source": [
    "## Desempaquetamiento y empaquetamiento en Python.\n",
    "\n",
    "En este punto, conviene explicar que Python posee un operador (`*`) que permite desempaquetar *iterables*. En otro seminario hablaremos sobre iterables; de momento, supongamos que se trata de simples secuencias. En realidad, se usa de forma implícita en expresiones como la que sigue (que ya hemos utilizado en varias ocasiones):\n",
    "\n",
    "    a, b, c = 1, 2, 3\n",
    "\n",
    "Para crear tuplas no son necesarios los paréntesis (si no hay ambigüedad sintáctica); basta con las comas. Por esa razón, estas cuatro expresiones son equivalentes:\n",
    "\n",
    "    a, b, c = 1, 2, 3\n",
    "    a, b, c = (1, 2, 3)\n",
    "    (a, b, c) = 1, 2, 3\n",
    "    (a, b, c) = (1, 2, 3)\n",
    "\n",
    "El mero hecho de que a la izquierda de una asignación figure una tupla (o una lista) de variables hace que Python automáticamente realice un *desempaquetamiento* de la secuencia situada a la derecha. Por supuesto, la expresión de la derecha no tiene por qué ser un literal; cualquier secuencia (en realidad, cualquier objeto iterable) es válido. La única restricción es que *el número de elementos a ambos lados de la asignación sea el mismo*."
   ]
  },
  {
   "cell_type": "markdown",
   "metadata": {},
   "source": [
    "Otro caso en el que el desempaquetamiento se produce de manera automática lo encontramos al recorrer mediante un `for` una lista de tuplas. Por ejemplo:"
   ]
  },
  {
   "cell_type": "code",
   "execution_count": 27,
   "metadata": {},
   "outputs": [
    {
     "name": "stdout",
     "output_type": "stream",
     "text": [
      "1 a   3.50\n",
      "2 b   0.03\n",
      "3 c   5.67\n",
      "4 d  -2.98\n"
     ]
    }
   ],
   "source": [
    "lt = [(1, 'a', 3.5), (2, 'b', 0.03), (3, 'c', 5.67), (4, 'd', -2.98)]\n",
    "for n, c, x in lt:\n",
    "    print(f'{n} {c} {x:6.2f}')"
   ]
  },
  {
   "cell_type": "markdown",
   "metadata": {},
   "source": [
    "Si bien en asignaciones como las que hemos visto el desempaquetamiento tiene lugar de forma automática e implícita, también es posible desempaquetar secuencias en otras expresiones, en cuyo caso sí hemos de utilizar el operador `*`:"
   ]
  },
  {
   "cell_type": "code",
   "execution_count": 28,
   "metadata": {},
   "outputs": [
    {
     "name": "stdout",
     "output_type": "stream",
     "text": [
      "[1, 2, 3, 'hola', 4, 5]\n"
     ]
    }
   ],
   "source": [
    "t1 = (1, 2, 3)\n",
    "t2 = (4, 5)\n",
    "l = [*t1, 'hola', *t2]\n",
    "print(l)"
   ]
  },
  {
   "cell_type": "markdown",
   "metadata": {},
   "source": [
    "También es posible desempaquetar diccionarios, utilizando el operador `**`. El funcionamiento es muy similar. Veamos un ejemplo sencillo:"
   ]
  },
  {
   "cell_type": "code",
   "execution_count": 29,
   "metadata": {},
   "outputs": [
    {
     "name": "stdout",
     "output_type": "stream",
     "text": [
      "{'hola': 4, 'qué': 3, 'tal': 3, 'caramba': 7, 'adiós': 5, 'muy': 3, 'buenas': 6}\n"
     ]
    }
   ],
   "source": [
    "d1 = {'hola': 4, 'qué': 3, 'tal': 3}\n",
    "d2 = {'adiós': 5, 'muy':3 , 'buenas': 6}\n",
    "d = {**d1, 'caramba': 7, **d2}\n",
    "print(d)"
   ]
  },
  {
   "cell_type": "markdown",
   "metadata": {},
   "source": [
    "### Empaquetamiento.\n",
    "\n",
    "Python permite utilizar el operador `*` en la parte izquierda de una asignación, siempre que ésta consista en una lista de variables. Sólo se puede utilizar con una de las variables de la lista (las demás se dice que son *obligatorias*). En este caso, su efecto es *empaquetar* los elementos “sobrantes” del desempaquetamiento de la secuencia a la derecha de la asignación en la variable a la que se le ha aplicado el `*`. Lo mejor es verlo con un ejemplo:"
   ]
  },
  {
   "cell_type": "code",
   "execution_count": 30,
   "metadata": {},
   "outputs": [
    {
     "name": "stdout",
     "output_type": "stream",
     "text": [
      "0 || 1 || [2, 3, 4, 5, 6, 7, 8, 9]\n",
      "C || ['A', 'D', 'E', 'N'] || A\n",
      "[] || hola || adiós\n"
     ]
    }
   ],
   "source": [
    "a, b, *c = range(10)  # range(10) es un iterable\n",
    "print(a, b, c, sep=' || ')\n",
    "\n",
    "a, *b, c = 'CADENA'\n",
    "print(a, b, c, sep=' || ')\n",
    "\n",
    "*a, b, c = 'hola', 'adiós'  # ¡esto es una tupla!\n",
    "print(a, b, c, sep=' || ')"
   ]
  },
  {
   "cell_type": "markdown",
   "metadata": {},
   "source": [
    "Como se puede apreciar, el empaquetamiento siempre resulta en una lista. Las variables obligatorias (las que no llevan el `*`) siempre deben recibir un elemento, por lo que en la secuencia de la derecha debe haber al menos tantos elementos como variables obligatorias a la izquierda. El resto de los elementos, si quedan, se empaquetan en la variable con `*`.\n",
    "\n",
    "Este mecanismo es similar al que actúa cuando una función posee un parámetro `*` en el que se empaquetan los argumentos posicionales “sobrantes” de la llamada."
   ]
  },
  {
   "cell_type": "markdown",
   "metadata": {},
   "source": [
    "### Desempaquetamiento de argumentos de funciones.\n",
    "\n",
    "Obviamente, también podemos usar los operadores de *desempaquetamiento* de secuencias (`*`) y diccionarios (`**`) en los argumentos de una llamada a una función. Veamos algunos ejemplos:"
   ]
  },
  {
   "cell_type": "code",
   "execution_count": 31,
   "metadata": {},
   "outputs": [],
   "source": [
    "def f(a, b, c, d):\n",
    "    for arg in 'abcd':\n",
    "        print(f'{arg} = {eval(arg)}') # arg es el nombre de uno de los parámetros"
   ]
  },
  {
   "cell_type": "code",
   "execution_count": 32,
   "metadata": {},
   "outputs": [
    {
     "name": "stdout",
     "output_type": "stream",
     "text": [
      "a = 1\n",
      "b = 2\n",
      "c = 3\n",
      "d = 4\n"
     ]
    }
   ],
   "source": [
    "l = [1, 2, 3, 4]\n",
    "f(*l)"
   ]
  },
  {
   "cell_type": "markdown",
   "metadata": {},
   "source": [
    "Aquí simplemente se ha desempaquetado la lista `l` (podría tratarse de cualquier tipo de secuencia o iterable) en la llamada a `f`, logrando el mismo efecto que con `f(1, 2, 3, 4)`.\n",
    "\n",
    "Desempaquetando un diccionario, logramos el mismo efecto que si utilizásemos argumentos *keyword*:"
   ]
  },
  {
   "cell_type": "code",
   "execution_count": 33,
   "metadata": {},
   "outputs": [
    {
     "name": "stdout",
     "output_type": "stream",
     "text": [
      "a = 1\n",
      "b = 5\n",
      "c = 10\n",
      "d = 20\n"
     ]
    }
   ],
   "source": [
    "dicc = {'c': 10, 'd': 20}\n",
    "f(1, 5, **dicc)"
   ]
  },
  {
   "cell_type": "markdown",
   "metadata": {},
   "source": [
    "Aquí podemos ver, además, que podemos usar el desempaquetamiento sólo para parte de los argumentos. Es más, podemos combinar ambos tipos de desempaquetamiento:"
   ]
  },
  {
   "cell_type": "code",
   "execution_count": 34,
   "metadata": {},
   "outputs": [
    {
     "name": "stdout",
     "output_type": "stream",
     "text": [
      "a = 1\n",
      "b = 5\n",
      "c = 10\n",
      "d = 20\n"
     ]
    }
   ],
   "source": [
    "l = [1, 5]\n",
    "dicc = {'c': 10, 'd': 20}\n",
    "f(*l, **dicc)"
   ]
  },
  {
   "cell_type": "markdown",
   "metadata": {},
   "source": [
    "Con toda lógica, la sintaxis del desempaquetamiento de argumentos, empleando los operadores `*` y `**`, es totalmente coherente con la sintaxis del [empaquetamiento de argumentos en parámetros](#Empaquetamiento-de-argumentos-en-parámetros.).\n",
    "\n",
    "Obviamente, no hay inconveniente alguno en emplear ambas técnicas: podemos definir funciones con parámetros que empaquetan argumentos posicionales y/o argumentos *keyword*, y usar el desempaquetamiento de argumentos a la hora de llamarlas. Recuperemos una función que ya utilizamos como ejemplo más arriba:"
   ]
  },
  {
   "cell_type": "code",
   "execution_count": 35,
   "metadata": {},
   "outputs": [],
   "source": [
    "def g(*posargs, **kwargs):\n",
    "    for arg in posargs:\n",
    "        print(arg)\n",
    "    for k, v in kwargs.items():\n",
    "        print(f'{k} = {v}')"
   ]
  },
  {
   "cell_type": "code",
   "execution_count": 36,
   "metadata": {},
   "outputs": [
    {
     "name": "stdout",
     "output_type": "stream",
     "text": [
      "10\n",
      "20\n",
      "30\n",
      "r = hola\n",
      "s = qué\n",
      "t = tal\n"
     ]
    }
   ],
   "source": [
    "l = [10, 20, 30]\n",
    "d = {'r': 'hola', 's': 'qué', 't': 'tal'}\n",
    "\n",
    "g(*l, **d)"
   ]
  },
  {
   "cell_type": "code",
   "execution_count": 37,
   "metadata": {
    "scrolled": true
   },
   "outputs": [
    {
     "name": "stdout",
     "output_type": "stream",
     "text": [
      "5\n",
      "10\n",
      "20\n",
      "30\n",
      "r = hola\n",
      "s = qué\n",
      "t = tal\n",
      "cosa = 1000\n"
     ]
    }
   ],
   "source": [
    "g(5, *l, **d, cosa=1000)"
   ]
  },
  {
   "cell_type": "markdown",
   "metadata": {},
   "source": [
    "Como se puede ver, podemos combinar como queramos argumentos individuales y desempaquetados, tanto posicionales como *keyword*, siempre que respetemos la restricción de que los argumentos posicionales deben ir por delante de los argumentos *keyword*."
   ]
  },
  {
   "cell_type": "markdown",
   "metadata": {},
   "source": [
    "## Establecimiento de restricciones en el paso de argumentos.\n",
    "\n",
    "Al definir una función, nos puede interesar que a ciertos parámetros se les puedan pasar sólo argumentos posicionales, sólo argumentos *keyword* o de ambos tipos. Esto se puede lograr mediante los parámetros especiales `/` y `*`:\n",
    "\n",
    "    def f(pos1, pos2, /, pos_o_kwd, *, kwd1, kwd2):\n",
    "          -----------    ----------    ----------\n",
    "            |              |                |\n",
    "            |   Posicional o keyword        |\n",
    "            |                                -- Sólo keyword\n",
    "             -- Sólo posicionales\n",
    "\n",
    "El uso de los símbolos `/` y `*` es opcional. Se puede utilizar sólo uno de ellos o ambos. En este último caso, el símbolo `/` debe ir siempre antes que el símbolo `*`.\n",
    "\n",
    "Cuando al comienzo de este seminario tratábamos de los [parámetros con valores predeterminados](#Parámetros-con-valores-predeterminados.), pusimos como ejemplo el método `str.find`, y decíamos que su definición de parámetros es similar a ésta:\n",
    "\n",
    "    def find(sub, start=0, end=-1, /):\n",
    "\n",
    "Lo que se pretende con esto es impedir que se puedan pasar argumentos *keyword* a este método, y podemos ver que así sucede:\n",
    "\n",
    "    'Hola y adiós'.find('y', end=8)\n",
    "                [...]\n",
    "                \n",
    "    TypeError: find() takes no keyword arguments\n",
    "\n",
    "Otro ejemplo del uso de estas restricciones lo podemos ver en el método `list.sort`, cuya definición es más o  menos así:\n",
    "\n",
    "    def sort(/, *, key=None, reverse=False):\n",
    "\n",
    "Los argumentos de esta función (todos opcionales) han de ser obligatoriamente de tipo *keyword*:\n",
    "\n",
    "    lt = [(1, 5), (2, 0), (5, 2), (7, 1)]\n",
    "    lt.sort(lambda t: t[1])\n",
    "             [...]\n",
    "             \n",
    "    TypeError: sort() takes no positional arguments"
   ]
  },
  {
   "cell_type": "markdown",
   "metadata": {},
   "source": [
    "## Expresiones Lambda.\n",
    "\n",
    "Las expresiones `lambda` se usan para definir pequeñas funciones anónimas, con la siguiente sintaxis:\n",
    "\n",
    "    lambda arg1, arg2, ... : expresión(arg1, arg2, ...)\n",
    "\n",
    "Una función definida de esta forma retornará el resultado de evaluar la expresión de la derecha al sustituir arg1, arg2, ... por los valores que hayamos pasado en la llamada. Por ejemplo:\n",
    "\n",
    "    maximo = lambda x, y: x if x>y else y\n",
    "    maximo(5, -4)\n",
    "    \n",
    "    5\n",
    "\n",
    "Otro ejemplo:\n",
    "\n",
    "    borrar = lambda s, sub: ''.join(s.split(sub))\n",
    "    borrar(\"canción de cuna para una marmota\", \"una\")\n",
    "    \n",
    "    'canción de c para  marmota'\n",
    "\n",
    "A primera vista puede resultar difícil encontrar utilidad a las expresiones `lambda`, pero en ciertos contextos resulta extremadamente conveniente poder definir una función en el mismo lugar donde se utiliza, sin necesidad de definirla aparte de la manera convencional. Precisamente, un poco más arriba se ha presentado el método `list.sort` como ejemplo de contexto en el que se obliga a utilizar argumentos *keyword*, haciendo uso de una expresión `lambda`. Vamos a recuperar ese ejemplo, si bien (por simplicidad) emplearemos la función `sorted`, en lugar del método `list.sort`.\n",
    "\n",
    "La función `sorted` (al igual que el método `list.sort`) posee un parámetro `key`, a través del cual se suministra una función que actúa como *clave de ordenación*. Antes de comparar dos elementos de la lista (para saber cuál va antes), `sorted` les aplica el método especificado a través del parámetro `key`. En ausencia del argumento `key`, la función `sorted` utiliza como claves los propios elementos de la secuencia. Cuando deseamos usar como clave de ordenación una combinación de ciertas partes de cada elemento, el parámetro `key` permite precisamente definir dicha combinación. Considérese, por ejemplo, la siguiente lista de tuplas:"
   ]
  },
  {
   "cell_type": "code",
   "execution_count": 33,
   "metadata": {},
   "outputs": [],
   "source": [
    "lt = [(1, 5), (2, 0), (5, 2), (7, 1)]"
   ]
  },
  {
   "cell_type": "markdown",
   "metadata": {},
   "source": [
    "Supongamos que queremos ordenarla pero *utilizando como clave el segundo elemento de las tuplas*. Normalmente, `sort` ordenaría la lista comparando los valores de las tuplas de izquierda a derecha, empezando por el primero, después el segundo, etc.:"
   ]
  },
  {
   "cell_type": "code",
   "execution_count": 34,
   "metadata": {},
   "outputs": [
    {
     "name": "stdout",
     "output_type": "stream",
     "text": [
      "[(1, 5), (2, 0), (5, 2), (7, 1)]\n"
     ]
    }
   ],
   "source": [
    "print(sorted(lt))"
   ]
  },
  {
   "cell_type": "markdown",
   "metadata": {},
   "source": [
    "¿Cómo podemos usar el segundo elemento de las tuplas como clave? La solución es muy simple: pasándole en el parámetro `key` una función anónima que retorne el 2º elemento de su argumento. Esto lo podemos conseguir mediante una expresión `lambda` del siguiente modo:"
   ]
  },
  {
   "cell_type": "code",
   "execution_count": 35,
   "metadata": {},
   "outputs": [
    {
     "name": "stdout",
     "output_type": "stream",
     "text": [
      "[(2, 0), (7, 1), (5, 2), (1, 5)]\n"
     ]
    }
   ],
   "source": [
    "print(sorted(lt, key=lambda t: t[1]))"
   ]
  },
  {
   "cell_type": "markdown",
   "metadata": {},
   "source": [
    "¿Y si quisiéramos ordenar por la suma de todos los elementos de cada tupla?"
   ]
  },
  {
   "cell_type": "code",
   "execution_count": 36,
   "metadata": {},
   "outputs": [
    {
     "name": "stdout",
     "output_type": "stream",
     "text": [
      "[(2, 0), (1, 5), (5, 2), (7, 1)]\n"
     ]
    }
   ],
   "source": [
    "print(sorted(lt, key=lambda t: sum(t)))"
   ]
  },
  {
   "cell_type": "markdown",
   "metadata": {},
   "source": [
    "Veamos un último ejemplo de aplicación de las expresiones `lambda`. Esta vez definimos un diccionario con sendas funciones de conversión de grados Fahrenheit a Kelvin y de grados Celsius a Kelvin:"
   ]
  },
  {
   "cell_type": "code",
   "execution_count": 38,
   "metadata": {},
   "outputs": [
    {
     "name": "stdout",
     "output_type": "stream",
     "text": [
      "273.15\n",
      "290.15\n"
     ]
    }
   ],
   "source": [
    "t = { \"F2K\": lambda g: 273.15 + (g-32) * 5/9, \"C2K\": lambda g: 273.15 + g }\n",
    "print(t[\"F2K\"](32))\n",
    "print(t[\"C2K\"](17))"
   ]
  },
  {
   "cell_type": "markdown",
   "metadata": {},
   "source": [
    "## Las funciones `map()`, `filter()` y `reduce()`.\n",
    "\n",
    "Las funciones `map()` y `filter()` forman parte del lenguaje Python, mientras que `reduce()` viene incluida en el módulo `functools`. Estos métodos se han integrado en Python pero provienen de los así llamados *lenguajes funcionales*, basados en un paradigma de programación basado exclusivamente en funciones y métodos, que se combinan entre sí, generando, simplificando, transformando o reduciendo secuencias de datos. Pese a ser herramientas muy extendidas, existen alternativas más eficientes en Python, como las *comprehensions*, que veremos en un seminario posterior."
   ]
  },
  {
   "cell_type": "markdown",
   "metadata": {},
   "source": [
    "La expresión `map(func, items1, items2, ..., itemsN)` genera un iterable con la salida de la función `func`, cuyos N argumentos de entrada se toman de las N secuencias (listas, iterables, ...) que le siguen en la lista de argumentos. El tamaño del iterable de salida es el de las más corta de las secuencias de entrada. Por ejemplo:"
   ]
  },
  {
   "cell_type": "code",
   "execution_count": 38,
   "metadata": {},
   "outputs": [
    {
     "name": "stdout",
     "output_type": "stream",
     "text": [
      "(0.0, 3.0)\n",
      "(2.0, 4.0)\n"
     ]
    }
   ],
   "source": [
    "def centro(*p):\n",
    "    x = 0.0\n",
    "    y = 0.0\n",
    "    for i in range(len(p)):\n",
    "        x += p[i][0]\n",
    "        y += p[i][1]\n",
    "    return x/len(p), y/len(p)\n",
    "\n",
    "lst1 = [(2, 3), (5, 6), (8, 9)]\n",
    "lst2 = [(-3, 5), (-1, 4)]\n",
    "lst3 = [(1, 1), (2, 2), (3, 3), (4, 4)]\n",
    "g = map(centro, lst1, lst2, lst3)\n",
    "for c in g:\n",
    "    print(c)"
   ]
  },
  {
   "cell_type": "markdown",
   "metadata": {},
   "source": [
    "La expresión `filter(func, t)` genera un iterable con los elementos del iterable `t` que cumplen la condición expresada por la función `func` (que actúa como filtro). La función `func()` toma un único valor como argumento y retorna `True` o `False`. Por ejemplo:"
   ]
  },
  {
   "cell_type": "code",
   "execution_count": 39,
   "metadata": {},
   "outputs": [
    {
     "name": "stdout",
     "output_type": "stream",
     "text": [
      "(2.0, 4.0)\n"
     ]
    }
   ],
   "source": [
    "import math\n",
    "\n",
    "def centro(*p):\n",
    "    x = 0.0\n",
    "    y = 0.0\n",
    "    for i in range(len(p)):\n",
    "        x += p[i][0]\n",
    "        y += p[i][1]\n",
    "    return x/len(p), y/len(p)\n",
    "\n",
    "lst1 = [(2, 3), (5, 6), (8, 9)]\n",
    "lst2 = [(-3, 5), (-1, 4)]\n",
    "lst3 = [(1, 1), (2, 2), (3, 3), (4, 4)]\n",
    "g = map(centro, lst1, lst2, lst3)\n",
    "f = filter(lambda p: math.sqrt(p[0]*p[0]+p[1]*p[1])>4, g)\n",
    "for c in f:\n",
    "    print(c)"
   ]
  },
  {
   "cell_type": "markdown",
   "metadata": {},
   "source": [
    "La salida de la función `filter`es un iterable formado por las tuplas del iterable g (generado por una función `map`) que verifican la condición del filtro. Como vemos, la función filtro se ha definido a través de una expresión `lambda`."
   ]
  },
  {
   "cell_type": "markdown",
   "metadata": {},
   "source": [
    "La expresión `functools.reduce(func, t, [initial_value])` repite de manera iterativa la operación `func(a, b)` sobre los elementos del iterable `t`, de acuerdo al siguiente esquema:\n",
    "\n",
    "1. toma los dos primeros elementos del iterable, `a` y `b`, llama a `func(a, b)` obteniendo un resultado `r1`;\n",
    "2. toma el siguiente elemento `c` del iterable, llama a `func(r1, c)`, obteniendo `r2`;\n",
    "3. toma el siguiente elemento `d` del iterable, llama a `func(r2, d)`, obteniendo `r3` ...\n",
    "4. ... y así sucesivamente hasta terminar con el iterable, retornando el último resultado calculado.\n",
    "\n",
    "Si se suministra un valor inicial, este se usa como punto de partida, calculando en primer lugar `func(initial_value, a)`. Si el iterable no produce ningún valor, `functools.reduce()` retorna el valor inicial.\n",
    "Si no se suministra un valor inicial y el iterable `t` no produce ningún valor, se produce una excepción de tipo `TypeError`. Veamos unos ejemplos:"
   ]
  },
  {
   "cell_type": "code",
   "execution_count": 39,
   "metadata": {},
   "outputs": [
    {
     "name": "stdout",
     "output_type": "stream",
     "text": [
      "(8, 9)\n"
     ]
    }
   ],
   "source": [
    "import functools\n",
    "import math\n",
    "\n",
    "def modulo(p):\n",
    "    return math.sqrt(p[0]*p[0]+p[1]*p[1])\n",
    "\n",
    "l = [(2, 3), (5, 6), (8, 9), (3, 6), (1, 2)]\n",
    "r = functools.reduce(lambda p, q: p if modulo(p)>modulo(q) else q, l, (0,0))\n",
    "print(r)"
   ]
  },
  {
   "cell_type": "code",
   "execution_count": 40,
   "metadata": {},
   "outputs": [
    {
     "name": "stdout",
     "output_type": "stream",
     "text": [
      "(0, 0)\n"
     ]
    }
   ],
   "source": [
    "# Iterable vacío con valor inicial\n",
    "r = functools.reduce(lambda p, q: p if modulo(p)>modulo(q) else q, [], (0,0))\n",
    "print(r)"
   ]
  },
  {
   "cell_type": "code",
   "execution_count": 41,
   "metadata": {},
   "outputs": [
    {
     "ename": "TypeError",
     "evalue": "reduce() of empty sequence with no initial value",
     "output_type": "error",
     "traceback": [
      "\u001b[0;31m---------------------------------------------------------------------------\u001b[0m",
      "\u001b[0;31mTypeError\u001b[0m                                 Traceback (most recent call last)",
      "\u001b[0;32m<ipython-input-41-0a75b8b4e071>\u001b[0m in \u001b[0;36m<module>\u001b[0;34m\u001b[0m\n\u001b[1;32m      1\u001b[0m \u001b[0;31m# Iterable vacío sin valor inicial\u001b[0m\u001b[0;34m\u001b[0m\u001b[0;34m\u001b[0m\u001b[0;34m\u001b[0m\u001b[0m\n\u001b[0;32m----> 2\u001b[0;31m \u001b[0mr\u001b[0m \u001b[0;34m=\u001b[0m \u001b[0mfunctools\u001b[0m\u001b[0;34m.\u001b[0m\u001b[0mreduce\u001b[0m\u001b[0;34m(\u001b[0m\u001b[0;32mlambda\u001b[0m \u001b[0mp\u001b[0m\u001b[0;34m,\u001b[0m \u001b[0mq\u001b[0m\u001b[0;34m:\u001b[0m \u001b[0mp\u001b[0m \u001b[0;32mif\u001b[0m \u001b[0mmodulo\u001b[0m\u001b[0;34m(\u001b[0m\u001b[0mp\u001b[0m\u001b[0;34m)\u001b[0m\u001b[0;34m>\u001b[0m\u001b[0mmodulo\u001b[0m\u001b[0;34m(\u001b[0m\u001b[0mq\u001b[0m\u001b[0;34m)\u001b[0m \u001b[0;32melse\u001b[0m \u001b[0mq\u001b[0m\u001b[0;34m,\u001b[0m \u001b[0;34m[\u001b[0m\u001b[0;34m]\u001b[0m\u001b[0;34m)\u001b[0m\u001b[0;34m\u001b[0m\u001b[0;34m\u001b[0m\u001b[0m\n\u001b[0m",
      "\u001b[0;31mTypeError\u001b[0m: reduce() of empty sequence with no initial value"
     ]
    }
   ],
   "source": [
    "# Iterable vacío sin valor inicial\n",
    "r = functools.reduce(lambda p, q: p if modulo(p)>modulo(q) else q, [])"
   ]
  },
  {
   "cell_type": "markdown",
   "metadata": {},
   "source": [
    "Combinando las funciones `map()`, `filter()` y `reduce()`, y usando expresiones `lambda` para definir funciones anónimas donde convenga, se pueden atacar operaciones de procesamiento de datos muy complejas. Sin embargo, como se ha dicho, las implementaciones en Python de estas funciones no son especialmente eficientes, por lo que no se recomienda utilizarlas con asiduidad. "
   ]
  },
  {
   "cell_type": "code",
   "execution_count": null,
   "metadata": {},
   "outputs": [],
   "source": []
  }
 ],
 "metadata": {
  "kernelspec": {
   "display_name": "Python 3",
   "language": "python",
   "name": "python3"
  },
  "language_info": {
   "codemirror_mode": {
    "name": "ipython",
    "version": 3
   },
   "file_extension": ".py",
   "mimetype": "text/x-python",
   "name": "python",
   "nbconvert_exporter": "python",
   "pygments_lexer": "ipython3",
   "version": "3.8.2"
  }
 },
 "nbformat": 4,
 "nbformat_minor": 5
}
