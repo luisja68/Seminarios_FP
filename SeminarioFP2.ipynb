{
 "cells": [
  {
   "cell_type": "markdown",
   "id": "catholic-cooler",
   "metadata": {},
   "source": [
    "# Seminario 2 de Python: Técnicas de paso de argumentos. Funciones Lambda.\n",
    "\n",
    "Hasta este momento hemos visto lo más básico sobre la definición de funciones: cómo definir sus parámetros posicionales, y también cómo definir parámetros con valores predeterminados, de modo que no sea necesario especificarlos en la llamada a la función a menos que deseemos pasar argumentos diferentes a los predeterminados. Pero Python ofrece muchas más posibilidades en lo concerniente a la definición de argumentos y paso de argumentos a funciones.\n",
    "\n",
    "> **Nota:** Formalmente, se denominan *parámetros* a los nombres que se especifican en la *definición* de la función; y se denominan *argumentos* a las expresiones que se especifican en la *llamada* a la función. Es decir: al llamar a una función, se le *pasan* argumentos que son *recibidos* por sus parámetros (como referencias a objetos, tal como vimos en el seminario 1).\n",
    "\n",
    "Por otra parte, además de la sintaxis de definición de funciones que ya conocemos (usando `def`), Python ofrece la posibilidad de definir una función como parte de una expresión, en el punto en que se necesite, utilizando `lambda`.\n",
    "\n",
    "Lo que vamos a tratar en este seminario corresponde aproximadamente a [esta sección de The Python Tutorial](https://docs.python.org/3/tutorial/controlflow.html#more-on-defining-functions). Aquí nos centraremos en lo más interesante, útil o más difícil de comprender.\n",
    "\n",
    "\n",
    "\n",
    "## Parámetros con valores predeterminados.\n",
    "\n",
    "Si bien esta posibilidad ya la conocemos, recordaremos cómo se utiliza.\n",
    "\n",
    "Es posible definir funciones con parámetros a los que se les asignan valores predeterminados. De este modo, se convierten en opcionales, salvo que deseemos pasar valores diferentes a los predeterminados. Esta técnica se usa frecuentemente en funciones en las que algunos de sus parámetros se utilizan para alterar algunos aspectos secundarios de su funcionamiento. Por ejemplo, el método `str.find` permite especificar opcionalmente la posición inicial de búsqueda, y adicionalmente la posición final:"
   ]
  },
  {
   "cell_type": "code",
   "execution_count": 1,
   "id": "based-democracy",
   "metadata": {},
   "outputs": [
    {
     "name": "stdout",
     "output_type": "stream",
     "text": [
      "4\n",
      "21\n",
      "-1\n"
     ]
    }
   ],
   "source": [
    "s='¡al rico helado! ¡al rico helado!'\n",
    "print(s.find('rico'))\n",
    "print(s.find('rico', 5))\n",
    "print(s.find('rico', 5, 10))"
   ]
  },
  {
   "cell_type": "markdown",
   "id": "concerned-physics",
   "metadata": {},
   "source": [
    "Este comportamiento se consigue con una definición similar a ésta:\n",
    "\n",
    "    def find(sub, start=0, end=-1, /):\n",
    "        [...]\n",
    "\n",
    "(El significado de `/` en la lista de parámetros se verá [más adelante](#Establecimiento-de-restricciones-en-los-parámetros.).)\n",
    "\n",
    "Los parámetros sin valores predeterminados deben especificarse siempre en primer lugar, ya que en caso contrario daría lugar a confusión. En otras palabras: una vez que se especifica un parámetro con valor predeterminado, todos los que van a continuación también deben tener un valor predeterminado. Por ejemplo: si definimos algo como\n",
    "\n",
    "    def f(a=5, b):\n",
    "        [...]\n",
    "\n",
    "¿cómo se interpreta la llamada `f(3)`? Por su posición (primero y único), el argumento `3` debería ser recibido por el parámetro `a`, pero como es el único argumento y el parámetro `b` no es opcional, ¿no debería recibirlo el parámetro `b`? Para evitar esta situación, Python lo prohíbe sintácticamente:\n",
    "\n",
    "    def f(a=5, b):\n",
    "        print(a, b)\n",
    "\t\n",
    "    SyntaxError: non-default argument follows default argument\n",
    "    \n",
    "Por último, es importante tener en cuenta que los valores predeterminados (que pueden ser cualquier expresión) de los parámetros *se evalúan en el momento de la definición de la función*, no al llamarla. Esto puede dar lugar a sorpresas en caso de utilizar objetos mutables:"
   ]
  },
  {
   "cell_type": "code",
   "execution_count": 2,
   "id": "wireless-malpractice",
   "metadata": {},
   "outputs": [
    {
     "name": "stdout",
     "output_type": "stream",
     "text": [
      "[1]\n",
      "[1, 2]\n",
      "[1, 2, 3]\n",
      "['a', 'b', 'c']\n",
      "[1, 2, 3, 4]\n"
     ]
    }
   ],
   "source": [
    "def f(a, l=[]):\n",
    "    l.append(a)\n",
    "    return l\n",
    "\n",
    "print(f(1))\n",
    "print(f(2))\n",
    "print(f(3))\n",
    "print(f('c', ['a','b']))\n",
    "print(f(4))"
   ]
  },
  {
   "cell_type": "markdown",
   "id": "whole-dryer",
   "metadata": {},
   "source": [
    "¿Qué ha sucedido? El valor predeterminado de `l` se evaluó al definir la función `f`, y ya no vuelve a evaluarse por muchas veces que la llamemos. Es decir, el objeto `[]` se creó al definir la función, así como la referencia a él desde el parámetro `l`. Entonces, en la primera llamada se añade a esa lista el valor `1`; en la segunda llamada se le añade *a la misma lista* (que sigue referenciada por `l`) el valor `2`, etc. Nótese que esto no se ve afectado porque en otro momento llamemos a `f` pasando una lista distinta al parámetro `l`: en la siguiente llamada en que se usa su valor predeterminado, vuelve a referenciar el objeto inicial.\n",
    "\n",
    "\n",
    "## Argumentos *keyword*.\n",
    "\n",
    "Como alternativa al paso de argumentos posicional, también es posible llamar a una función especificando los argumentos en la forma `keyword=expresión`, donde `keyword` es el nombre de cualquier parámetro de la función. En este caso, el orden o posición de los argumentos *keyword* es irrelevante.\n",
    "\n",
    "Es posible combinar argumentos posicionales y argumentos *keyword* en una llamada a una función. Ahora bien, de forma similar a lo que sucede con los parámetros con valores predeterminados, los argumentos posicionales deben especificarse primero, y a continuación irán los argumentos *keyword*. Un ejemplo:"
   ]
  },
  {
   "cell_type": "code",
   "execution_count": 3,
   "id": "virtual-pontiac",
   "metadata": {},
   "outputs": [],
   "source": [
    "def f(a, b=10, c='hola que tal'):\n",
    "    # Más adelante veremos una forma más general, simple y elegante de hacer esto:\n",
    "    for arg in 'abc':\n",
    "        print(f'{arg} = {eval(arg)}')"
   ]
  },
  {
   "cell_type": "code",
   "execution_count": 4,
   "id": "spread-bracket",
   "metadata": {},
   "outputs": [
    {
     "name": "stdout",
     "output_type": "stream",
     "text": [
      "a = 5\n",
      "b = 10\n",
      "c = hola que tal\n"
     ]
    }
   ],
   "source": [
    "f(5)"
   ]
  },
  {
   "cell_type": "code",
   "execution_count": 5,
   "id": "metallic-potter",
   "metadata": {},
   "outputs": [
    {
     "name": "stdout",
     "output_type": "stream",
     "text": [
      "a = 1\n",
      "b = 2\n",
      "c = hola que tal\n"
     ]
    }
   ],
   "source": [
    "f(b=2, a=1)"
   ]
  },
  {
   "cell_type": "code",
   "execution_count": 6,
   "id": "systematic-married",
   "metadata": {},
   "outputs": [
    {
     "name": "stdout",
     "output_type": "stream",
     "text": [
      "a = 1\n",
      "b = 2\n",
      "c = 3\n"
     ]
    }
   ],
   "source": [
    "f(1, 2, 3)"
   ]
  },
  {
   "cell_type": "code",
   "execution_count": 7,
   "id": "distinguished-milan",
   "metadata": {},
   "outputs": [
    {
     "name": "stdout",
     "output_type": "stream",
     "text": [
      "a = 100\n",
      "b = 10\n",
      "c = caramba\n"
     ]
    }
   ],
   "source": [
    "f(c='caramba', a=100)"
   ]
  },
  {
   "cell_type": "markdown",
   "id": "caroline-temperature",
   "metadata": {},
   "source": [
    "Como se puede ver, mientras se respete la regla de que los argumentos posicionales (si los hay) han de especificarse delante de los argumentos *keyword* (si los hay), podemos realizar las combinaciones que queramos.\n",
    "\n",
    "Por el contrario, estas llamadas a la función `f` no son posibles:\n",
    "\n",
    "    f()                # Se exige al menos un argumento (TypeError)\n",
    "    f(a=100, 7)        # Argumento posicional tras un argumento keyword (SyntaxError)\n",
    "    f(100, a=5)        # Dos argumentos para el mismo parámetro (TypeError)\n",
    "    f(100, d='adiós')  # Argumento keyword inesperado (TypeError)\n",
    "    \n",
    "\n",
    "## Empaquetamiento de argumentos en parámetros.\n",
    "\n",
    "En este punto pasamos a la sección de virguerías pythonescas. Veamos qué sucede con la siguiente función:"
   ]
  },
  {
   "cell_type": "code",
   "execution_count": 8,
   "id": "polish-filing",
   "metadata": {},
   "outputs": [],
   "source": [
    "def f(a, b=10, *posargs):\n",
    "    print(f'a = {a}')\n",
    "    print(f'b = {b}')\n",
    "    print(f'posargs = {posargs}')"
   ]
  },
  {
   "cell_type": "code",
   "execution_count": 9,
   "id": "possible-rochester",
   "metadata": {},
   "outputs": [
    {
     "name": "stdout",
     "output_type": "stream",
     "text": [
      "a = 5\n",
      "b = 10\n",
      "posargs = ()\n"
     ]
    }
   ],
   "source": [
    "f(5)"
   ]
  },
  {
   "cell_type": "code",
   "execution_count": 10,
   "id": "functional-cathedral",
   "metadata": {},
   "outputs": [
    {
     "name": "stdout",
     "output_type": "stream",
     "text": [
      "a = 1\n",
      "b = 2\n",
      "posargs = (3, 4, 5, 6)\n"
     ]
    }
   ],
   "source": [
    "f(1,2,3,4,5,6)"
   ]
  },
  {
   "cell_type": "markdown",
   "id": "silent-difficulty",
   "metadata": {},
   "source": [
    "¿Qué estamos viendo? Al especificar un parámetro precedido de `*`, en ese parámetro se empaquetan todos los *argumentos posicionales* que se especifiquen en la llamada, excepto aquéllos a los que ya les corresponda un parámetro. En este ejemplo, la función `f` tiene dos parámetros específicos (`a` y `b`), y un tercer parámetro `*posargs` que recogerá el resto de argumentos posicionales, empaquetándolos en forma de tupla. Lógicamente, sólo podremos recoger argumentos posicionales en `*posargs`, ya que si en la llamada a `f` utilizamos argumentos *keyword* para `a` o `b`, todos los demás argumentos también habrán de ser *keyword*.\n",
    "\n",
    "No obstante, y como cabría esperar, también hay una forma de empaquetar argumentos *keyword* en un parámetro:"
   ]
  },
  {
   "cell_type": "code",
   "execution_count": 11,
   "id": "qualified-valve",
   "metadata": {},
   "outputs": [],
   "source": [
    "def f(a, b=10, *posargs, **kwargs):\n",
    "    print(f'a = {a}')\n",
    "    print(f'b = {b}')\n",
    "    print(f'posargs = {posargs}')\n",
    "    print(f'kwargs  = {kwargs}')"
   ]
  },
  {
   "cell_type": "code",
   "execution_count": 12,
   "id": "structured-income",
   "metadata": {},
   "outputs": [
    {
     "name": "stdout",
     "output_type": "stream",
     "text": [
      "a = 5\n",
      "b = 10\n",
      "posargs = ()\n",
      "kwargs  = {}\n"
     ]
    }
   ],
   "source": [
    "f(5)"
   ]
  },
  {
   "cell_type": "code",
   "execution_count": 13,
   "id": "elementary-friday",
   "metadata": {
    "scrolled": true
   },
   "outputs": [
    {
     "name": "stdout",
     "output_type": "stream",
     "text": [
      "a = 1\n",
      "b = 2\n",
      "posargs = (3, 4, 5, 6)\n",
      "kwargs  = {}\n"
     ]
    }
   ],
   "source": [
    "f(1,2,3,4,5,6)"
   ]
  },
  {
   "cell_type": "code",
   "execution_count": 14,
   "id": "ordinary-assumption",
   "metadata": {},
   "outputs": [
    {
     "name": "stdout",
     "output_type": "stream",
     "text": [
      "a = 1\n",
      "b = 2\n",
      "posargs = (3, 4)\n",
      "kwargs  = {'c': 'hola', 'd': 'adiós'}\n"
     ]
    }
   ],
   "source": [
    "f(1, 2, 3, 4, c='hola', d='adiós')"
   ]
  },
  {
   "cell_type": "code",
   "execution_count": 15,
   "id": "bulgarian-recruitment",
   "metadata": {
    "scrolled": true
   },
   "outputs": [
    {
     "name": "stdout",
     "output_type": "stream",
     "text": [
      "a = 1\n",
      "b = 2\n",
      "posargs = ()\n",
      "kwargs  = {'c': 'hola', 'd': 'adiós'}\n"
     ]
    }
   ],
   "source": [
    "f(1, c='hola', b=2, d='adiós')"
   ]
  },
  {
   "cell_type": "markdown",
   "id": "collect-blast",
   "metadata": {},
   "source": [
    "En efecto: al especificar un parámetro precedido de `**`, en éste se empaquetan en forma de diccionario todos los argumentos *keyword* que haya en la llamada, excepto aquéllos para los que exista un parámetro específico. En dicho diccionario cada clave es el nombre del argumento, y cada valor –lógicamente– su valor. Obsérvese en el último ejemplo de llamada a `f` cómo el argumento `b=2` no ha sido recogido en `**kwargs`, puesto que ya existe un parámetro denominado `b` en la definición de la función.\n",
    "\n",
    "En caso de utilizar tanto un parámetro `*` como un `**`, hay que especificarlos en ese orden y siempre ubicarlos al final de la lista de parámetros.\n",
    "\n",
    "Un caso extremo sería una función que sólo cuenta con dos parámetros `*` y `**`. En ese caso, uno recogería todos los argumentos posicionales (si los hay) y el otro todos los argumentos *keyword* (si los hay) especificados en cualquier llamada a esa función:"
   ]
  },
  {
   "cell_type": "code",
   "execution_count": 16,
   "id": "commercial-miniature",
   "metadata": {},
   "outputs": [],
   "source": [
    "def g(*posargs, **kwargs):\n",
    "    for arg in posargs:\n",
    "        print(arg)\n",
    "    for k,v in kwargs.items():\n",
    "        print(f'{k} = {v}')"
   ]
  },
  {
   "cell_type": "code",
   "execution_count": 17,
   "id": "registered-packing",
   "metadata": {},
   "outputs": [
    {
     "name": "stdout",
     "output_type": "stream",
     "text": [
      "1\n",
      "2\n",
      "3\n",
      "a = uno\n",
      "b = dos\n",
      "c = tres\n"
     ]
    }
   ],
   "source": [
    "g(1,2,3, a='uno', b='dos', c='tres')"
   ]
  },
  {
   "cell_type": "code",
   "execution_count": 18,
   "id": "answering-quest",
   "metadata": {},
   "outputs": [
    {
     "name": "stdout",
     "output_type": "stream",
     "text": [
      "1\n",
      "2\n",
      "3\n"
     ]
    }
   ],
   "source": [
    "g(1,2,3)"
   ]
  },
  {
   "cell_type": "code",
   "execution_count": 19,
   "id": "empirical-rover",
   "metadata": {},
   "outputs": [
    {
     "name": "stdout",
     "output_type": "stream",
     "text": [
      "a = uno\n",
      "b = dos\n",
      "c = tres\n"
     ]
    }
   ],
   "source": [
    "g(a='uno', b='dos', c='tres')"
   ]
  },
  {
   "cell_type": "markdown",
   "id": "presidential-insider",
   "metadata": {},
   "source": [
    "## Desempaquetamiento y empaquetamiento en Python.\n",
    "\n",
    "En este punto, conviene explicar que Python posee un operador (`*`) que permite desempaquetar *iterables*. (En otro seminario hablaremos sobre iterables; por el momento, supongamos que se trata de simples secuencias.) En realidad, se usa de forma implícita en expresiones como ésta, que ya hemos utilizado en variadas ocasiones:\n",
    "\n",
    "    a,b,c = 1,2,3\n",
    "\n",
    "Para crear tuplas no son necesarios los paréntesis (si no hay ambigüedad sintáctica); basta con las comas. Por esa razón, estas cuatro expresiones son equivalentes:\n",
    "\n",
    "    a,b,c = 1,2,3\n",
    "    a,b,c = (1,2,3)\n",
    "    (a,b,c) = 1,2,3\n",
    "    (a,b,c) = (1,2,3)\n",
    "\n",
    "El mero hecho de que a la izquierda de una asignación figure una tupla (o una lista) de variables hace que Python automáticamente realice un *desempaquetamiento* de la secuencia situada a la derecha. Por supuesto, la expresión de la derecha no tiene por qué ser un literal; cualquier objeto que sea una secuencia (en realidad, iterable) es válido. La única restricción es que *el número de elementos a ambos lados de la asignación ha de ser el mismo*.\n",
    "\n",
    "Si bien en asignaciones como las que hemos visto el desempaquetamiento tiene lugar de forma automática e implícita, también es posible desempaquetar secuencias en otras expresiones, en cuyo caso sí hemos de utilizar  el operador `*`:"
   ]
  },
  {
   "cell_type": "code",
   "execution_count": 20,
   "id": "representative-january",
   "metadata": {},
   "outputs": [
    {
     "name": "stdout",
     "output_type": "stream",
     "text": [
      "[1, 2, 3, 'hola', 4, 5]\n"
     ]
    }
   ],
   "source": [
    "t1 = (1,2,3)\n",
    "t2 = (4,5)\n",
    "l = [*t1, 'hola', *t2]\n",
    "print(l)"
   ]
  },
  {
   "cell_type": "markdown",
   "id": "handmade-television",
   "metadata": {},
   "source": [
    "*También es posible desempaquetar diccionarios, utilizando el operador `**`*. El funcionamiento es muy similar, y como mejor se ve es con un ejemplo sencillo:"
   ]
  },
  {
   "cell_type": "code",
   "execution_count": 21,
   "id": "helpful-devon",
   "metadata": {},
   "outputs": [
    {
     "name": "stdout",
     "output_type": "stream",
     "text": [
      "{'hola': 4, 'qué': 3, 'tal': 3, 'caramba': 7, 'adiós': 5, 'muy': 3, 'buenas': 6}\n"
     ]
    }
   ],
   "source": [
    "d1 = {'hola':4, 'qué':3, 'tal':3}\n",
    "d2 = {'adiós':5, 'muy':3, 'buenas':6}\n",
    "d = {**d1, 'caramba':7, **d2}\n",
    "print(d)"
   ]
  },
  {
   "cell_type": "markdown",
   "id": "sacred-stake",
   "metadata": {},
   "source": [
    "### Empaquetamiento.\n",
    "\n",
    "Python permite utilizar el operador `*` en la parte izquierda de una asignación, siempre que ésta consista en una lista de variables. Sólo se puede utilizar con una de las variables de la lista (las demás se dice que son *obligatorias*). En este caso, su efecto es *empaquetar* los elementos “sobrantes” del desempaquetamiento de la secuencia a la derecha de la asignación en la variable a la que se le ha aplicado el `*`. Lo mejor es verlo con un ejemplo:"
   ]
  },
  {
   "cell_type": "code",
   "execution_count": 22,
   "id": "blond-shade",
   "metadata": {},
   "outputs": [
    {
     "name": "stdout",
     "output_type": "stream",
     "text": [
      "0 || 1 || [2, 3, 4, 5, 6, 7, 8, 9]\n",
      "C || ['A', 'D', 'E', 'N'] || A\n",
      "[] || hola || adiós\n"
     ]
    }
   ],
   "source": [
    "a,b,*c = range(10)  # range(10) es en realidad un iterable\n",
    "print(a, b, c, sep=' || ')\n",
    "\n",
    "a,*b,c = 'CADENA'\n",
    "print(a, b, c, sep=' || ')\n",
    "\n",
    "*a,b,c = 'hola', 'adiós'  # ¡esto es una tupla!\n",
    "print(a, b, c, sep=' || ')"
   ]
  },
  {
   "cell_type": "markdown",
   "id": "vanilla-yesterday",
   "metadata": {},
   "source": [
    "Como se puede apreciar, el empaquetamiento siempre resulta en una lista. Las variables obligatorias (las que no llevan el `*`) siempre deben recibir un elemento, por lo que en la secuencia de la derecha debe haber al menos tantos elementos como variables obligatorias a la izquierda. El resto de los elementos, si quedan, se empaquetan en la variable con `*`.\n",
    "\n",
    "Si nos fijamos, este mecanismo es similar al que actúa cuando una función posee un parámetro-`*` en el que se empaquetan los argumentos posicionales “sobrantes” de la llamada.\n",
    "\n",
    "\n",
    "### Desempaquetamiento de argumentos de funciones.\n",
    "\n",
    "Éste el punto al que deseábamos llegar: cómo usar los operadores de *desempaquetamiento* de secuencias (`*`) y diccionarios (`**`) en los argumentos de una llamada a una función.\n",
    "\n",
    "Veamos unos ejemplos:"
   ]
  },
  {
   "cell_type": "code",
   "execution_count": 23,
   "id": "growing-shelf",
   "metadata": {},
   "outputs": [],
   "source": [
    "def f(a,b,c,d):\n",
    "    for arg in 'abcd':\n",
    "        print(f'{arg} = {eval(arg)}')"
   ]
  },
  {
   "cell_type": "code",
   "execution_count": 24,
   "id": "improving-commission",
   "metadata": {},
   "outputs": [
    {
     "name": "stdout",
     "output_type": "stream",
     "text": [
      "a = 1\n",
      "b = 2\n",
      "c = 3\n",
      "d = 4\n"
     ]
    }
   ],
   "source": [
    "posargs = 1,2,3,4\n",
    "f(*posargs)"
   ]
  },
  {
   "cell_type": "markdown",
   "id": "thirty-interval",
   "metadata": {},
   "source": [
    "Aquí simplemente se ha desempaquetado la tupla `args` (podría tratarse de cualquier tipo de secuencia o iterable) en la llamada a `f`, logrando el mismo efecto que con `f(1,2,3,4)`.\n",
    "\n",
    "Desempaquetando un diccionario, logramos el mismo efecto que si utilizásemos argumentos *keyword*:"
   ]
  },
  {
   "cell_type": "code",
   "execution_count": 25,
   "id": "adapted-province",
   "metadata": {},
   "outputs": [
    {
     "name": "stdout",
     "output_type": "stream",
     "text": [
      "a = 1\n",
      "b = 5\n",
      "c = 10\n",
      "d = 20\n"
     ]
    }
   ],
   "source": [
    "kwargs = {'c':10, 'd':20}\n",
    "f(1, 5, **kwargs)"
   ]
  },
  {
   "cell_type": "markdown",
   "id": "automatic-arbitration",
   "metadata": {},
   "source": [
    "Aquí podemos ver, además, que podemos usar el desempaquetamiento sólo para parte de los argumentos. Es más, podemos combinar ambos tipos de desempaquetamiento:"
   ]
  },
  {
   "cell_type": "code",
   "execution_count": 26,
   "id": "illegal-affairs",
   "metadata": {},
   "outputs": [
    {
     "name": "stdout",
     "output_type": "stream",
     "text": [
      "a = 1\n",
      "b = 5\n",
      "c = 10\n",
      "d = 20\n"
     ]
    }
   ],
   "source": [
    "posargs = 1,5\n",
    "kwargs = {'c':10, 'd':20}\n",
    "f(*posargs,**kwargs)"
   ]
  },
  {
   "cell_type": "markdown",
   "id": "union-volunteer",
   "metadata": {},
   "source": [
    "Con toda lógica, la sintaxis del desempaquetamiento de argumentos, empleando los operadores `*` y `**`, es totalmente coherente con la sintaxis del [empaquetamiento de argumentos en parámetros](#Empaquetamiento-de-argumentos-en-parámetros.).\n",
    "\n",
    "Obviamente, no hay inconveniente alguno en emplear ambas técnicas: podemos definir funciones con parámetros que empaquetan argumentos posicionales y/o *keyword*, y usar el desempaquetamiento de argumentos a la hora de llamarlas. Recuperemos esta función que ya utilizamos como ejemplo más arriba:"
   ]
  },
  {
   "cell_type": "code",
   "execution_count": 27,
   "id": "decreased-spiritual",
   "metadata": {},
   "outputs": [],
   "source": [
    "def g(*posargs, **kwargs):\n",
    "    for arg in posargs:\n",
    "        print(arg)\n",
    "    for k,v in kwargs.items():\n",
    "        print(f'{k} = {v}')"
   ]
  },
  {
   "cell_type": "code",
   "execution_count": 28,
   "id": "broad-candidate",
   "metadata": {},
   "outputs": [
    {
     "name": "stdout",
     "output_type": "stream",
     "text": [
      "10\n",
      "20\n",
      "30\n",
      "r = hola\n",
      "s = qué\n",
      "t = tal\n"
     ]
    }
   ],
   "source": [
    "l=[10,20,30]\n",
    "d={'r': 'hola', 's': 'qué', 't': 'tal'}\n",
    "\n",
    "g(*l,**d)"
   ]
  },
  {
   "cell_type": "code",
   "execution_count": 29,
   "id": "industrial-clear",
   "metadata": {
    "scrolled": true
   },
   "outputs": [
    {
     "name": "stdout",
     "output_type": "stream",
     "text": [
      "5\n",
      "10\n",
      "20\n",
      "30\n",
      "r = hola\n",
      "s = qué\n",
      "t = tal\n",
      "cosa = 1000\n"
     ]
    }
   ],
   "source": [
    "g(5,*l,**d,cosa=1000)"
   ]
  },
  {
   "cell_type": "markdown",
   "id": "incredible-suicide",
   "metadata": {},
   "source": [
    "Como se puede ver, podemos combinar como queramos argumentos individuales y desempaquetados, tanto posicionales como *keyword*, siempre que respetemos la restricción de que los posicionales deben ir delante de los *keyword*.\n",
    "\n",
    "\n",
    "## Establecimiento de restricciones en el paso de argumentos.\n",
    "\n",
    "En ocasiones nos puede interesar, al definir una función, que a ciertos parámetros sólo se les puedan pasar argumentos de cierta manera (posicional o *keyword*). Esto lo podemos lograr empleando unos parámetros “especiales” indicados por los símbolos `/` y `*`:\n",
    "\n",
    "    def f(pos1, pos2, /, pos_o_kwd, *, kwd1, kwd2):\n",
    "          -----------    ----------     ----------\n",
    "            |              |                |\n",
    "            |        Posicional o keyword   |\n",
    "            |                                - Sólo keyword\n",
    "             -- Sólo posicional\n",
    "\n",
    "El uso de ambos símbolos es opcional, y se puede utilizar sólo uno de ellos o los dos (en este último caso, siempre antes `/` que `*`).\n",
    "\n",
    "Cuando al comienzo de este seminario tratábamos de los [parámetros con valores predeterminados](#Parámetros-con-valores-predeterminados.), pusimos como ejemplo el método `str.find`, y decíamos que su definición de parámetros es similar a ésta:\n",
    "\n",
    "    def find(sub, start=0, end=-1, /):\n",
    "\n",
    "Lo que se pretende con esto es impedir que se puedan pasar argumentos *keyword* a este método, y podemos ver que así sucede:\n",
    "\n",
    "    >>> 'Hola y adiós'.find('y', end=8)\n",
    "        [...]\n",
    "    TypeError: find() takes no keyword arguments\n",
    "\n",
    "Otro ejemplo del uso de estas restricciones lo podemos ver en el método `list.sort`), cuya definición de parámetros tiene una forma similar a ésta:\n",
    "\n",
    "    def sort(/, *, key=None, reverse=False):\n",
    "\n",
    "En este caso, sus argumentos (opcionales) han de ser *keyword* obligatoriamente:\n",
    "\n",
    "    >>> lt = [(1,5), (2,0), (5,2), (7,1)]\n",
    "    lt.sort(lambda t:t[1])\n",
    "        [...]\n",
    "    TypeError: sort() takes no positional arguments\n",
    "\n",
    "\n",
    "\n",
    "## Expresiones Lambda.\n",
    "\n",
    "Para terminar, vamos a ver otra manera de definir funciones: mediante expresiones `lambda`. Ésta es una característica que procede de los *lenguajes funcionales* (así como otras que también ofrece Python).\n",
    "\n",
    "Una expresión `lambda` nos permite definir una función anónima con uno o más parámetros, pero que sólo puede constar de una única expresión. A primera vista puede resultar difícil encontrarle utilidad, pero la realidad es que existen contextos en los que sintácticamente se requiere una función (muchas veces muy sencilla), en cuyo caso resulta muy útil poder definirla ahí mismo, sin necesidad de definirla aparte de la manera convencional (con `def`).\n",
    "\n",
    "Precisamente justo ahí arriba hemos utilizado el método `list.sort` como ejemplo de restricción que obliga a utilizar argumentos *keyword*, y en él se puede ver que se hace uso de una expresión `lambda`. Vamos a recuperar ese ejemplo, si bien empleando por simplicidad la función `sorted` en lugar del método.\n",
    "\n",
    "La función `sorted` (al igual que el método de las listas) posee un parámetro `key`, el cual consiste en una función que actúa como *clave de ordenación*, a la cual `sorted` le pasa como argumento cada uno de los elementos de la secuencia a ordenar, utilizando como clave lo que dicha función retorne. En ausencia de este argumento, `sorted` ordena empleando como clave los valores de los elementos de la secuencia. Pero no siempre es esto lo que queremos. Considérese por ejemplo que tenemos una lista de tuplas:"
   ]
  },
  {
   "cell_type": "code",
   "execution_count": 30,
   "id": "chemical-synthetic",
   "metadata": {},
   "outputs": [],
   "source": [
    "lt = [(1,5), (2,0), (5,2), (7,1)]"
   ]
  },
  {
   "cell_type": "markdown",
   "id": "difficult-federal",
   "metadata": {},
   "source": [
    "Deseamos ordenarla, pero *según el segundo elemento de las tuplas*. Normalmente, `sort` ordenaría esa lista comparando los valores de las tuplas, y esa comparación empieza por su primer elemento:"
   ]
  },
  {
   "cell_type": "code",
   "execution_count": 31,
   "id": "grateful-technical",
   "metadata": {},
   "outputs": [
    {
     "name": "stdout",
     "output_type": "stream",
     "text": [
      "[(1, 5), (2, 0), (5, 2), (7, 1)]\n"
     ]
    }
   ],
   "source": [
    "print(sorted(lt))"
   ]
  },
  {
   "cell_type": "markdown",
   "id": "dutch-paragraph",
   "metadata": {},
   "source": [
    "¿Cómo podemos usar el segundo elemento de las tuplas como clave? La solución es muy simple: pasándole en el parámetro `key` una función anónima que retorne el 2º elemento de su argumento. Esto lo podemos conseguir mediante una expresión `lambda` del siguiente modo:"
   ]
  },
  {
   "cell_type": "code",
   "execution_count": 32,
   "id": "fossil-arcade",
   "metadata": {},
   "outputs": [
    {
     "name": "stdout",
     "output_type": "stream",
     "text": [
      "[(2, 0), (7, 1), (5, 2), (1, 5)]\n"
     ]
    }
   ],
   "source": [
    "print(sorted(lt, key=lambda t: t[1]))"
   ]
  },
  {
   "cell_type": "markdown",
   "id": "published-category",
   "metadata": {},
   "source": [
    "¿Y si quisiéramos ordenar por la suma de todos los elementos de cada tupla? (incluso si tienen más de dos). Fácil:"
   ]
  },
  {
   "cell_type": "code",
   "execution_count": 33,
   "id": "approximate-palestinian",
   "metadata": {},
   "outputs": [
    {
     "name": "stdout",
     "output_type": "stream",
     "text": [
      "[(2, 0), (1, 5), (5, 2), (7, 1)]\n"
     ]
    }
   ],
   "source": [
    "print(sorted(lt, key=lambda t: sum(t)))"
   ]
  },
  {
   "cell_type": "markdown",
   "id": "quarterly-suspect",
   "metadata": {},
   "source": [
    "A medida que avancemos en el uso de Python encontraremos más situaciones en las que las expresiones `lambda` resultan extremadamente útiles.\n",
    "\n",
    "## THE END"
   ]
  },
  {
   "cell_type": "code",
   "execution_count": null,
   "id": "approved-choice",
   "metadata": {},
   "outputs": [],
   "source": []
  }
 ],
 "metadata": {
  "kernelspec": {
   "display_name": "Python 3",
   "language": "python",
   "name": "python3"
  },
  "language_info": {
   "codemirror_mode": {
    "name": "ipython",
    "version": 3
   },
   "file_extension": ".py",
   "mimetype": "text/x-python",
   "name": "python",
   "nbconvert_exporter": "python",
   "pygments_lexer": "ipython3",
   "version": "3.8.5"
  }
 },
 "nbformat": 4,
 "nbformat_minor": 5
}
