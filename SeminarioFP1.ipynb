{
 "cells": [
  {
   "cell_type": "markdown",
   "id": "numerous-newark",
   "metadata": {},
   "source": [
    "# Seminario 1 de Python: Gestión de memoria.\n",
    "\n",
    "Python es un **lenguaje orientado a objetos**. En un primer momento esto no resulta muy aparente, ya que hasta ahora hemos utilizado un estilo de programación *imperativo*. No obstante, aún sin ser completamente conscientes de ello, realmente hemos estado creando y manejando objetos en nuestros programas. En Python absolutamente *todo* lo que se manipula son objetos: números, cadenas, listas, tuplas, diccionarios, funciones, módulos, etc.\n",
    "\n",
    "La mayoría de los lenguajes orientados a objetos, incluyendo Python, cuentan con una gestión dinámica de memoria integrada en el mismo *runtime* del lenguaje, lo cual permite ordenar la creación y destrucción de objetos durante la ejecución de los programas.\n",
    "\n",
    "Python, gracias a tratarse de un lenguaje interpretado, es además un **lenguaje dinámico**: así, algunos objetos se crean bajo demanda, es decir, en el mismo instante en que se necesitan, sin necesidad de crearlos explícitamente, ni de especificar su tipo/clase, que Python determina a partir del modo en que se utilizan dichos objetos. Así mismo, los objetos que quedan sin uso (independientemente de si se crearon bajo demanda o explícitamente) se destruyen automáticamente, de nuevo sin necesidad de hacerlo explícitamente.\n",
    "\n",
    "Todo ello facilita enormemente la programación de todo tipo de aplicaciones, pero tiene una doble cara: ese dinamismo y automatismo oculta algunos aspectos del funcionamiento de Python, especialmente el funcionamiento de su gestión de memoria. Esto no suele constituir un problema para programadores con cierta experiencia, pero sí puede serlo para quienes se acaban de iniciar en la programación con Python. Para transceder más allá del nivel de iniciación, es necesario adquirir consciencia de *qué sucede realmente* cuando se ejecutan nuestros programas; sólo así podremos tomar las mejores decisiones y emplear las técnicas más adecuadas. Adquirir esa consciencia no implica tener que preocuparnos de hasta el más mínimo detalle; antes al contrario, el dominio de la herramienta y de la técnica nos permitirá emplearlas óptimamente de forma natural. Y cuando nos tropecemos (inevitablemente) con problemas aparentemente inexplicables, saber qué sucede realmente será una ayuda inestimable para solucionarlos.\n",
    "\n",
    "## Creación y eliminación dinámica de objetos.\n",
    "\n",
    "Comenzaremos analizando de forma práctica cómo funciona ese dinamismo de Python en lo que respecta a la creación de objetos bajo demanda, así como las condiciones en que los objetos se destruyen automáticamente. Nótese que por *creación* de un objeto entendemos que se reserva memoria para él; y por *destrucción* de un objeto entendemos que la memoria destinada a ese objeto se retorna al *pool* de memoria libre, recuperándola para otros usos. Sin embargo, en condiciones normales lo importante no es cuándo se destruye un objeto, sino cuándo se marca para que sea eventualmente destruido.\n",
    "\n",
    "### El recolector de basura (*garbage collector*).\n",
    "\n",
    "Muchos lenguajes que cuentan con gestión dinámica de memoria (no necesariamente lenguajes dinámicos) poseen un componente de su *runtime* llamado **recolector de basura** (*garbage collector*). Su función, como su nombre indica, es recolectar la memoria ocupada por objetos que ya no están en uso con el objetivo de recuperarla (devolviéndola al *pool* de memoria libre) de modo que quede disponible para otros usos, como la creación de nuevos objetos. El recolector de basura puede no estar funcionando continuamente, sino sólo cuando se considera más conveniente.\n",
    "\n",
    "En el caso de Python, para eliminar automáticamente los objetos que ya no están en uso, utiliza la técnica del *recuento de referencias*. Todo objeto cuenta entre sus atributos con un *contador de referencias*, que almacena en todo momento cuántas referencias existen hacia ese objeto, sea desde variables o desde otros objetos. Cada vez que se crea una referencia a un objeto, se incrementa ese contador; cada vez que se elimina una referencia, se decrementa. Y cuando ese contador llega a cero, el objeto en cuestión **se marca como huérfano** (*orphaned object*), y será eventualmente recolectado por el recolector de basura.\n",
    "\n",
    "\n",
    "### Objetos referenciados desde variables.\n",
    "\n",
    "El concepto de variable en Python es muy diferente del que se utiliza en los lenguajes de programación clásicos. En éstos, una variable identifica con su nombre un área de la memoria reservada para almacenar un dato o colección de datos (como un entero, un array, etc.); por tanto, los atributos de una variable en sentido clásico son: el tipo de datos que almacena, su ubicación en memoria, y por supuesto el contenido de dicha ubicación –el valor de la variable–. Por otro lado, en Python una variable tan sólo representa con su nombre una *referencia* a un objeto –en esencia, su ubicación–, siendo dicha referencia el único atributo de la variable. Es decir, una variable de Python no posee más información del objeto al que referencia: ni su tipo/clase, ni su contenido; éstos son atributos del objeto referenciado.\n",
    "\n",
    "Por ejemplo, dentro de una función escrita en lenguaje C podríamos tener este código:\n",
    "\n",
    "    int n;    \n",
    "    n = 5;\n",
    "    \n",
    "La primera línea *declara* la variable `n` como de tipo entero, y además la *define*, reservando para ella una ubicación concreta en memoria. En la segunda línea, la asignación copia el valor del literal `5` (que, por su forma, representa el valor 5, de tipo entero) en la ubicación de `n`, por supuesto reemplazando su contenido previo (desconocido en este caso). Obsérvese que ha sido necesario declarar primero el tipo de datos que puede almacenar `n`. Téngase además en cuenta que C es un lenguaje compilado: para poder ejecutar ese programa, primero habrá de ser analizado por el compilador de C, el cual creará un programa ejecutable conteniendo tanto el área de memoria reservada para la variable `n`, como el código que copia el valor entero 5 a esa área de memoria.\n",
    "\n",
    "En Python, escribiríamos simplemente:\n",
    "\n",
    "    n = 5\n",
    "\n",
    "Al ejecutar ese código, el intérprete de Python empezará por crear un nuevo objeto, reservando en ese mismo instante un área de memoria para dicho objeto, e inicializando a continuación sus atributos: su tipo (`int`), su valor (5), y otros atributos, como el número de referencias que existen hacia ese nuevo objeto (inicialmente cero). A continuación realizará la asignación, asociando al identificador `n` la referencia al objeto recién creado (esencialmente, su ubicación en memoria) y, además, incrementará en 1 el contador de referencias de dicho objeto. Obsérvese que no ha habido que declarar la variable `n`, ya que no posee información de tipo de dato, ni tampoco ha sido necesario reservar memoria explícitamente.\n",
    "\n",
    "Continuando ya con Python, a continuación se crean dos objetos: el número `5` y la cadena `'hola'`:"
   ]
  },
  {
   "cell_type": "code",
   "execution_count": 1,
   "id": "changing-tomato",
   "metadata": {},
   "outputs": [],
   "source": [
    "n = 5\n",
    "s = 'hola'"
   ]
  },
  {
   "cell_type": "markdown",
   "id": "minus-accessory",
   "metadata": {},
   "source": [
    "Insistimos: no son las asignaciones las que crean ambos objetos, sino su mera aparición como literales en la parte derecha de esas sentencias. Las asignaciones sólo crean sendas referencias desde las variables `n` y `s`.\n",
    "\n",
    "Se puede ver mejor lo que ha sucedido empleando la función de Python `id`, la cual retorna un número entero que representa la *identidad* de un objeto. En realidad, esa identidad no es otra cosa que la ubicación del objeto en memoria, es decir, la referencia en sí, pero expresada como un `int`."
   ]
  },
  {
   "cell_type": "code",
   "execution_count": 2,
   "id": "early-preliminary",
   "metadata": {},
   "outputs": [
    {
     "name": "stdout",
     "output_type": "stream",
     "text": [
      "n(5)->4477233984  s(hola)->140452725907376\n"
     ]
    }
   ],
   "source": [
    "print(f'n({n})->{id(n)}  s({s})->{id(s)}')"
   ]
  },
  {
   "cell_type": "markdown",
   "id": "varied-section",
   "metadata": {},
   "source": [
    "La *sentencia* `del` permite eliminar una *referencia* a un objeto. En el siguiente ejemplo, primero hacemos que la variable `t` haga referencia al mismo objeto que `s`; pero entonces, eliminamos la referencia `s`:"
   ]
  },
  {
   "cell_type": "code",
   "execution_count": 3,
   "id": "suited-oasis",
   "metadata": {},
   "outputs": [
    {
     "name": "stdout",
     "output_type": "stream",
     "text": [
      "s(hola)->140452725907376  t(hola)->140452725907376\n",
      "Adiós a s(hola)->140452725907376)\n",
      "t(hola)->140452725907376\n"
     ]
    }
   ],
   "source": [
    "t = s    # ahora las variables s y t hacen referencia al mismo objeto\n",
    "print(f's({s})->{id(s)}  t({t})->{id(t)}')\n",
    "print(f'Adiós a s({s})->{id(s)})')\n",
    "del s    # eliminamos s, pero el objeto al que hacía referencia sigue existiendo\n",
    "print(f't({t})->{id(t)}')"
   ]
  },
  {
   "cell_type": "markdown",
   "id": "assured-apple",
   "metadata": {},
   "source": [
    "Ese objeto `'hola'` sigue existiendo porque aún conserva una referencia (desde la variable `t`). Si ahora eliminamos también esa referencia, el objeto habrá quedado huérfano:"
   ]
  },
  {
   "cell_type": "code",
   "execution_count": 4,
   "id": "electrical-fairy",
   "metadata": {},
   "outputs": [
    {
     "name": "stdout",
     "output_type": "stream",
     "text": [
      "Adiós a t(hola)->140452725907376)\n"
     ]
    }
   ],
   "source": [
    "print(f'Adiós a t({t})->{id(t)})')\n",
    "del t"
   ]
  },
  {
   "cell_type": "markdown",
   "id": "desirable-adelaide",
   "metadata": {},
   "source": [
    "Desgraciadamente no podemos ver qué ha pasado con ese objeto, porque ya no tenemos forma de acceder a él (hemos perdido todas sus referencias).\n",
    "\n",
    "\n",
    "\n",
    "### Referencias desde unos objetos a otros.\n",
    "\n",
    "Por supuesto, no sólo las variables pueden hacer referencia a objetos; también hay objetos que pueden hacer referencia a otros objetos: se trata de aquellos denominados **colecciones**, entre los que se encuentran las listas, tuplas, diccionarios, conjuntos, etc.\n",
    "\n",
    "A continuación creamos una lista con dos elementos que, en realidad, son el mismo objeto:"
   ]
  },
  {
   "cell_type": "code",
   "execution_count": 5,
   "id": "above-estate",
   "metadata": {},
   "outputs": [
    {
     "name": "stdout",
     "output_type": "stream",
     "text": [
      "[[1, 2, 3], [1, 2, 3]]\n"
     ]
    }
   ],
   "source": [
    "l = [1,2,3]\n",
    "ll = [l,l]\n",
    "print(ll)"
   ]
  },
  {
   "cell_type": "markdown",
   "id": "computational-spell",
   "metadata": {},
   "source": [
    "Y aquí tenemos la prueba de que ambos elementos son el mismo objeto:"
   ]
  },
  {
   "cell_type": "code",
   "execution_count": 6,
   "id": "creative-hungarian",
   "metadata": {},
   "outputs": [
    {
     "name": "stdout",
     "output_type": "stream",
     "text": [
      "[[1, 2, 3, 4], [1, 2, 3, 4]]\n"
     ]
    }
   ],
   "source": [
    "l.append(4)\n",
    "print(ll)"
   ]
  },
  {
   "cell_type": "markdown",
   "id": "neutral-actor",
   "metadata": {},
   "source": [
    "---\n",
    "\n",
    "**INCISO**: En el módulo `sys` se define una función `getrefcount` que, como se puede imaginar, retorna el número de referencias al objeto que se le pasa como parámetro. No obstante, hay que tener en cuenta un par de cosas:\n",
    "\n",
    "1. Para obtener valores con sentido hemos de emplearlo con solamente con objetos mutables. Ocurre que, con los objetos inmutables, Python puede utilizar técnicas de optimización de recursos (como reutilizar el mismo objeto, por ejemplo), dado que no hay peligro en que estén compartidos (referenciados desde varios sitios). Por tanto, a continuación utilizaremos `getrefcount` con listas, ya que son mutables.\n",
    "2. `getrefcount` retorna una referencia más de lo que cabe esperar. Esto sucede porque, al pasarle el objeto como parámetro, se crea otra referencia para dicho parámetro.\n",
    "\n",
    "De modo que importemos ya `getrefcount` desde `sys`:"
   ]
  },
  {
   "cell_type": "code",
   "execution_count": 7,
   "id": "lonely-african",
   "metadata": {},
   "outputs": [],
   "source": [
    "from sys import getrefcount"
   ]
  },
  {
   "cell_type": "markdown",
   "id": "robust-hungarian",
   "metadata": {},
   "source": [
    "y veamos qué nos dice de la listas `l` y `ll`:"
   ]
  },
  {
   "cell_type": "code",
   "execution_count": 8,
   "id": "recovered-discovery",
   "metadata": {},
   "outputs": [
    {
     "name": "stdout",
     "output_type": "stream",
     "text": [
      "ll: 2\n",
      "l: 4\n"
     ]
    }
   ],
   "source": [
    "print(f'll: {getrefcount(ll)}')\n",
    "print(f'l: {getrefcount(l)}')"
   ]
  },
  {
   "cell_type": "markdown",
   "id": "downtown-separate",
   "metadata": {},
   "source": [
    "Como podemos ver, hay *una* (2-1) referencia al objeto referenciado por `ll`, que es precisamente, la misma variable `ll`. Por otra parte, hay *tres* (4-1) referencias al objeto referenciado por `l`: la misma variable `l` más las dos referencias correspondientes a sendos elementos de `ll`. **FIN DEL INCISO.**\n",
    "\n",
    "---"
   ]
  },
  {
   "cell_type": "markdown",
   "id": "living-admission",
   "metadata": {},
   "source": [
    "Podemos eliminar tranquilamente la variable (referencia) `l` sin que le pase nada a `ll`:"
   ]
  },
  {
   "cell_type": "code",
   "execution_count": 9,
   "id": "derived-sphere",
   "metadata": {},
   "outputs": [
    {
     "name": "stdout",
     "output_type": "stream",
     "text": [
      "[[1, 2, 3, 4], [1, 2, 3, 4]]\n"
     ]
    }
   ],
   "source": [
    "del l\n",
    "print(ll)"
   ]
  },
  {
   "cell_type": "markdown",
   "id": "wireless-repository",
   "metadata": {},
   "source": [
    "La razón, como hemos visto, es que ese objeto sigue estando referenciado desde cada uno de los elementos de la lista `ll`. Así que:"
   ]
  },
  {
   "cell_type": "code",
   "execution_count": 10,
   "id": "pediatric-fraction",
   "metadata": {},
   "outputs": [
    {
     "name": "stdout",
     "output_type": "stream",
     "text": [
      "[[1, 2, 3, 4, 5], [1, 2, 3, 4, 5]]\n"
     ]
    }
   ],
   "source": [
    "ll[0].append(5)\n",
    "print(ll)"
   ]
  },
  {
   "cell_type": "markdown",
   "id": "confused-mozambique",
   "metadata": {},
   "source": [
    "¿Podemos comprobar si ha disminuido en 1 el número de referencias tras hacer `del l`? Podemos, pero de este modo:"
   ]
  },
  {
   "cell_type": "code",
   "execution_count": 11,
   "id": "confident-company",
   "metadata": {},
   "outputs": [
    {
     "name": "stdout",
     "output_type": "stream",
     "text": [
      "3\n"
     ]
    }
   ],
   "source": [
    "print(getrefcount(ll[0]))  # (o ll[1], es indiferente)"
   ]
  },
  {
   "cell_type": "markdown",
   "id": "normal-basis",
   "metadata": {},
   "source": [
    "Por supuesto podemos eliminar uno de los elementos de `ll` sin afectar al otro. Aunque ambos elementos hacen referencia al mismo objeto, recuérdese que `del` elimina *la referencia* al objeto, no el objeto referenciado, el cual sólo se destruye cuando queda sin referencias y el recolector de basura recupera la memoria que ocupaba."
   ]
  },
  {
   "cell_type": "code",
   "execution_count": 12,
   "id": "express-european",
   "metadata": {},
   "outputs": [
    {
     "name": "stdout",
     "output_type": "stream",
     "text": [
      "[[1, 2, 3, 4, 5]]\n",
      "2\n"
     ]
    }
   ],
   "source": [
    "del ll[0]\n",
    "print(ll)\n",
    "print(getrefcount(ll[0]))"
   ]
  },
  {
   "cell_type": "markdown",
   "id": "baking-richards",
   "metadata": {},
   "source": [
    "Ahora creamos una nueva lista `ll2` que contiene *el mismo* elemento que `ll`:"
   ]
  },
  {
   "cell_type": "code",
   "execution_count": 13,
   "id": "finnish-saudi",
   "metadata": {},
   "outputs": [
    {
     "name": "stdout",
     "output_type": "stream",
     "text": [
      "[[1, 2, 3, 4, 5], 'hola']\n",
      "3\n"
     ]
    }
   ],
   "source": [
    "ll2 = [ll[0], 'hola']\n",
    "print(ll2)\n",
    "print(getrefcount(ll[0]))  # (o ll2[0], es lo mismo)"
   ]
  },
  {
   "cell_type": "code",
   "execution_count": 14,
   "id": "effective-blend",
   "metadata": {},
   "outputs": [
    {
     "name": "stdout",
     "output_type": "stream",
     "text": [
      "[[1, 2, 3, 4, 5, 6]]\n",
      "[[1, 2, 3, 4, 5, 6], 'hola']\n"
     ]
    }
   ],
   "source": [
    "ll[0].append(6)\n",
    "print(ll,ll2, sep='\\n')"
   ]
  },
  {
   "cell_type": "markdown",
   "id": "hollywood-license",
   "metadata": {},
   "source": [
    "Si ahora eliminanos la variable `ll`, ¿qué pasará? Pues bien: al hacerlo, la lista que estaba referenciada por `ll`, como carece de otras referencias a ella, se destruirá. ¿Pero qué significa destruir una lista? Pues que sus elementos, *que son siempre referencias a objetos*, se eliminan. Pero eso no implica que se eliminen los objetos a los que hacen referencia, si éstos aún conservan otras referencias. Es el caso del único elemento de `ll`, al que también hace referencia el primer elemento de `ll2`. Por tanto, la lista `ll2` quedará incólume, si bien su primer elemento habrá perdido una referencia a él."
   ]
  },
  {
   "cell_type": "code",
   "execution_count": 15,
   "id": "simple-oakland",
   "metadata": {},
   "outputs": [
    {
     "name": "stdout",
     "output_type": "stream",
     "text": [
      "[[1, 2, 3, 4, 5, 6], 'hola']\n",
      "2\n"
     ]
    }
   ],
   "source": [
    "del ll\n",
    "print(ll2)\n",
    "print(getrefcount(ll2[0]))  # obviamente ya no podemos usar ll[0]"
   ]
  },
  {
   "cell_type": "markdown",
   "id": "configured-hormone",
   "metadata": {},
   "source": [
    "¿Y qué pasa si ahora eliminamos la variable `ll2`? La lista a la que hace referencia carece de otras referencias a ella, así que se destruirá, y con ella sus dos elementos. Pero recordemos que dichos elementos son *referencias* a una lista y una cadena. Estos objetos, a su vez, carecen de otras referencias a ellos, por lo que también se destruirán y el recolector de basura dará cuenta de la memoria que ocupaban."
   ]
  },
  {
   "cell_type": "code",
   "execution_count": 16,
   "id": "under-startup",
   "metadata": {},
   "outputs": [],
   "source": [
    "del ll2\n",
    "# No podemos usar getrefcount porque ya no disponemos de referencias"
   ]
  },
  {
   "cell_type": "markdown",
   "id": "mounted-communications",
   "metadata": {},
   "source": [
    "**Nótese que no es necesario utilizar `del` para eliminar referencias a objetos.** Por ejemplo, a continuación se muestra un tipo de operación muy habitual:"
   ]
  },
  {
   "cell_type": "code",
   "execution_count": 17,
   "id": "constant-promotion",
   "metadata": {},
   "outputs": [
    {
     "name": "stdout",
     "output_type": "stream",
     "text": [
      "otra cadena más\n"
     ]
    }
   ],
   "source": [
    "s = 'otra cadena'\n",
    "s = s + ' más'\n",
    "print(s)"
   ]
  },
  {
   "cell_type": "markdown",
   "id": "subject-facial",
   "metadata": {},
   "source": [
    "¿Qué ha sucedido ahí?\n",
    "1. En la primera sentencia, se crea el objeto `'otra cadena'` y, al asignarlo a `s`, se crea también una referencia a dicha cadena.\n",
    "2. En la segunda sentencia, la expresión de concatenación *crea un nuevo objeto* que contendrá la concatenación de la cadena referenciada por `s` (`'otra cadena'`) con la cadena literal `' más'` (la cual también da lugar a la creación de un nuevo objeto, en este caso efímero).\n",
    "3. La nueva asignación a `s` reemplaza su referencia a `'otra cadena'` por una nueva referencia a la cadena recién creada por la concatenación. Como consecuencia, el objeto `'otra cadena'` pierde la (única) referencia que tenía (desde `s`), por lo que será destruida.\n",
    "\n",
    "Otro ejemplo:"
   ]
  },
  {
   "cell_type": "code",
   "execution_count": 18,
   "id": "damaged-partner",
   "metadata": {},
   "outputs": [
    {
     "name": "stdout",
     "output_type": "stream",
     "text": [
      "['hola', 'muy', 'buenas']\n"
     ]
    }
   ],
   "source": [
    "l = ['adiós', 'muy', 'buenas']\n",
    "l[0] = 'hola'\n",
    "print(l)"
   ]
  },
  {
   "cell_type": "markdown",
   "id": "encouraging-clothing",
   "metadata": {},
   "source": [
    "En este caso, al reemplazar `l[0]` por otra cadena, lo que ocurre es que se elimina la referencia al objeto `'adiós'` por otra referencia al objeto `'hola'` y, como consecuencia, la cadena `'adiós'`, pierde la única referencia con que contaba, por lo que será destruida."
   ]
  },
  {
   "cell_type": "markdown",
   "id": "american-unknown",
   "metadata": {},
   "source": [
    "### Listas autoreferenciadas\n",
    "\n",
    "Ya que estamos enredando con listas, viene al caso echar un vistazo a las listas que se autoreferencian, es decir, que son un elemento (o más) de sí mismas. Por ejemplo:"
   ]
  },
  {
   "cell_type": "code",
   "execution_count": 19,
   "id": "southeast-terrace",
   "metadata": {},
   "outputs": [
    {
     "name": "stdout",
     "output_type": "stream",
     "text": [
      "['hola', 'muy', 'buenas', [...]]\n",
      "['hola', 'muy', 'buenas', [...]]\n",
      "['hola', 'muy', 'buenas', [...]]\n",
      "3\n"
     ]
    }
   ],
   "source": [
    "l.append(l)  # Ein?\n",
    "print(l)\n",
    "print(l[3])\n",
    "print(l[3][3][3][3][3])\n",
    "print(getrefcount(l))"
   ]
  },
  {
   "cell_type": "markdown",
   "id": "great-minneapolis",
   "metadata": {},
   "source": [
    "Quizá alguien se haya decepcionado porque `getrefcount` no ha reventado, o retornado algo como ¿infinito? Pero no, realmente sólo hay dos referencias a esa lista: una desde la variable `l`, y otra desde el último elemento de sí misma.\n",
    "\n",
    "Por supuesto también podemos crear también toda clase de referencias cruzadas (o cíclicas, en general) con varias listas. Ejemplo:"
   ]
  },
  {
   "cell_type": "code",
   "execution_count": 20,
   "id": "organizational-borough",
   "metadata": {},
   "outputs": [
    {
     "name": "stdout",
     "output_type": "stream",
     "text": [
      "l  = ['hola', 'muy', 'buenas', [1, 2, 3, [...]]]\n",
      "l2 = [1, 2, 3, ['hola', 'muy', 'buenas', [...]]]\n"
     ]
    }
   ],
   "source": [
    "l2 = [1, 2, 3]\n",
    "l[3] = l2\n",
    "l2.append(l)\n",
    "print(f'l  = {l}')\n",
    "print(f'l2 = {l2}')"
   ]
  },
  {
   "cell_type": "markdown",
   "id": "insured-michigan",
   "metadata": {},
   "source": [
    "Obviamente se pueden montar estructuras similares usando diccionarios, por ejemplo.\n",
    "\n",
    "\n",
    "### Las referencias en el paso de parámetros a funciones (y retorno de valores).\n",
    "\n",
    "En Python también se usan las referencias a objetos como mecanismo de paso de parámetros a funciones. En los lenguajes clásicos se emplean mecanismos como el paso por valor (se copia el valor del parámetro en la llamada al parámetro formal de la función), o el paso por referencia (sólo válido para pasar variables, se copia la dirección de la variable). El mecanismo que utiliza Python se denomina formalmente **paso de parámetros por referencia a objeto**.\n",
    "\n",
    "Como mejor se entiende esto es con un ejemplo sencillo:"
   ]
  },
  {
   "cell_type": "code",
   "execution_count": 21,
   "id": "final-parks",
   "metadata": {},
   "outputs": [
    {
     "name": "stdout",
     "output_type": "stream",
     "text": [
      "id(lista) = 140452726426432\n",
      "id(l) = 140452726426432\n",
      "id(retorno) = 140452726426432\n"
     ]
    }
   ],
   "source": [
    "def f(l):\n",
    "    print(f'id(l) = {id(l)}')\n",
    "    return l\n",
    "\n",
    "lista = [1,2,3]\n",
    "print(f'id(lista) = {id(lista)}')\n",
    "retorno = f(lista)\n",
    "print(f'id(retorno) = {id(retorno)}')"
   ]
  },
  {
   "cell_type": "markdown",
   "id": "adult-dakota",
   "metadata": {},
   "source": [
    "Obsérvese que `lista` (fuera de la función), `l` (el parámetro formal de la función) y `retorno` (el valor que ha retornado la función) *hacen referencia al mismo objeto*. La razón es que al invocar `f(lista)` simplemente ha copiado la referencia `lista` al parámetro formal `l` (exactamente igual que si se hubiese asignado `l = lista`). Por otra parte, la sentencia `return l` hace que el valor de retorno de la función sea la referencia `l`, la cual se asigna finalmente a la variable `retorno`.\n",
    "\n",
    "¿Y qué sucede con el contador de referencias de ese objeto? Veamos:"
   ]
  },
  {
   "cell_type": "code",
   "execution_count": 22,
   "id": "intelligent-scheduling",
   "metadata": {},
   "outputs": [
    {
     "name": "stdout",
     "output_type": "stream",
     "text": [
      "Antes: refcount(lista[140452726391680]) = 2\n",
      "Dentro: refcount(l[140452726391680]) = 4\n",
      "Después: refcount(retorno[140452726391680]) = 3\n"
     ]
    }
   ],
   "source": [
    "def f(l):\n",
    "    print(f'Dentro: refcount(l[{id(l)}]) = {getrefcount(l)}')\n",
    "    return l\n",
    "\n",
    "lista = [1,2,3]\n",
    "print(f'Antes: refcount(lista[{id(lista)}]) = {getrefcount(lista)}')\n",
    "retorno = f(lista)\n",
    "print(f'Después: refcount(retorno[{id(retorno)}]) = {getrefcount(retorno)}')"
   ]
  },
  {
   "cell_type": "markdown",
   "id": "gentle-northeast",
   "metadata": {},
   "source": [
    "Recuérdese que `getrefcount` retorna una referencia más. Obviamente, antes de llamar a la función hay una sola referencia al objeto (desde `lista`). Al llamar a la función, se crean dos nuevas referencias: una corresponde con seguridad al parámetro `l`; la otra seguramente se crea como parte del mecanismo de llamada a la función. Una vez que se retorna de la función, vemos que hay dos referencias: una sigue siendo `lista`, y la otra es `retorno`. El caso es que las referencias creadas al llamar a la función desaparecen tras su retorno.\n",
    "\n",
    "¿Y qué sucede si escribimos una expresión como parámetro? Por ejemplo: `f(lista+lista)`. Python simplemente crea un objeto nuevo automáticamente para almacenar el resultado de la expresión `lista+lista` (recordemos la naturaleza dinámica de Python), de modo que lo que pasa como parámetro es la referencia a ese objeto:"
   ]
  },
  {
   "cell_type": "code",
   "execution_count": 23,
   "id": "upset-missile",
   "metadata": {},
   "outputs": [
    {
     "name": "stdout",
     "output_type": "stream",
     "text": [
      "Antes: refcount(lista[140452726139456]) = 2\n",
      "Dentro: refcount(l[140452726393280]) = 3\n",
      "Después: refcount(retorno[140452726393280]) = 2\n",
      "[1, 2, 3, 1, 2, 3]\n"
     ]
    }
   ],
   "source": [
    "lista = [1,2,3]\n",
    "print(f'Antes: refcount(lista[{id(lista)}]) = {getrefcount(lista)}')\n",
    "retorno = f(lista+lista)\n",
    "print(f'Después: refcount(retorno[{id(retorno)}]) = {getrefcount(retorno)}')\n",
    "print(retorno)"
   ]
  },
  {
   "cell_type": "markdown",
   "id": "difficult-return",
   "metadata": {},
   "source": [
    "Podemos ver que `l` (ya dentro de la función) y por tanto `retorno` referencian un objeto diferente del referenciado por `lista`. Ese nuevo objeto es, como se puede ver, el resultado de evaluar la expresión `lista+lista`."
   ]
  },
  {
   "cell_type": "markdown",
   "id": "posted-chaos",
   "metadata": {},
   "source": [
    "## Constructores.\n",
    "\n",
    "Un **constructor** es una función (o aparenta serlo) cuya misión es crear un nuevo objeto perteneciente a una **clase**, retornando aquél la referencia al objeto recién creado. En la terminología OOP (*Object-Oriented Programming*), se denomina **instancia** (*instance*) a cada uno de los objetos de una determinada clase. Así, por ejemplo, el objeto `'hola'` es una instancia de la clase `str`. A la acción de crear un nuevo objeto de una determinada clase se le llama *instanciar* (la clase). La RAE no admite reclamaciones al respecto. :)\n",
    "\n",
    "Como ya hemos visto, en Python no siempre es necesario utilizar un constructor para crear nuevos objetos, gracias a su naturaleza dinámica. No obstante, el uso de constructores constituye la forma ortodoxa de instanciar clases.\n",
    "\n",
    "A estas alturas, ya hemos utilizado constructores en muchísimas ocasiones, aunque sin haber sido plenamente conscientes de ello. Algunos ejemplos:\n",
    "\n",
    "    n = int(input('Dime un número: '))\n",
    "    x = float(m)\n",
    "    s = str(z/2)\n",
    "    c = complex(a,b)\n",
    "    l = list(range(10))\n",
    "    d = dict(a=1, b=2, c=3)\n",
    "\n",
    "Los constructores se denominan siempre con el nombre de la clase que instancian: así, la función `int` es el constructor de la clase `int`, etc.\n",
    "\n",
    "Lógicamente, un constructor se encarga de crear (reservar memoria para) el nuevo objeto. Generalmente, también *inicializa* el objeto recién creado, bien a partir de parámetros que se le suministren, o bien con un valor predeterminado, en ausencia de parámetros.\n",
    "\n",
    "Conviene señalar que en ocasiones la creación explícita de objetos no se realiza mediante el uso directo de constructores. Un ejemplo bien conocido es el de los objetos tipo archivo, que se crean mediante la función `open`. Evidentemente, `open` utiliza internamente el constructor de archivos, pero dado que abrir un archivo implica muchas más operaciones, entre ellas las de acceso al sistema de archivos, resulta mucho más sencillo y práctico contar con una función como `open` que se encarga de todo esto, y retorna el objeto archivo ya preparado para su uso.\n",
    "\n",
    "Otra particularidad notable son las funciones, que por supuesto también son objetos, pero que se crean empleando la sintaxis `def` (que, en realidad, es otra forma de invocar al constructor de la clase `function`).\n",
    "\n",
    "Muchos módulos de Python definen clases, con sus constructores, como es lógico:"
   ]
  },
  {
   "cell_type": "code",
   "execution_count": 24,
   "id": "secret-penetration",
   "metadata": {},
   "outputs": [
    {
     "name": "stdout",
     "output_type": "stream",
     "text": [
      "0 2/3 3/4 17/12\n"
     ]
    }
   ],
   "source": [
    "from fractions import Fraction\n",
    "\n",
    "f1 = Fraction()\n",
    "f2 = Fraction('2/3')\n",
    "f3 = Fraction(0.75)\n",
    "\n",
    "print(f1, f2, f3, f2+f3)"
   ]
  },
  {
   "cell_type": "markdown",
   "id": "excess-speaking",
   "metadata": {},
   "source": [
    "Por supuesto nosotros podemos definir nuestras propias clases. Esto se verá con detalle más adelante en la asignatura, pero presentamos aquí un sencillo ejemplo para abrir boca:"
   ]
  },
  {
   "cell_type": "code",
   "execution_count": 25,
   "id": "challenging-aircraft",
   "metadata": {},
   "outputs": [],
   "source": [
    "class Estudiante():\n",
    "    def __init__(self, nombre, apellido, dni, *asignaturas):\n",
    "        self.nombre = nombre\n",
    "        self.apellido = apellido\n",
    "        self.dni = dni\n",
    "        self.asignaturas = set(asignaturas)\n",
    "    \n",
    "    def matricula(self, *asignaturas):\n",
    "        self.asignaturas.update(asignaturas)\n",
    "    \n",
    "    def desmatricula(self, *asignaturas):\n",
    "        self.asignaturas.difference_update(asignaturas)\n",
    "        \n",
    "    def esta_matriculado_en(self, asignatura):\n",
    "        return asignatura in self.asignaturas\n",
    "    \n",
    "    def __repr__(self):\n",
    "        return f'Estudiante({self.nombre!r}, {self.apellido!r}, {self.dni!r}, {self.asignaturas!r})'"
   ]
  },
  {
   "cell_type": "markdown",
   "id": "ambient-corrections",
   "metadata": {},
   "source": [
    "Hemos definido una clase `Estudiante` en cuyas instancias se almacena la identidad del estudiante (nombre, apellido y DNI como `str`) y las asignaturas de las que está matriculado como conjunto (clase `set` de Python). Además, se definen unos métodos que permiten matricular y desmatricular de una o más asignaturas, y consultar si está matriculado de una asignatura.\n",
    "\n",
    "A continuación usaremos el constructor para crear dos estudiantes y enredar con sus matrículas:"
   ]
  },
  {
   "cell_type": "code",
   "execution_count": 26,
   "id": "exciting-merchant",
   "metadata": {},
   "outputs": [
    {
     "name": "stdout",
     "output_type": "stream",
     "text": [
      "Estudiante('Rebeca', 'Millán', '11222000Q', {'F.PROG', 'FIS.G', 'ALG.L', 'CAL.D', 'BIO', 'I.COMP'})\n",
      "Estudiante('Aureliano', 'Buendía', '44555000W', {'F.PROG', 'FIS.G', 'ALG.L', 'CAL.D', 'BIO', 'I.COMP'})\n",
      "** Corregimos matrículas de Rebeca y Aureliano:\n",
      "Estudiante('Rebeca', 'Millán', '11222000Q', {'F.PROG', 'EST.D', 'MAT.B', 'FIS.G', 'ALG.L', 'CAL.D', 'I.COMP'})\n",
      "Estudiante('Aureliano', 'Buendía', '44555000W', {'F.PROG', 'T.EXPI', 'FIS.G', 'ALG.L', 'CAL.D', 'QUIM.I', 'I.COMP'})\n"
     ]
    }
   ],
   "source": [
    "# Conjunto de asignaturas comunes a 1º de MAT e IE (BIO es un error deliberado):\n",
    "asig_1MATIE  = {'FIS.G', 'CAL.D', 'ALG.L', 'I.COMP', 'F.PROG', 'BIO'}\n",
    "                      \n",
    "# Creamos dos estudiantes, ya matriculados de las asignaturas comunes:\n",
    "e1 = Estudiante('Rebeca', 'Millán', '11222000Q', *asig_1MATIE)\n",
    "e2 = Estudiante('Aureliano', 'Buendía', '44555000W', *asig_1MATIE)\n",
    "\n",
    "print(e1, e2, sep='\\n')\n",
    "\n",
    "# Ahora matriculamos a e1 de las dos asignaturas de 1º de MAT, y a e2 de las dos de 1º de IE:\n",
    "print(f'** Corregimos matrículas de {e1.nombre} y {e2.nombre}:')\n",
    "\n",
    "e1.matricula('EST.D', 'MAT.B')\n",
    "e2.matricula('T.EXPI', 'QUIM.I')\n",
    "for e in e1,e2:\n",
    "    e.desmatricula('BIO')\n",
    "\n",
    "print(e1, e2, sep='\\n')"
   ]
  },
  {
   "cell_type": "markdown",
   "id": "continuing-psychiatry",
   "metadata": {},
   "source": [
    "Como se puede ver, no hay que preocuparse de la gestión de memoria al instanciar la clase `Estudiante`: Python se encarga de todo lo necesario: simplemente invocamos su función constructora, y automáticamente se crea el objeto. Obsérvese que en la definición de la clase `Estudiante` se incluye un método `__init__`, el cual es invocado automáticamente al instanciar la clase. Sus parámetros se emplean para inicializar el contenido (los *atributos*) del objeto creado: en este caso el nombre, apellido, DNI (obligatorios), y también se inicializa el conjunto de asignaturas de las que se halla matriculado el estudiante. Si no se especifica ninguna en el momento de usar el constructor, se inicializará con un conjunto de asignaturas vacío.\n",
    "\n",
    "El método `__repr__` se invocará automáticamente al llamar a la función `repr` pasándole como parámetro un objeto de clase `Estudiante`. Lo hemos añadido para poder mostrar en pantalla las instancias de `Estudiante` simplemente con un `print`.\n",
    "\n",
    "(Nótese que la cadena que retorna el método `__repr__` de la clase `Estudiante` se ha diseñado para que tenga exactamente la misma forma que la invocación del constructor para crear una instancia idéntica. Eso significa que podríamos hacer, por ejemplo, `e3 = eval(repr(e1))` para crear una copia de `e1` y referenciarla con la variable `e3`.)\n",
    "\n",
    "En cuanto a esos parámetros que aparecen precedidos de `*`, se trata de algo que veremos en otro seminario. Baste decir que se utiliza para poder pasar un número variable de asignaturas como parámetros, bien especifícandolas una por una, o bien agrupadas en un conjunto, por ejemplo."
   ]
  },
  {
   "cell_type": "markdown",
   "id": "golden-quick",
   "metadata": {},
   "source": [
    "## Copia superficial y en profundidad (*shallow copy* y *deep copy*).\n",
    "\n",
    "La manipulación de objetos mediante referencias es un mecanismo sencillo y eficiente. Sin embargo, en ocasiones puede tener efectos inesperados para quienes se inician en Python; o incluso para programadores experimentados, pero habituados a los lenguajes clásicos.\n",
    "\n",
    "Uno de esos efectos es que no resulta trivial la copia de objetos compuestos. Este problema se suele abordar en cuanto se comienza a trabajar con listas. Si queremos crear una lista `l2` como copia de una lista `l1` ya existente, sabemos que esto no funciona:\n",
    "\n",
    "    l1 = [1, 2, 3]\n",
    "    l2 = l1\n",
    "\n",
    "puesto que con `l2 = l1` tan sólo estamos copiando la referencia a la lista, y como resultado `l2` y `l1` representarán el mismo objeto. Ya sabemos que una solución es emplear una expresión de indexación para generar un nuevo objeto que contenga los mismos elementos que la lista original:\n",
    "\n",
    "    l2 = l1[:]\n",
    "\n",
    "Pero ¿qué sucede si la lista `l1` tiene como elemento otra lista? Veamos qué sucede aquí:"
   ]
  },
  {
   "cell_type": "code",
   "execution_count": 27,
   "id": "clean-source",
   "metadata": {},
   "outputs": [
    {
     "name": "stdout",
     "output_type": "stream",
     "text": [
      "l1=[1, 2, ['ZZZ', 'b', 'c']]\n",
      "l2=[1, 2, ['ZZZ', 'b', 'c'], 666]\n"
     ]
    }
   ],
   "source": [
    "l1 = [1, 2, ['a', 'b', 'c']]\n",
    "l2 = l1[:]\n",
    "l2.append(666)\n",
    "l2[2][0] = 'ZZZ'\n",
    "print(f'l1={l1}\\nl2={l2}')"
   ]
  },
  {
   "cell_type": "markdown",
   "id": "weird-tradition",
   "metadata": {},
   "source": [
    "Mediante la expresión de indexación hemos realizado lo que se denomina una **copia superficial** (*shallow copy*) de la lista original, de modo que podemos añadir, eliminar o reemplazar elementos de una de las copias sin afectar a la otra. Pero, como los elementos de una lista son referencias a objetos, `l1[2]` y `l2[2]` hacen referencia al mismo objeto. Entonces, ¿cómo podemos realizar una **copia en profundidad** (*deep copy*) de un objeto compuesto, creando copias de todos los objetos que contiene?\n",
    "\n",
    "Una posible solución es ésta:"
   ]
  },
  {
   "cell_type": "code",
   "execution_count": 28,
   "id": "automatic-bouquet",
   "metadata": {},
   "outputs": [
    {
     "name": "stdout",
     "output_type": "stream",
     "text": [
      "l1=[1, 2, ['a', 'b', 'c']]\n",
      "l2=[1, 2, ['ZZZ', 'b', 'c'], 666]\n"
     ]
    }
   ],
   "source": [
    "l1 = [1, 2, ['a', 'b', 'c']]\n",
    "l2 = eval(repr(l1))   # <--- ¡TRUCO!\n",
    "l2.append(666)\n",
    "l2[2][0] = 'ZZZ'\n",
    "print(f'l1={l1}\\nl2={l2}')"
   ]
  },
  {
   "cell_type": "markdown",
   "id": "growing-shirt",
   "metadata": {},
   "source": [
    "El *truco* se basa en esta información que proporciona `help(repr)`:\n",
    "\n",
    "    repr(obj, /)\n",
    "        Return the canonical string representation of the object.\n",
    "    \n",
    "        For many object types, including most builtins, eval(repr(obj)) == obj.\n",
    "\n",
    "Pero obsérvese que no se garantiza que esto se verifique para *todos* los tipos de objetos. Es más, en el caso de las clases que definamos nosotros, sería responsabilidad nuestra (y en todo caso opcional) diseñar su método `__repr__` para que cumpla esa propiedad (precisamente, es lo que hemos hecho en la definición de la clase `Estudiante` mostrada arriba).\n",
    "\n",
    "Además, no siempre será posible: durante la ejecución de un programa pueden construirse objetos compuestos de complejidad indeterminada, de modo que `repr` ya no podrá generar una representación canónica de ellos procesable por `eval`.\n",
    "\n",
    "Afortunadamente, existe una solución: emplear las funciones definidas en el [módulo `copy` de la biblioteca estándar de Python](https://docs.python.org/3/library/copy.html)."
   ]
  },
  {
   "cell_type": "code",
   "execution_count": 29,
   "id": "fabulous-cannon",
   "metadata": {},
   "outputs": [
    {
     "name": "stdout",
     "output_type": "stream",
     "text": [
      "l1=[1, 2, ['a', 'b', 'c']]\n",
      "l2=[1, 2, ['ZZZ', 'b', 'c'], 666]\n"
     ]
    }
   ],
   "source": [
    "import copy\n",
    "\n",
    "l1 = [1, 2, ['a', 'b', 'c']]\n",
    "l2 = copy.deepcopy(l1)\n",
    "l2.append(666)\n",
    "l2[2][0] = 'ZZZ'\n",
    "print(f'l1={l1}\\nl2={l2}')"
   ]
  },
  {
   "cell_type": "markdown",
   "id": "described-puzzle",
   "metadata": {},
   "source": [
    "El módulo `copy` ofrece dos funciones: `copy.deepcopy`, que realiza una copia *en profundidad* del objeto que se le pasa como parámetro; y `copy.copy`, que realiza una copia *superficial*. Téngase en cuenta que, si bien es posible realizar copias superficiales de listas mediante la expresión de indexación `[:]`, y de diccionarios mediante su método `dict.copy`, necesitaremos `copy.copy` para realizar copias superficiales de objetos de otras clases.\n",
    "\n",
    "Quizá en este punto alguien se pregunte qué sucede con las cadenas y las tuplas. Bien, recuérdese que en ambos casos se trata de objetos inmutables, por lo que no tiene ningún sentido realizar copias superficiales de ellos: ¿para qué vamos a hacer una copia superficial, si no es posible modificar el original? Sin embargo, sí que puede tener sentido realizar una copia en profundidad de las tuplas, dado que éstas pueden contener elementos mutables a cualquier nivel de profundidad:"
   ]
  },
  {
   "cell_type": "code",
   "execution_count": 30,
   "id": "future-january",
   "metadata": {},
   "outputs": [
    {
     "name": "stdout",
     "output_type": "stream",
     "text": [
      "t1=(1, 2, ['ZZZ', 'b', 'c'])\n",
      "t2=(1, 2, ['ZZZ', 'b', 'c'])\n",
      "\n",
      "t1=(1, 2, ['a', 'b', 'c'])\n",
      "t2=(1, 2, ['ZZZ', 'b', 'c'])\n"
     ]
    }
   ],
   "source": [
    "t1 = (1, 2, ['a', 'b', 'c'])\n",
    "t2 = t1[:]    # copia superficial\n",
    "t2[2][0] = 'ZZZ'\n",
    "print(f't1={t1}\\nt2={t2}\\n')\n",
    "\n",
    "t1 = (1, 2, ['a', 'b', 'c'])\n",
    "t2 = copy.deepcopy(t1)    # copia en profundidad\n",
    "t2[2][0] = 'ZZZ'\n",
    "print(f't1={t1}\\nt2={t2}')"
   ]
  },
  {
   "cell_type": "markdown",
   "id": "demographic-extent",
   "metadata": {},
   "source": [
    "### El módulo `pickle`.\n",
    "\n",
    "En relación a las copias en profundidad, resulta conveniente mencionar [el módulo `pickle` de la biblioteca estándar de Python](https://docs.python.org/3/library/pickle.html). Este módulo permite “serializar” un objeto, generando a partir de él un *stream* que se almacena en un archivo. Lógicamente, también permite realizar el proceso inverso, es decir, crear un nuevo objeto a partir de lo previamente serializado y guardado en un archivo. Para ello el módulo `pickle` ofrece las funciones `pickle.dump` y `pickle.load`. Resulta de utilidad para guardar estructuras de datos en archivos con el objetivo de poder recuperarlas más tarde exactamente en la misma forma.\n",
    "\n",
    "La función `pickle.dump` realiza un recorrido en profundidad del objeto a serializar y guardar en un archivo. Cuando con posterioridad se utiliza `pickle.load` para recuperar el contenido del archivo, se crea un nuevo objeto que es una copia del original.\n",
    "\n",
    "Hay que tener en cuenta que no todos los objetos son *pickables* (véase la documentación del módulo). Por otra parte, el formato de serialización (denominado `protocolo`) es propio de Python, e incluso puede haber incompatibilidades de protocolo entre distintas versiones de Python.\n",
    "\n",
    "Veamos un ejemplo sencillo:"
   ]
  },
  {
   "cell_type": "code",
   "execution_count": 31,
   "id": "realistic-substitute",
   "metadata": {},
   "outputs": [
    {
     "name": "stdout",
     "output_type": "stream",
     "text": [
      "d original: {'a': [1, 2, 3], 'b': ['hola', 'adios'], 'c': 666, 'd': True}\n",
      "d recuperado: {'a': [1, 2, 3], 'b': ['hola', 'adios'], 'c': 666, 'd': True}\n"
     ]
    }
   ],
   "source": [
    "import pickle\n",
    "\n",
    "d = dict(a=[1,2,3], b=['hola', 'adios'], c=666, d=True)\n",
    "print('d original:', d)\n",
    "\n",
    "with open('d.pickle', 'wb') as f:     # el archivo almacena datos binarios, no texto\n",
    "    pickle.dump(d,f)                  # serializamos y guardamos d en el archivo\n",
    "\n",
    "# Más tarde, incluso desde otro programa que manipule el mismo tipo de estructura de datos…\n",
    "\n",
    "with open('d.pickle', 'rb') as f:\n",
    "    new_d = pickle.load(f)            # recuperamos el objeto desde el archivo\n",
    "    \n",
    "print('d recuperado:', new_d)"
   ]
  },
  {
   "cell_type": "markdown",
   "id": "uniform-grace",
   "metadata": {},
   "source": [
    "### El módulo `json`.\n",
    "\n",
    "Conceptualmente similar al módulo `pickle`, [el módulo `json` de la biblioteca estándar de Python](https://docs.python.org/3/library/json.html) ofrece las funciones `json.dump` y `json.load` para codificar y almacenar un objeto en un archivo en formato JSON, y viceversa. La ventaja del formato JSON es que está diseñado para intercambiar datos, pero tiene como desventaja que los tipos de objetos de admite están mucho más limitados.\n",
    "\n",
    "Veamos un ejemplo:"
   ]
  },
  {
   "cell_type": "code",
   "execution_count": 32,
   "id": "designed-alaska",
   "metadata": {},
   "outputs": [
    {
     "name": "stdout",
     "output_type": "stream",
     "text": [
      "d original: {'a': [1, 2, 3], 'b': ['hola', 'adios'], 'c': 666, 'd': True}\n",
      "d recuperado: {'a': [1, 2, 3], 'b': ['hola', 'adios'], 'c': 666, 'd': True}\n"
     ]
    }
   ],
   "source": [
    "import json\n",
    "\n",
    "d = dict(a=[1,2,3], b=['hola', 'adios'], c=666, d=True)\n",
    "print('d original:', d)\n",
    "\n",
    "with open('d.json', 'w', encoding='utf-8') as f:     # JSON es un formato de texto, en UTF-8\n",
    "    json.dump(d,f)                                   # codificamos y guardamos d en el archivo\n",
    "\n",
    "# Más tarde, incluso desde otro programa que manipule el mismo tipo de estructura de datos…\n",
    "\n",
    "with open('d.json', encoding='utf-8') as f:\n",
    "    new_d = json.load(f)                             # recuperamos el objeto desde el archivo\n",
    "    \n",
    "print('d recuperado:', new_d)"
   ]
  },
  {
   "cell_type": "markdown",
   "id": "gross-bernard",
   "metadata": {},
   "source": [
    "Y esto es lo que se guarda en el archivo `d.json`:\n",
    "\n",
    "    {\"a\": [1, 2, 3], \"b\": [\"hola\", \"adios\"], \"c\": 666, \"d\": true}"
   ]
  },
  {
   "cell_type": "code",
   "execution_count": null,
   "id": "victorian-voluntary",
   "metadata": {},
   "outputs": [],
   "source": []
  }
 ],
 "metadata": {
  "kernelspec": {
   "display_name": "Python 3",
   "language": "python",
   "name": "python3"
  },
  "language_info": {
   "codemirror_mode": {
    "name": "ipython",
    "version": 3
   },
   "file_extension": ".py",
   "mimetype": "text/x-python",
   "name": "python",
   "nbconvert_exporter": "python",
   "pygments_lexer": "ipython3",
   "version": "3.8.5"
  }
 },
 "nbformat": 4,
 "nbformat_minor": 5
}
