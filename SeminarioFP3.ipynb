{
 "cells": [
  {
   "cell_type": "markdown",
   "metadata": {},
   "source": [
    "# Seminario 3. Programación funcional en Python: comprehensions, iteradores y generadores.\n",
    "\n",
    "En este seminario se presentan varios mecanismos que Python proporciona para la creación de secuencias de datos: las *comprehensions*, los *iterables*, los *iteradores* y los *generadores*. Al igual que las funciones `map`, `filter` y `reduce` presentadas en un seminario anterior, todos estos mecanismos provienen de los *lenguajes funcionales*. Python, aunque por diseño es un lenguaje orientado a objetos, incorpora conceptos y herramientas que provienen de lenguajes imperativos (estructurados) y de los lenguajes funcionales, lo que realmente lo convierte en un lenguaje multiparadigma."
   ]
  },
  {
   "cell_type": "markdown",
   "metadata": {},
   "source": [
    "## Comprehensions\n",
    "\n",
    "Las llamadas *comprehensions* son una forma eficiente y concisa de crear e inicializar determinados contenedores: listas, diccionarios y conjuntos. Se caracterizan por ser compactas y replicar aproximadamente la notación matemática que suele utilizarse para definir dichas estructuras."
   ]
  },
  {
   "cell_type": "markdown",
   "metadata": {},
   "source": [
    "## List comprehensions\n",
    "\n",
    "La sintaxis general de una list comprehension es:\n",
    "\n",
    "    [ expresión  for item_1 in iterable_1 if condición_1\n",
    "                 for item_2 in iterable_2 if condición_2\n",
    "                                ...\n",
    "                 for item_N in iterable_N if condición_N ]\n",
    "\n",
    "Como puede verse, la sintaxis es muy similar a la notación matemática utilizada habitualmente para definir este tipo de estructuras:\n",
    "\n",
    "$\\qquad l = \\{ x^2\\ |\\ x \\in \\mathbb{N}, 1 \\leq x \\leq 10\\}$\n",
    "\n",
    "     l = [x*x for x in range(1,11)]\n",
    "\n",
    "Además de elegante, esta forma de crear listas es más rápida que el procedimiento habitual mediante un ciclo for. Veamos algunos ejemplos:"
   ]
  },
  {
   "cell_type": "code",
   "execution_count": 1,
   "metadata": {},
   "outputs": [
    {
     "name": "stdout",
     "output_type": "stream",
     "text": [
      "[2, -8, 6, -10, -6, -8, 8, -5, -8, -2]\n",
      "[0.4367924129123529,\n",
      " 0.09074764637165093,\n",
      " -3.3305089202770013,\n",
      " -2.230182830465015,\n",
      " 0.2526912431931702,\n",
      " 1.2381111506748113,\n",
      " -2.4128922312294687,\n",
      " 6.274194523364716,\n",
      " -2.3419072682451345,\n",
      " 8.526030530231788]\n"
     ]
    }
   ],
   "source": [
    "import random\n",
    "from pprint import pprint\n",
    "\n",
    "nums = [random.randint(-10,10) for i in range(10)]\n",
    "facts = [random.gauss(0, 4) for i in range(10)]\n",
    "pprint(nums)\n",
    "pprint(facts)"
   ]
  },
  {
   "cell_type": "code",
   "execution_count": 2,
   "metadata": {},
   "outputs": [
    {
     "data": {
      "text/plain": [
       "[4, 36, 64]"
      ]
     },
     "execution_count": 2,
     "metadata": {},
     "output_type": "execute_result"
    }
   ],
   "source": [
    "sqr = [x*x for x in nums if x>0]\n",
    "sqr"
   ]
  },
  {
   "cell_type": "code",
   "execution_count": 3,
   "metadata": {},
   "outputs": [
    {
     "data": {
      "text/plain": [
       "[2.6207544774741174,\n",
       " 0.5444858782299056,\n",
       " 1.5161474591590212,\n",
       " 7.4286669040488675,\n",
       " 37.64516714018829,\n",
       " 51.15618318139073,\n",
       " -2.6207544774741174,\n",
       " -0.5444858782299056,\n",
       " -1.5161474591590212,\n",
       " -7.4286669040488675,\n",
       " -37.64516714018829,\n",
       " -51.15618318139073]"
      ]
     },
     "execution_count": 3,
     "metadata": {},
     "output_type": "execute_result"
    }
   ],
   "source": [
    "prod = [x*y for x in nums if x%3==0 and x!=0 for y in facts if y>0]\n",
    "prod"
   ]
  },
  {
   "cell_type": "markdown",
   "metadata": {},
   "source": [
    "Podemos anidar una list comprehension dentro de otra:"
   ]
  },
  {
   "cell_type": "code",
   "execution_count": 4,
   "metadata": {},
   "outputs": [
    {
     "data": {
      "text/plain": [
       "[[1, 0, 1, 0], [0, 0, 0, 0], [1, 0, 0, 0]]"
      ]
     },
     "execution_count": 4,
     "metadata": {},
     "output_type": "execute_result"
    }
   ],
   "source": [
    "m = [[random.randint(0,1) for j in range(4)] for i in range(3)]\n",
    "m"
   ]
  },
  {
   "cell_type": "code",
   "execution_count": 5,
   "metadata": {},
   "outputs": [
    {
     "data": {
      "text/plain": [
       "[[1, 0, 1], [0, 0, 0], [1, 0, 0], [0, 0, 0]]"
      ]
     },
     "execution_count": 5,
     "metadata": {},
     "output_type": "execute_result"
    }
   ],
   "source": [
    "t = [[m[i][j] for i in range(len(m))] for j in range(len(m[0]))]\n",
    "t"
   ]
  },
  {
   "cell_type": "markdown",
   "metadata": {},
   "source": [
    "También podemos aplicar este método para escribir o leer datos de un archivo:"
   ]
  },
  {
   "cell_type": "code",
   "execution_count": 6,
   "metadata": {},
   "outputs": [
    {
     "data": {
      "text/plain": [
       "[[1, 0, 1, 0], [0, 0, 0, 0], [1, 0, 0, 0]]"
      ]
     },
     "execution_count": 6,
     "metadata": {},
     "output_type": "execute_result"
    }
   ],
   "source": [
    "# primero escribimos la matriz m en el fichero \"matriz.txt\"\n",
    "with open(\"matriz.txt\", \"w\", encoding=\"utf-8\") as fp:\n",
    "    for fila in m:\n",
    "        fp.write(' '.join([str(elem) for elem in fila])+'\\n')\n",
    "\n",
    "# a continuación, leemos el fichero \"matriz.txt\" para crear una copia de la matriz m\n",
    "with open(\"matriz.txt\", \"r\", encoding=\"utf-8\") as fp:\n",
    "    m_copy = [[int(elem) for elem in linea.split()] for linea in fp]\n",
    "m_copy"
   ]
  },
  {
   "cell_type": "markdown",
   "metadata": {},
   "source": [
    "## Dictionary comprehensions\n",
    "\n"
   ]
  },
  {
   "cell_type": "markdown",
   "metadata": {},
   "source": [
    "La sintaxis general de una *dictionary comprehension* puede tener dos formas:\n",
    "\n",
    "    { k: func(k) for k in secuencia if condición }\n",
    "    \n",
    "    { k_expr: v_expr for k, v in secuencia_tuplas if condición }\n",
    "\n",
    "Dos ejemplos:"
   ]
  },
  {
   "cell_type": "code",
   "execution_count": 7,
   "metadata": {},
   "outputs": [
    {
     "data": {
      "text/plain": [
       "{17: None, 34: None, 51: None, 68: None, 85: None}"
      ]
     },
     "execution_count": 7,
     "metadata": {},
     "output_type": "execute_result"
    }
   ],
   "source": [
    "d = {i: None for i in range(1, 100) if i%17==0}\n",
    "d"
   ]
  },
  {
   "cell_type": "code",
   "execution_count": 8,
   "metadata": {},
   "outputs": [
    {
     "data": {
      "text/plain": [
       "{'calcio': 6,\n",
       " 'magnesio': 8,\n",
       " 'potasio': 7,\n",
       " 'sodio': 5,\n",
       " 'hierro': 6,\n",
       " 'fósforo': 7}"
      ]
     },
     "execution_count": 8,
     "metadata": {},
     "output_type": "execute_result"
    }
   ],
   "source": [
    "palabras = [\"calcio\", \"magnesio\", \"potasio\", \"sodio\", \"hierro\", \"fósforo\"]\n",
    "d = {w: len(w) for w in palabras}\n",
    "d"
   ]
  },
  {
   "cell_type": "markdown",
   "metadata": {},
   "source": [
    "También podemos anidar una *dictionary comprehension* dentro de otra:"
   ]
  },
  {
   "cell_type": "code",
   "execution_count": 9,
   "metadata": {},
   "outputs": [
    {
     "data": {
      "text/plain": [
       "{0: {},\n",
       " 1: {0: 't'},\n",
       " 2: {0: 'Z', 1: 'r'},\n",
       " 3: {0: 'O', 1: 'O', 2: 'O'},\n",
       " 4: {0: 'e', 1: 'W', 2: 'g', 3: 'V'}}"
      ]
     },
     "execution_count": 9,
     "metadata": {},
     "output_type": "execute_result"
    }
   ],
   "source": [
    "import random\n",
    "import string\n",
    "\n",
    "d = {i: {j: random.choice(string.ascii_letters) for j in range(i)} for i in range(5)}\n",
    "d"
   ]
  },
  {
   "cell_type": "markdown",
   "metadata": {},
   "source": [
    "## Set comprehensions"
   ]
  },
  {
   "cell_type": "markdown",
   "metadata": {},
   "source": [
    "Por supuesto, para crear e inicializar conjuntos podemos usar *set comprehensions*. Veamos algunos ejemplos."
   ]
  },
  {
   "cell_type": "code",
   "execution_count": 10,
   "metadata": {},
   "outputs": [
    {
     "name": "stdout",
     "output_type": "stream",
     "text": [
      "{'v', 'c', 'a', 't', 'l', 'p', 's', '¡', 'n', 'r', 'f', 'i', 'm', 'e', 'o', 'd'}\n"
     ]
    }
   ],
   "source": [
    "import string\n",
    "\n",
    "cadena = \"(¡¡¡Los pasteles vinieron de [[Francia]], mon ami!!!)\"\n",
    "blanks = set(string.punctuation+string.whitespace)\n",
    "s = {c.lower() for c in cadena if c not in blanks}\n",
    "print(s)"
   ]
  },
  {
   "cell_type": "code",
   "execution_count": 11,
   "metadata": {},
   "outputs": [
    {
     "name": "stdout",
     "output_type": "stream",
     "text": [
      "{5, 69, 71, 73, 11, 13, 79, 47, 93}\n"
     ]
    }
   ],
   "source": [
    "import random\n",
    "\n",
    "s = {n for n in random.choices(range(1,101,2), k=10)} \n",
    "print(s)"
   ]
  },
  {
   "cell_type": "code",
   "execution_count": 12,
   "metadata": {},
   "outputs": [
    {
     "data": {
      "text/plain": [
       "{'Bilbao', 'Eibar', 'Gernika', 'Vitoria'}"
      ]
     },
     "execution_count": 12,
     "metadata": {},
     "output_type": "execute_result"
    }
   ],
   "source": [
    "lst = [('Manu', 19, 'Gernika'), ('Jone', 21, 'Vitoria'), ('Martina', 19, 'Bilbao'), ('Mikel', 22, 'Eibar')]\n",
    "s = {c for n, e, c in lst}\n",
    "s"
   ]
  },
  {
   "cell_type": "markdown",
   "metadata": {},
   "source": [
    "## Iterables y contextos de iteración.\n",
    "\n",
    "Al inicio del aprendizaje de Python se introduce el concepto de *secuencia*, como son las cadenas, listas, tuplas, o archivos; se dice también que la función `range` crea una secuencia numérica; y se explica que la forma natural de recorrer una secuencia de inicio a fin es utilizar la sentencia `for` del siguiente modo:\n",
    "\n",
    "    for variable in secuencia:\n",
    "        ...\n",
    "\n",
    "Sin embargo, se trata de una simplificación de un concepto mucho más general: el de **iterable**. Un objeto iterable es aquél que permite realizar una iteración sobre todos sus elementos. Las secuencias son obviamente iterables, pero hay muchos otros objetos que, no siendo secuencias, también son iterables.\n",
    "\n",
    "Todo objeto iterable se puede utilizar en un **contexto de iteración**, como es el caso de la sentencia `for`. De modo que, en realidad, un `for` tiene esta forma:\n",
    "\n",
    "    for variable in iterable:\n",
    "        ...\n",
    "\n",
    "En Python existen numerosos ejemplos de contextos de iteración. Por ejemplo, los desempaquetamientos, sean implícitos (como en una asignación múltiple) o explícitos (al utilizar los operadores `*` y `**`) definen contextos de iteración. También los encontramos (aunque de forma más evidente) en las *comprehensions* y en las funciones y expresiones generadoras que trataremos a continuación."
   ]
  },
  {
   "cell_type": "markdown",
   "metadata": {},
   "source": [
    "## Iterables e iteradores.\n",
    "\n",
    "Formalmente, un objeto es *iterable* si posee un método `__iter__`. Dicho método ha de retornar un objeto **iterador**, que se caracteriza por utilizar el denominado *protocolo de iterador* (*iterator protocol*), el cual consiste en:\n",
    "\n",
    "- Poseer un método `__next__`, que produce y retorna un elemento a partir del iterable. Si no quedan más elementos, el iterador desencadena la excepción `StopIteration`.\n",
    "- Poseer un método `__iter__` que retorna el mismo objeto iterador. Esto implica que todo iterador es también un iterable.\n",
    "\n",
    "En definitiva: *el objeto iterador itera sobre los elementos del iterable del que procede*.\n",
    "\n",
    "El método `__next__` del iterador producirá los elementos del iterable en un orden concreto: si el iterable es una secuencia, utilizará el orden de dicha secuencia; pero si el iterable no define un orden para sus elementos, no debemos realizar suposiciones sobre el orden de producción por parte de su iterador.\n",
    "\n",
    "Por otra parte, un iterador producirá elementos a partir del iterable del que procede, pero *no tienen por qué ser exactamente los elementos del iterable*. Por ejemplo, los iteradores sobre diccionarios producen sólo las claves.\n",
    "\n",
    "Python ofrece dos funciones específicas sobre iteradores: `iter` y `next`, que invocan respectivamente los métodos `__iter__` y `__next__` del objeto que se les pasa como argumento, y que retornan lo mismo que sendos métodos."
   ]
  },
  {
   "cell_type": "markdown",
   "metadata": {},
   "source": [
    "## Ejemplos de uso de iterables e iteradores\n",
    "\n",
    "Empecemos por definir una lista `l`. Como ya hemos dicho, las listas son objetos iterables; es por esa razón que las podemos recorrer dentro de contextos de iteración, como un `for`:"
   ]
  },
  {
   "cell_type": "code",
   "execution_count": 13,
   "metadata": {},
   "outputs": [
    {
     "name": "stdout",
     "output_type": "stream",
     "text": [
      "hola\n",
      "qué\n",
      "tal\n"
     ]
    }
   ],
   "source": [
    "l = ['hola', 'qué', 'tal']\n",
    "for c in l:\n",
    "    print(c)"
   ]
  },
  {
   "cell_type": "markdown",
   "metadata": {},
   "source": [
    "Ahora veamos qué sucede en el `for` con más detalle. Lo primero que sucede en un contexto de iteración es que Python invoca el método `__iter__` del objeto iterable (en este ejemplo, la lista `l`). Nosotros lo haremos utilizando la función `iter` por simple comodidad:"
   ]
  },
  {
   "cell_type": "code",
   "execution_count": 14,
   "metadata": {},
   "outputs": [
    {
     "name": "stdout",
     "output_type": "stream",
     "text": [
      "<list_iterator object at 0x7f712c275ca0>\n"
     ]
    }
   ],
   "source": [
    "it = iter(l)\n",
    "print(it)"
   ]
  },
  {
   "cell_type": "markdown",
   "metadata": {},
   "source": [
    "Obsérvese que `iter(l)` ha retornado un objeto iterador (de clase `list_iterator`) que itera sobre la lista `l`. Como todo iterador, este objeto cuenta con un método `__next__` que, al invocarlo, retornará un nuevo elemento de `l`. Dado que se trata de una lista, sus elementos tienen un orden definido, por lo que el iterador `it` los producirá en ese mismo orden.\n",
    "\n",
    "A continuación invocaremos dicho método, utilizando la función `next`:"
   ]
  },
  {
   "cell_type": "code",
   "execution_count": 15,
   "metadata": {},
   "outputs": [
    {
     "name": "stdout",
     "output_type": "stream",
     "text": [
      "hola\n",
      "qué\n",
      "tal\n"
     ]
    }
   ],
   "source": [
    "print(next(it))\n",
    "print(next(it))\n",
    "print(next(it))"
   ]
  },
  {
   "cell_type": "markdown",
   "metadata": {},
   "source": [
    "Nótese que el iterador `it` retiene el estado tras cada invocación de su método `__next__`: es decir, *recuerda* en qué punto de la secuencia ha quedado. De modo que el iterador puede llegar a *consumirse*, es decir, terminar de recorrer la secuencia. ¿Qué sucede entonces? Ya hemos obtenido los tres elementos de la lista `l`. Veamos qué sucede al ejecutar `next(it)` una vez más:"
   ]
  },
  {
   "cell_type": "code",
   "execution_count": 16,
   "metadata": {
    "tags": [
     "raises-exception"
    ]
   },
   "outputs": [
    {
     "ename": "StopIteration",
     "evalue": "",
     "output_type": "error",
     "traceback": [
      "\u001b[0;31m---------------------------------------------------------------------------\u001b[0m",
      "\u001b[0;31mStopIteration\u001b[0m                             Traceback (most recent call last)",
      "\u001b[0;32m<ipython-input-16-4d0222393be1>\u001b[0m in \u001b[0;36m<module>\u001b[0;34m\u001b[0m\n\u001b[0;32m----> 1\u001b[0;31m \u001b[0mprint\u001b[0m\u001b[0;34m(\u001b[0m\u001b[0mnext\u001b[0m\u001b[0;34m(\u001b[0m\u001b[0mit\u001b[0m\u001b[0;34m)\u001b[0m\u001b[0;34m)\u001b[0m\u001b[0;34m\u001b[0m\u001b[0;34m\u001b[0m\u001b[0m\n\u001b[0m",
      "\u001b[0;31mStopIteration\u001b[0m: "
     ]
    }
   ],
   "source": [
    "print(next(it))"
   ]
  },
  {
   "cell_type": "markdown",
   "metadata": {},
   "source": [
    "Como podemos comprobar, se produce una excepción de tipo `StopIteration`. Aquí vemos el mensaje de error porque no se ha capturado esa excepción, pero en los contextos de iteración sí se captura, precisamente para salir de dicho contexto cuando al iterador ya no le quedan elementos por producir. En una sentencia `for`, la salida del contexto de iteración consiste simplemente en finalizar el ciclo. De hecho, podemos simular un `for` como el de más arriba fácilmente:\n",
    "\n",
    "> Nota: aunque el manejo de excepciones en Python se tratará en un seminario posterior, el uso que realizamos a continuación debería entenderse fácilmente."
   ]
  },
  {
   "cell_type": "code",
   "execution_count": 17,
   "metadata": {},
   "outputs": [
    {
     "name": "stdout",
     "output_type": "stream",
     "text": [
      "hola\n",
      "qué\n",
      "tal\n"
     ]
    }
   ],
   "source": [
    "it = iter(l)\n",
    "while True:\n",
    "    try:\n",
    "        c = next(it)\n",
    "    except StopIteration:\n",
    "        break\n",
    "    print(c)"
   ]
  },
  {
   "cell_type": "markdown",
   "metadata": {},
   "source": [
    "El funcionamiento de un iterador puede verse afectado por posibles modificaciones al iterable del que procede. Esto sucede porque el objeto iterador utiliza los elementos del objeto iterable. Ahora bien, una vez que se ha agotado el iterador (habiéndose desencadenado `StopIteration`), su estado es irreversible. En cualquier caso, no es prudente modificar un iterable mientras se utiliza un iterador creado a partir de él."
   ]
  },
  {
   "cell_type": "markdown",
   "metadata": {},
   "source": [
    "## Iteradores sobre diccionarios.\n",
    "\n",
    "Como ya sabemos, los objetos de clase `dict` cuentan con los métodos `keys`, `values` e `items`, los cuales retornan lo que se conoce como *vistas* (*views*) sobre las claves, los valores y tuplas clave-valor, respectivamente. Dichas *vistas* no consumen memoria adicional. Por tanto, podemos iterar sobre un diccionario de forma muy sencilla:"
   ]
  },
  {
   "cell_type": "code",
   "execution_count": 18,
   "metadata": {
    "scrolled": false
   },
   "outputs": [
    {
     "name": "stdout",
     "output_type": "stream",
     "text": [
      "a\n",
      "b\n",
      "c\n",
      "1\n",
      "2\n",
      "3\n",
      "('a', 1)\n",
      "('b', 2)\n",
      "('c', 3)\n"
     ]
    }
   ],
   "source": [
    "d = {'a': 1, 'b': 2, 'c': 3}\n",
    "\n",
    "for k in d.keys():\n",
    "    print(k)\n",
    "    \n",
    "for v in d.values():\n",
    "    print(v)\n",
    "    \n",
    "for i in d.items():\n",
    "    print(i)"
   ]
  },
  {
   "cell_type": "markdown",
   "metadata": {},
   "source": [
    "Sucede, no obstante, que los objetos `dict` son en sí mismos iterables:"
   ]
  },
  {
   "cell_type": "code",
   "execution_count": 19,
   "metadata": {},
   "outputs": [
    {
     "name": "stdout",
     "output_type": "stream",
     "text": [
      "a\n",
      "b\n",
      "c\n"
     ]
    }
   ],
   "source": [
    "it = iter(d)\n",
    "print(next(it))\n",
    "print(next(it))\n",
    "print(next(it))"
   ]
  },
  {
   "cell_type": "markdown",
   "metadata": {},
   "source": [
    "Como podemos ver, el método `__next__` de un iterador no está obligado a producir elementos del iterable: puede diseñarse para que retorne lo que se considere más apropiado. Así, los iteradores sobre diccionarios producen sus claves (desde Python 3.7, el orden de las claves de un diccionario es el de su inserción). De modo que si simplemente deseamos iterar sobre las claves de un diccionario, podemos prescindir del método `keys`:"
   ]
  },
  {
   "cell_type": "code",
   "execution_count": 20,
   "metadata": {},
   "outputs": [
    {
     "name": "stdout",
     "output_type": "stream",
     "text": [
      "a\n",
      "b\n",
      "c\n"
     ]
    }
   ],
   "source": [
    "for k in d:\n",
    "    print(k)"
   ]
  },
  {
   "cell_type": "markdown",
   "metadata": {},
   "source": [
    "## Otros objetos iterables.\n",
    "\n",
    "No sólo los objetos de las clases contenedoras son iterables; existen muchos tipos de objetos que también poseen el método `__iter__`. Por ejemplo, la función `range` crea y retorna un objeto iterable de clase `range` que, en realidad, no contiene una estructura de datos como una lista o tupla con todos los elementos del rango, sino *la forma de producir esos elementos*. Lógicamente, un iterador creado a partir de un objeto `range` produce secuencialmente cada elemento del rango cuando se invoca su método `__next__`."
   ]
  },
  {
   "cell_type": "code",
   "execution_count": 21,
   "metadata": {},
   "outputs": [
    {
     "name": "stdout",
     "output_type": "stream",
     "text": [
      "r: range(0, 10)\n",
      "iter(r): <range_iterator object at 0x7f712c1facc0>\n",
      "0 1 2\n"
     ]
    }
   ],
   "source": [
    "r = range(10)\n",
    "it = iter(r)\n",
    "print('r:', r)\n",
    "print('iter(r):', it)\n",
    "print(next(it), next(it), next(it))"
   ]
  },
  {
   "cell_type": "markdown",
   "metadata": {},
   "source": [
    "También existen funciones que crean *directamente* objetos iteradores que, por tanto, no proceden de un iterable. Por ejemplo, la función `zip` sirve para emparejar (o “n-tuplar”, en realidad) los elementos de dos o más secuencias… o iterables. Pues bien, esta función *retorna directamente un iterador*; obsérvese a continuación que no es necesario utilizar el método `__iter__` para crear un iterador a partir del objeto que retorna `zip`:"
   ]
  },
  {
   "cell_type": "code",
   "execution_count": 22,
   "metadata": {},
   "outputs": [
    {
     "name": "stdout",
     "output_type": "stream",
     "text": [
      "(1, 4) (2, 5) (3, 6)\n"
     ]
    }
   ],
   "source": [
    "z = zip([1,2,3],[4,5,6])\n",
    "print(next(z), next(z), next(z))"
   ]
  },
  {
   "cell_type": "markdown",
   "metadata": {},
   "source": [
    "Recuérdese que se puede utilizar un iterador allí donde se pueda emplear un iterable, por lo que podemos utilizar `zip` en un `for`:"
   ]
  },
  {
   "cell_type": "code",
   "execution_count": 23,
   "metadata": {},
   "outputs": [
    {
     "name": "stdout",
     "output_type": "stream",
     "text": [
      "(0, 1, 2)\n",
      "(1, 2, 3)\n",
      "(2, 3, 4)\n",
      "(3, 4, 5)\n",
      "(4, 5, 6)\n"
     ]
    }
   ],
   "source": [
    "for t in zip(range(0,5),range(1,6),range(2,7)):\n",
    "    print(t)"
   ]
  },
  {
   "cell_type": "code",
   "execution_count": 24,
   "metadata": {},
   "outputs": [
    {
     "data": {
      "text/plain": [
       "[[1, 5, 9], [2, 6, 10], [3, 7, 11], [4, 8, 12]]"
      ]
     },
     "execution_count": 24,
     "metadata": {},
     "output_type": "execute_result"
    }
   ],
   "source": [
    "m = [[1, 2, 3, 4], [5, 6, 7, 8], [9, 10, 11, 12]]\n",
    "t = [list(t) for t in zip(*m)] # traspuesta de m\n",
    "t"
   ]
  },
  {
   "cell_type": "markdown",
   "metadata": {},
   "source": [
    "Obsérvese que, de forma similar a `range`, el iterador construido por la función `zip` no contiene todos los elementos, sino la forma de producirlos. En este último ejemplo en el que se le pasan como argumentos tres objetos `range`, el uso de memoria es mínimo, ya que ni los objetos `range` (ni los iteradores que se construyen sobre ellos), ni el objeto `zip` contienen elemento alguno (enteros o tuplas), sino solamente el código necesario para producirlos en el momento en que se invoque el método `__next__`. En consecuencia, podemos afirmar que **el uso de iteradores resulta extremadamente eficiente en cuanto a consumo de memoria**."
   ]
  },
  {
   "cell_type": "markdown",
   "metadata": {},
   "source": [
    "## Funciones generadoras.\n",
    "\n",
    "Las funciones generadoras son una herramienta que posibilita crear iteradores de forma sencilla y flexible. En su forma más general, se definen de forma casi idéntica a una función convencional, salvo que utilizan la sentencia `yield` para *retornar* datos. La diferencia entre las sentencias `yield` y `return` es que la primera hace que el generador conserve su estado, de forma que la próxima vez que se invoca `__next__` continúa en el punto en que se quedó tras ejecutarse `yield`, recordando también todas sus variables locales."
   ]
  },
  {
   "cell_type": "markdown",
   "metadata": {},
   "source": [
    "Veamos un ejemplo de función generadora que produce una secuencia correspondiente a la serie de Fibonacci. La función recibe como argumento el número de elementos deseados."
   ]
  },
  {
   "cell_type": "code",
   "execution_count": 25,
   "metadata": {},
   "outputs": [],
   "source": [
    "def Fibogen(nterms=None):\n",
    "    n = 0\n",
    "    a, b = 0, 1\n",
    "    \n",
    "    while nterms == None or n < nterms:\n",
    "        n += 1\n",
    "        a, b = b, a+b\n",
    "        yield a"
   ]
  },
  {
   "cell_type": "markdown",
   "metadata": {},
   "source": [
    "Los métodos `__next__` e `__iter__` se crean automáticamente y la excepción `StopIteration` se desencadena también automáticamente al salir de la función. El uso de esta función es muy sencillo:"
   ]
  },
  {
   "cell_type": "code",
   "execution_count": 26,
   "metadata": {},
   "outputs": [
    {
     "name": "stdout",
     "output_type": "stream",
     "text": [
      "1\n",
      "1\n",
      "2\n",
      "3\n",
      "5\n",
      "8\n",
      "13\n",
      "21\n",
      "34\n",
      "55\n"
     ]
    }
   ],
   "source": [
    "for n in Fibogen(10):\n",
    "    print(n)"
   ]
  },
  {
   "cell_type": "code",
   "execution_count": 27,
   "metadata": {},
   "outputs": [
    {
     "name": "stdout",
     "output_type": "stream",
     "text": [
      "l = [1, 1, 2, 3, 5, 8, 13, 21, 34, 55, 89, 144, 233, 377, 610, 987, 1597, 2584, 4181, 6765]\n"
     ]
    }
   ],
   "source": [
    "l = list(Fibogen(20))\n",
    "print('l =', l)"
   ]
  },
  {
   "cell_type": "markdown",
   "metadata": {},
   "source": [
    "El cociente entre un término de la serie de Fibonacci y el anterior tiene como límite la *razón aúrea* (𝜑). Supongamos que queremos (por puro masoquismo) calcular 𝜑 de ese modo, en lugar utilizar directamente la fórmula 𝜑=(1+√5)/2. Con 50 términos ya se consigue muy buena precisión. La cuestión es cómo conseguir *sólo* los dos últimos términos generados por `Fibogen(50)` sin almacenarlos previamente en una lista u otra estructura, ya que eso consumiría memoria sin necesidad."
   ]
  },
  {
   "cell_type": "code",
   "execution_count": 28,
   "metadata": {},
   "outputs": [
    {
     "name": "stdout",
     "output_type": "stream",
     "text": [
      "Usando la fórmula: 𝜑 = 1.618033988749895\n",
      "Usando una lista: 𝜑 = 1.618033988749895\n",
      "Usando un empaquetamiento: 𝜑 = 1.618033988749895\n",
      "Usando un for con ‘next’ previo: 𝜑 = 1.618033988749895\n"
     ]
    }
   ],
   "source": [
    "# Cálculo directo\n",
    "print(f'Usando la fórmula: 𝜑 = {(1+5**0.5)/2}')\n",
    "\n",
    "# Consumiendo memoria\n",
    "a, b = list(Fibogen(50))[-2:]\n",
    "print(f'Usando una lista: 𝜑 = {b/a}')\n",
    "\n",
    "# Consumiendo memoria, pero de forma más elegante\n",
    "*foo, a, b = Fibogen(50)\n",
    "del foo\n",
    "print(f'Usando un empaquetamiento: 𝜑 = {b/a}')\n",
    "\n",
    "# Usando la memoria justa y necesaria\n",
    "fibo_it = Fibogen(50)\n",
    "b = next(fibo_it)\n",
    "for c in fibo_it:\n",
    "    a = b\n",
    "    b = c\n",
    "print(f'Usando un for con ‘next’ previo: 𝜑 = {b/a}')"
   ]
  },
  {
   "cell_type": "markdown",
   "metadata": {},
   "source": [
    "Las funciones generadoras pueden ser extremadamente útiles para escribir programas basados en filtros que operan sobre flujos de datos. También son útiles en operaciones que requieren el manejo de iterables complejos. Por ejemplo:"
   ]
  },
  {
   "cell_type": "code",
   "execution_count": 29,
   "metadata": {},
   "outputs": [
    {
     "name": "stdout",
     "output_type": "stream",
     "text": [
      "-34\n"
     ]
    }
   ],
   "source": [
    "# Devuelve alternativamente 1 y -1\n",
    "def plusminus():\n",
    "    pm = 1\n",
    "    while True:\n",
    "        yield pm\n",
    "        pm = -pm\n",
    "\n",
    "# En cada llamada devuelve el siguiente minor de la matriz a (desarrollando sobre a[0])\n",
    "def minors(a):\n",
    "    for i in range(len(a)):\n",
    "        yield [[fila[j] for j in range(len(fila)) if j!=i] for fila in a[1:]]\n",
    "\n",
    "# Devuelve el determinante de una matriz cuadrada a\n",
    "def det(a):\n",
    "    if len(a) == 1:\n",
    "        return a[0][0]\n",
    "    else:\n",
    "        return sum(x*y*det(z) for x,y,z in zip(plusminus(), a[0], minors(a)))\n",
    "\n",
    "mat = [[1, 3, -5],[1, 2, 0], [-2, 2, 4]]\n",
    "print(det(mat))"
   ]
  },
  {
   "cell_type": "markdown",
   "metadata": {},
   "source": [
    "## Expresiones generadoras.\n",
    "\n",
    "Cuando las funciones generadoras son muy sencillas, se pueden definir de manera compacta en forma de *expresiones generadoras*. Su sintaxis es prácticamente idéntica a la de las *list comprehensions*, pero utilizando paréntesis en lugar de corchetes:\n",
    "\n",
    "    ( expresión  for item_1 in iterable_1 if condición_1\n",
    "                 for item_2 in iterable_2 if condición_2\n",
    "                                ...\n",
    "                 for item_N in iterable_N if condición_N )\n",
    "\n",
    "Los paréntesis no son necesarios si la expresión generadora es el único argumento de una función. A diferencia de una list comprehension, una expresión generadora no almacena datos en memoria, sino que los genera a demanda. Por tanto, las expresiones generadoras se pueden utilizar en lugar de *list comprehensions* cuando no necesitamos crear una lista como tal, sino tan sólo iterar sobre sus elementos. Por ejemplo:"
   ]
  },
  {
   "cell_type": "code",
   "execution_count": 30,
   "metadata": {},
   "outputs": [
    {
     "name": "stdout",
     "output_type": "stream",
     "text": [
      "285\n",
      "285\n"
     ]
    }
   ],
   "source": [
    "s1 = sum([n*n for n in range(10)]) # con list comprehension, consumiendo memoria\n",
    "s2 = sum(n*n for n in range(10)) # con expresión generadora, sin consumir memoria\n",
    "print(s1)\n",
    "print(s2)"
   ]
  },
  {
   "cell_type": "markdown",
   "metadata": {},
   "source": [
    "La función `sum` espera un *iterable* como argumento. La diferencia es que con la expresión generadora no se construye lista alguna, por lo que resulta más eficiente en tiempo y en uso de memoria."
   ]
  },
  {
   "cell_type": "markdown",
   "metadata": {},
   "source": [
    "En el siguiente ejemplo se calcula un producto escalar de dos vectores (listas) sin necesidad de construir ninguna lista adicional:"
   ]
  },
  {
   "cell_type": "code",
   "execution_count": 31,
   "metadata": {},
   "outputs": [
    {
     "name": "stdout",
     "output_type": "stream",
     "text": [
      "1060\n"
     ]
    }
   ],
   "source": [
    "vec1 = [10, 20, 30, 40, 50]\n",
    "vec2 = [2, 3, 5, 7, 11]\n",
    "print(sum(x*y for x, y in zip(vec1, vec2)))"
   ]
  },
  {
   "cell_type": "markdown",
   "metadata": {},
   "source": [
    "La función `sum` utiliza la expresión generadora que se le ha pasado como argumento para ir obteniendo los sumandos uno por uno, que va acumulando en el sumatorio. A su vez, cada vez que se le demanda un nuevo elemento desde la función, la función generadora obtiene del iterador creado por `zip` una nueva tupla, de la cual extrae y multiplica sus dos componentes; y a su vez, el iterador del `zip` obtiene un par de elementos de ambos vectores y forma con ellos una tupla a medida que se le va demandando por parte de la expresión generadora. Éste es un proceso muy eficiente en términos de uso de memoria y tiempo."
   ]
  },
  {
   "cell_type": "markdown",
   "metadata": {},
   "source": [
    "Quizá se aprecie mejor la potencia y facilidad de uso de los iteradores, funciones y expresiones generadoras si descomponemos la expresión del producto escalar en tres funciones ( `mi_sum`, `prod_elems`y `mi_zip`) que emulan el comportamiento de la expresión mostrada arriba:"
   ]
  },
  {
   "cell_type": "code",
   "execution_count": 32,
   "metadata": {},
   "outputs": [
    {
     "name": "stdout",
     "output_type": "stream",
     "text": [
      "1060\n"
     ]
    }
   ],
   "source": [
    "def mi_sum(iterable):\n",
    "    suma = 0\n",
    "    for item in iterable:\n",
    "        suma += item\n",
    "    return suma\n",
    "    \n",
    "def prod_elems(v1, v2):\n",
    "    for x, y in mi_zip(v1, v2):\n",
    "        yield x*y\n",
    "    \n",
    "def mi_zip(*iterables):\n",
    "    iteradores = [iter(it) for it in iterables]\n",
    "    while True:\n",
    "        try:\n",
    "            t = tuple([next(i) for i in iteradores])\n",
    "            yield t\n",
    "        except StopIteration:\n",
    "            break\n",
    "\n",
    "print(mi_sum(prod_elems(vec1, vec2)))"
   ]
  },
  {
   "cell_type": "markdown",
   "metadata": {},
   "source": [
    "A continuación se muestra otro ejemplo en el que primero creamos un archivo con datos de un inventario, para después leerlo por medio de dos expresiones generadoras acopladas. Obsérvese cómo la función `sum` de Python pone en marcha la expresión generadora `costes`, que a su vez pone en marcha la expresión genradora `items`, que es la que recorre el archivo:"
   ]
  },
  {
   "cell_type": "code",
   "execution_count": 33,
   "metadata": {},
   "outputs": [
    {
     "name": "stdout",
     "output_type": "stream",
     "text": [
      "Total: 1063.02\n"
     ]
    }
   ],
   "source": [
    "with open(\"inventario.txt\", \"w\", encoding=\"utf-8\") as fp:\n",
    "    fp.write(\"mesas 20 33.24\\nsillas 15 12.67\\nbombillas 9 2.54\\nlapiceros 213 0.87\")\n",
    "    \n",
    "with open(\"inventario.txt\", \"r\", encoding=\"utf-8\") as fp:\n",
    "    items = (linea.split() for linea in fp)\n",
    "    costes = (int(f[1])*float(f[2]) for f in items)\n",
    "    total = sum(costes)\n",
    "\n",
    "print(f'Total: {total:.2f}')"
   ]
  },
  {
   "cell_type": "markdown",
   "metadata": {},
   "source": [
    "## El módulo `itertools`.\n",
    "\n",
    "La biblioteca estándar de Python cuenta con un módulo llamado `itertools`, que ofrece un conjunto de iteradores que, en conjunto, forman un “álgebra de iteradores“ con los que se pueden realizar construcciones compactas y extremadamente potentes; más aún si se combinan con el módulo `operator` de la biblioteca estándar.\n",
    "\n",
    "No vamos a tratar aquí el contenido y uso del módulo `itertools`, pero recomendamos [la lectura de su documentación](https://docs.python.org/3/library/itertools.html), que además incluye diversos ejemplos de uso."
   ]
  }
 ],
 "metadata": {
  "kernelspec": {
   "display_name": "Python 3",
   "language": "python",
   "name": "python3"
  },
  "language_info": {
   "codemirror_mode": {
    "name": "ipython",
    "version": 3
   },
   "file_extension": ".py",
   "mimetype": "text/x-python",
   "name": "python",
   "nbconvert_exporter": "python",
   "pygments_lexer": "ipython3",
   "version": "3.8.2"
  }
 },
 "nbformat": 4,
 "nbformat_minor": 5
}
