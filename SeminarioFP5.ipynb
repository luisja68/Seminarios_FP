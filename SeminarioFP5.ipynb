{
 "cells": [
  {
   "cell_type": "markdown",
   "metadata": {},
   "source": [
    "# Seminario 5. Expresiones regulares en Python.\n",
    "\n",
    "Lo que llamamos **expresiones regulares** son *especificaciones formales de patrones de texto*. Casi todos los lenguajes de programación incorporan algún mecanismo para definirlas y aplicarlas en la búsqueda de subcadenas de texto que encajen en un determinado patrón o bien para modificar de alguna manera las subcadenas que encajen con el patrón. La sintaxis de las expresiones regulares incluye reglas para especificar todo tipo de eventos: texto literal, repeticiones (finitas o infinitas), combinaciones de patrones, etc. Se utilizan profusamente en todo tipo de aplicaciones que requieren procesar texto (editores, IDEs, procesadores de comandos, etc.). En Python existe un módulo de la biblioteca standard especializado en expresiones regulares: el módulo `re`.\n",
    "\n",
    "> Aunque la definición formal de *expresión regular* se limita a expresiones que describen lenguajes regulares, la sintaxis del módulo `re` permite definir conjuntos de expresiones mucho más generales. En este seminario, utilizaremos el término *expresión regular* en un sentido amplio para referirnos a cualquier expresión que pueda ser evaluada por el módulo `re` de Python."
   ]
  },
  {
   "cell_type": "markdown",
   "metadata": {},
   "source": [
    "## Búsqueda de patrones en texto.\n",
    "\n",
    "El uso más habitual del módulo `re` es la búsqueda de patrones en una cadena de caracteres. La función `search()` toma como argumentos un patrón y una cadena de caracteres a explorar, y retorna un objeto de la clase `Match` si el patrón encaja con alguna subcadena o `None` si no encaja con nada. El objeto de la clase `Match` incluye información sobre la expresión regular, la cadena explorada y la localización del patrón dentro de ésta. Veámoslo con un ejemplo:"
   ]
  },
  {
   "cell_type": "code",
   "execution_count": 1,
   "metadata": {},
   "outputs": [
    {
     "name": "stdout",
     "output_type": "stream",
     "text": [
      "Patrón 'este' encontrado en '¿Encaja este texto con el patrón?':\n",
      "\tPosición inicial: 8\n",
      "\tPosición final: 11\n",
      "\tSubcadena encontrada: 'este'\n"
     ]
    }
   ],
   "source": [
    "import re\n",
    "\n",
    "pat = 'este'\n",
    "t = '¿Encaja este texto con el patrón?'\n",
    "\n",
    "match = re.search(pat, t)\n",
    "\n",
    "if match is not None:\n",
    "    s = match.start() # posición de inicio del patrón en la cadena t\n",
    "    e = match.end()   # posición siguiente al final del patrón en la cadena t\n",
    "\n",
    "    print(f\"Patrón {match.re.pattern!r} encontrado en {t!r}:\")\n",
    "    print(f\"\\tPosición inicial: {s}\")\n",
    "    print(f\"\\tPosición final: {e-1}\")\n",
    "    print(f\"\\tSubcadena encontrada: {t[s:e]!r}\")\n",
    "else:\n",
    "    print(f\"Patrón {pat!r} NO encontrado en {t!r}\")"
   ]
  },
  {
   "cell_type": "markdown",
   "metadata": {},
   "source": [
    "## Compilación de expresiones regulares.\n",
    "\n",
    "El módulo `re` dispone de métodos que permiten especificar las expresiones regulares en forma de cadenas de caracteres. Sin embargo, si van a a usarse con frecuencia, es más eficiente compilarlas, es decir, transformarlas en autómatas, lo cual acelera enormemente el procesado. Precisamente, la función `compile()` convierte una expresión regular en forma de cadena de caracteres en un objeto de la clase `RegexObject`:"
   ]
  },
  {
   "cell_type": "code",
   "execution_count": 2,
   "metadata": {},
   "outputs": [
    {
     "name": "stdout",
     "output_type": "stream",
     "text": [
      "Texto: '¿Encaja este texto con el patrón?'\n",
      "Búsqueda de 'esto' --> No encontrado\n",
      "Búsqueda de 'esta' --> No encontrado\n",
      "Búsqueda de 'este' --> Encontrado\n"
     ]
    }
   ],
   "source": [
    "import re\n",
    "\n",
    "# Compilación de patrones\n",
    "regexes = [re.compile(p) for p in ('esto', 'esta', 'este')]\n",
    "\n",
    "t = '¿Encaja este texto con el patrón?'\n",
    "print(f\"Texto: {t!r}\")\n",
    "\n",
    "for r in regexes:\n",
    "    print(f\"Búsqueda de {r.pattern!r} -->\", end=' ')\n",
    "    if r.search(t):\n",
    "        print(\"Encontrado\")\n",
    "    else:\n",
    "        print(\"No encontrado\")"
   ]
  },
  {
   "cell_type": "markdown",
   "metadata": {},
   "source": [
    "Al utilizar expresiones compiladas, el esfuerzo de compilación se concentra en la inicialización de un programa, de forma que cada búsqueda se realiza en un tiempo considerablemente menor."
   ]
  },
  {
   "cell_type": "markdown",
   "metadata": {},
   "source": [
    "## Búsqueda de múltiples instancias.\n",
    "\n",
    "Hasta ahora, los ejemplos han mostrado casos en los que se reportaba la localización de una única instancia del patrón buscado. La función `findall()` retorna todas las subcadenas dentro el texto que, sin solaparse, encajan con el patrón suministrado. Por ejemplo:"
   ]
  },
  {
   "cell_type": "code",
   "execution_count": 3,
   "metadata": {},
   "outputs": [
    {
     "name": "stdout",
     "output_type": "stream",
     "text": [
      "Instancia 1: 'abb'\n",
      "Instancia 2: 'abbbb'\n"
     ]
    }
   ],
   "source": [
    "import re\n",
    "\n",
    "t = 'abbaaaabbbbaaaa'\n",
    "pat = 'ab+' # una a seguida de una o más b's\n",
    "\n",
    "for i, match in enumerate(re.findall(pat, t)):\n",
    "    print(f\"Instancia {i+1}: {match!r}\")"
   ]
  },
  {
   "cell_type": "markdown",
   "metadata": {},
   "source": [
    "Si no nos basta con las subcadenas y deseamos obtener toda la información sobre cada instancia que encaja con el patrón, podemos utilizar la función `finditer()`, que retorna un iterador que recorre todos los objetos de la clase `Match` que encajan con el patrón:"
   ]
  },
  {
   "cell_type": "code",
   "execution_count": 4,
   "metadata": {},
   "outputs": [
    {
     "name": "stdout",
     "output_type": "stream",
     "text": [
      "Instancia 1: 'abb' en 0:2\n",
      "Instancia 2: 'abbbb' en 6:10\n"
     ]
    }
   ],
   "source": [
    "import re\n",
    "\n",
    "t = 'abbaaaabbbbaaaa'\n",
    "pat = 'ab+' # una a seguida de una o más b's\n",
    "\n",
    "for i, match in enumerate(re.finditer(pat, t)):\n",
    "    s = match.start()\n",
    "    e = match.end()\n",
    "    print(f\"Instancia {i+1}: {t[s:e]!r} en {s}:{e-1}\")"
   ]
  },
  {
   "cell_type": "markdown",
   "metadata": {},
   "source": [
    "## Sintaxis de las expresiones regulares.\n",
    "\n",
    "Como hemos visto en el ejemplo anterior, las expresiones regulares permiten detectar patrones sofisticados, no simples literales. Los patrones pueden incluir repeticiones (como en 'ab+'), pueden estar ligados a determinadas partes de la entrada (el principio o el final, por ejemplo) y, en general, pueden expresarse de manera compacta, sin que haga falta especificar cada carácter o todos los posibles literales (que podrían ser infinitos). Para ello, existen los llamados *meta-caracteres* (como el símbolo '+' en el ejemplo anterior). En primer lugar, definiremos una función auxiliar:"
   ]
  },
  {
   "cell_type": "code",
   "execution_count": 5,
   "metadata": {},
   "outputs": [
    {
     "name": "stdout",
     "output_type": "stream",
     "text": [
      "'ab+' ('a' seguida de una o más 'b')\n",
      "\n",
      "\t'abbaaabbbbaaaaa'\n",
      "\t'abb'\n",
      "\t     'abbbb'\n",
      "\n",
      "'ba+' ('b' seguida de una o más 'a')\n",
      "\n",
      "\t'abbaaabbbbaaaaa'\n",
      "\t  'baaa'\n",
      "\t         'baaaaa'\n",
      "\n"
     ]
    }
   ],
   "source": [
    "import re\n",
    "\n",
    "def test_pat(t, l_pat):\n",
    "    \"\"\" Dado un texto t y una lista de patrones l_pat, busca en el texto\n",
    "        instancias de cada patrón y los muestra por la consola\n",
    "        Cada elemento de l_pat es una tupla con un patrón y su descripción\n",
    "    \"\"\"\n",
    "    for pat, desc in l_pat:\n",
    "        print(f\"'{pat}' ({desc})\\n\")\n",
    "        print(f\"\\t{t!r}\")\n",
    "        for match in re.finditer(pat, t):\n",
    "            s = match.start()\n",
    "            e = match.end()\n",
    "            substr = t[s:e]\n",
    "            prefix = ' ' * s\n",
    "            print(f\"\\t{prefix}{substr!r}\")\n",
    "        print()\n",
    "    return\n",
    "\n",
    "# Ejemplo de aplicación\n",
    "if __name__ == '__main__':\n",
    "    texto = 'abbaaabbbbaaaaa'\n",
    "    lista_patrones = [('ab+', \"'a' seguida de una o más 'b'\"),\n",
    "                      ('ba+', \"'b' seguida de una o más 'a'\")]\n",
    "    test_pat(texto, lista_patrones)"
   ]
  },
  {
   "cell_type": "markdown",
   "metadata": {},
   "source": [
    "### Repeticiones.\n",
    "\n",
    "Hay 5 formas de expresar la repetición de elementos dentro de un patrón:\n",
    "\n",
    "- `*`: Un patrón seguido del metacarácter `*` quiere decir que puede aparecer cero o más veces\n",
    "- `+`: Un patrón seguido del metacarácter `+` quiere decir que puede aparecer una o más veces\n",
    "- `?`: Un patrón seguido del metacarácter `?` quiere decir que puede aparecer una vez o ninguna\n",
    "- `{m}`: Un patrón seguido de la secuencia `{m}` quiere decir que tiene que aparecer exactamente `m` veces\n",
    "- `{m,n}`: Un patrón seguido de la secuencia `{m,n}` quiere decir que puede aparecer entre `m` y `n` veces (m<n); si no se suministra el segundo elemento (es decir, dando la secuencia `{m,}`), quiere decir que el patrón tiene que aparecer `m` o más veces\n",
    "\n",
    "Veamos algunos ejemplos:"
   ]
  },
  {
   "cell_type": "code",
   "execution_count": 6,
   "metadata": {},
   "outputs": [
    {
     "name": "stdout",
     "output_type": "stream",
     "text": [
      "'ab*' (a seguida de cero o más b)\n",
      "\n",
      "\t'abbaabbbba'\n",
      "\t'abb'\n",
      "\t   'a'\n",
      "\t    'abbbb'\n",
      "\t         'a'\n",
      "\n",
      "'ab+' (a seguida de una o más b)\n",
      "\n",
      "\t'abbaabbbba'\n",
      "\t'abb'\n",
      "\t    'abbbb'\n",
      "\n",
      "'ab?' (a seguida de una o cero b)\n",
      "\n",
      "\t'abbaabbbba'\n",
      "\t'ab'\n",
      "\t   'a'\n",
      "\t    'ab'\n",
      "\t         'a'\n",
      "\n",
      "'ab{3}' (a seguida de tres b)\n",
      "\n",
      "\t'abbaabbbba'\n",
      "\t    'abbb'\n",
      "\n",
      "'ab{2,4}' (a seguida de entre dos y cuatro b)\n",
      "\n",
      "\t'abbaabbbba'\n",
      "\t'abb'\n",
      "\t    'abbbb'\n",
      "\n"
     ]
    }
   ],
   "source": [
    "test_pat('abbaabbbba',\n",
    "         [('ab*', 'a seguida de cero o más b'),\n",
    "          ('ab+', 'a seguida de una o más b'),\n",
    "          ('ab?', 'a seguida de una o cero b'),\n",
    "          ('ab{3}', 'a seguida de tres b'),\n",
    "          ('ab{2,4}', 'a seguida de entre dos y cuatro b')],\n",
    ")"
   ]
  },
  {
   "cell_type": "markdown",
   "metadata": {},
   "source": [
    "Obsérvese que, al procesar una repetición, el módulo `re` consume tantos símbolos como sea posible de forma que encaje el patrón correspondiente. Este comportamiento **voraz** puede resultar en un número pequeño de instancias detectadas o en que las instancias detectadas contengan más texto del que se pretendía. El comportamiento voraz puede desactivarse mediante el metacarácter `?` a continuación de la instrucción de repetición. Esto hace que cada coincidencia contenga el *mínimo número de símbolos* para que encaje el patrón correspondiente. Veamos cómo cambia la salida al desactivar el comportamiento voraz de las repeticiones en el ejemplo anterior:"
   ]
  },
  {
   "cell_type": "code",
   "execution_count": 7,
   "metadata": {},
   "outputs": [
    {
     "name": "stdout",
     "output_type": "stream",
     "text": [
      "'ab*?' (a seguida de cero o más b)\n",
      "\n",
      "\t'abbaabbbba'\n",
      "\t'a'\n",
      "\t   'a'\n",
      "\t    'a'\n",
      "\t         'a'\n",
      "\n",
      "'ab+?' (a seguida de una o más b)\n",
      "\n",
      "\t'abbaabbbba'\n",
      "\t'ab'\n",
      "\t    'ab'\n",
      "\n",
      "'ab??' (a seguida de una o cero b)\n",
      "\n",
      "\t'abbaabbbba'\n",
      "\t'a'\n",
      "\t   'a'\n",
      "\t    'a'\n",
      "\t         'a'\n",
      "\n",
      "'ab{3}?' (a seguida de tres b)\n",
      "\n",
      "\t'abbaabbbba'\n",
      "\t    'abbb'\n",
      "\n",
      "'ab{2,4}?' (a seguida de entre dos y cuatro b)\n",
      "\n",
      "\t'abbaabbbba'\n",
      "\t'abb'\n",
      "\t    'abb'\n",
      "\n"
     ]
    }
   ],
   "source": [
    "test_pat('abbaabbbba',\n",
    "         [('ab*?', 'a seguida de cero o más b'),\n",
    "          ('ab+?', 'a seguida de una o más b'),\n",
    "          ('ab??', 'a seguida de una o cero b'),\n",
    "          ('ab{3}?', 'a seguida de tres b'),\n",
    "          ('ab{2,4}?', 'a seguida de entre dos y cuatro b')],\n",
    ")"
   ]
  },
  {
   "cell_type": "markdown",
   "metadata": {},
   "source": [
    "Nótese cómo, al desactivar el comportamiento voraz, los patrones que permiten cero ocurrencias de la 'b' al final ('ab*?', 'ab??') detectan instancias que no contienen ninguna 'b' al final."
   ]
  },
  {
   "cell_type": "markdown",
   "metadata": {},
   "source": [
    "### Conjuntos de caracteres.\n",
    "\n",
    "Un *conjunto de caracteres* se utiliza cuando se desea que cualquiera de dichos caracteres sea admitido en una determinada posición de un patrón. Los conjuntos de caracteres se definen mediante el uso de corchetes. Por ejemplo, la expresión `[abc]` encaja con cualquiera de los tres caracteres consignados entre corchetes. Veámoslo con un ejemplo:"
   ]
  },
  {
   "cell_type": "code",
   "execution_count": 8,
   "metadata": {},
   "outputs": [
    {
     "name": "stdout",
     "output_type": "stream",
     "text": [
      "'[ab]' (una a o una b)\n",
      "\n",
      "\t'abbaabbba'\n",
      "\t'a'\n",
      "\t 'b'\n",
      "\t  'b'\n",
      "\t   'a'\n",
      "\t    'a'\n",
      "\t     'b'\n",
      "\t      'b'\n",
      "\t       'b'\n",
      "\t        'a'\n",
      "\n",
      "'a[ab]+' (una a seguida de una o más ocurrencias de a o b)\n",
      "\n",
      "\t'abbaabbba'\n",
      "\t'abbaabbba'\n",
      "\n",
      "'a[ab]+?' (una a seguida de una o más ocurrencias de a o b, no voraz)\n",
      "\n",
      "\t'abbaabbba'\n",
      "\t'ab'\n",
      "\t   'aa'\n",
      "\n"
     ]
    }
   ],
   "source": [
    "test_pat('abbaabbba',\n",
    "         [('[ab]', 'una a o una b'),\n",
    "          ('a[ab]+', 'una a seguida de una o más ocurrencias de a o b'),\n",
    "          ('a[ab]+?', 'una a seguida de una o más ocurrencias de a o b, no voraz')])"
   ]
  },
  {
   "cell_type": "markdown",
   "metadata": {},
   "source": [
    "Los conjuntos de caracteres también pueden utilizarse para *excluir* determinados caracteres en una posición del patrón, es decir, para *admitir cualquier carácter salvo los consignados en el conjunto*. Esto se consigue colocando un acento circunflejo (`^`) al principio del conjunto, es decir, mediante una expresión de la forma `[^ ... ]`. En el siguiente ejemplo, tratamos de detectar cualquier secuencia de caracteres que no contenga ni espacios en blanco, ni puntos ni comas:"
   ]
  },
  {
   "cell_type": "code",
   "execution_count": 9,
   "metadata": {},
   "outputs": [
    {
     "name": "stdout",
     "output_type": "stream",
     "text": [
      "'[^,. ]+' (secuencia sin puntos, comas ni espacios en blanco)\n",
      "\n",
      "\t'Esto, por exigencias de guión, es un texto con puntuación.'\n",
      "\t'Esto'\n",
      "\t      'por'\n",
      "\t          'exigencias'\n",
      "\t                     'de'\n",
      "\t                        'guión'\n",
      "\t                               'es'\n",
      "\t                                  'un'\n",
      "\t                                     'texto'\n",
      "\t                                           'con'\n",
      "\t                                               'puntuación'\n",
      "\n"
     ]
    }
   ],
   "source": [
    "test_pat('Esto, por exigencias de guión, es un texto con puntuación.',\n",
    "         [('[^,. ]+', 'secuencia sin puntos, comas ni espacios en blanco')])"
   ]
  },
  {
   "cell_type": "markdown",
   "metadata": {},
   "source": [
    "Es posible especificar *rangos de caracteres* para así considerar todos los caracteres incluidos entre los caracteres primero y último de dicho rango. En el siguiente ejemplo, los rangos `a-z` y `A-Z` se refieren a las letras minúsculas y mayúsculas de la tabla ASCII, respectivamente. Nótese que es posible combinar distintos rangos con caracteres sencillos dentro de un mismo conjunto de caracteres:"
   ]
  },
  {
   "cell_type": "code",
   "execution_count": 10,
   "metadata": {},
   "outputs": [
    {
     "name": "stdout",
     "output_type": "stream",
     "text": [
      "'[a-záéíóúü]+' (secuencia de letras minúsculas)\n",
      "\n",
      "\t'Esto, por exigencias de guión, es un texto con puntuación.'\n",
      "\t 'sto'\n",
      "\t      'por'\n",
      "\t          'exigencias'\n",
      "\t                     'de'\n",
      "\t                        'guión'\n",
      "\t                               'es'\n",
      "\t                                  'un'\n",
      "\t                                     'texto'\n",
      "\t                                           'con'\n",
      "\t                                               'puntuación'\n",
      "\n",
      "'[A-ZÁÉÍÓÚÜ]+' (secuencia de letras mayúsculas)\n",
      "\n",
      "\t'Esto, por exigencias de guión, es un texto con puntuación.'\n",
      "\t'E'\n",
      "\n",
      "'[a-záéíóúüA-ZÁÉÍÓÚÜ]+' (secuencia de letras (mayúsculas o minúsculas))\n",
      "\n",
      "\t'Esto, por exigencias de guión, es un texto con puntuación.'\n",
      "\t'Esto'\n",
      "\t      'por'\n",
      "\t          'exigencias'\n",
      "\t                     'de'\n",
      "\t                        'guión'\n",
      "\t                               'es'\n",
      "\t                                  'un'\n",
      "\t                                     'texto'\n",
      "\t                                           'con'\n",
      "\t                                               'puntuación'\n",
      "\n",
      "'[A-ZÁÉÍÓÚÜ][a-záéíóúü]+' (una letra mayúscula seguida por una o más letras minúsculas)\n",
      "\n",
      "\t'Esto, por exigencias de guión, es un texto con puntuación.'\n",
      "\t'Esto'\n",
      "\n"
     ]
    }
   ],
   "source": [
    "test_pat('Esto, por exigencias de guión, es un texto con puntuación.',\n",
    "         [('[a-záéíóúü]+', 'secuencia de letras minúsculas'),\n",
    "          ('[A-ZÁÉÍÓÚÜ]+', 'secuencia de letras mayúsculas'),\n",
    "          ('[a-záéíóúüA-ZÁÉÍÓÚÜ]+', 'secuencia de letras (mayúsculas o minúsculas)'),\n",
    "          ('[A-ZÁÉÍÓÚÜ][a-záéíóúü]+', 'una letra mayúscula seguida por una o más letras minúsculas')])"
   ]
  },
  {
   "cell_type": "markdown",
   "metadata": {},
   "source": [
    "Como un caso especial de conjunto de caracteres, el metacarácter punto (`.`) representa una sola aparición de cualquier carácter. En combinación con los metacaracteres de repetición, puede resultar muy útil, con o sin procesamiento voraz."
   ]
  },
  {
   "cell_type": "code",
   "execution_count": 11,
   "metadata": {},
   "outputs": [
    {
     "name": "stdout",
     "output_type": "stream",
     "text": [
      "'a.' (a seguida de un carácter cualquiera)\n",
      "\n",
      "\t'abbaabbba'\n",
      "\t'ab'\n",
      "\t   'aa'\n",
      "\n",
      "'b.' (b seguida de un carácter cualquiera)\n",
      "\n",
      "\t'abbaabbba'\n",
      "\t 'bb'\n",
      "\t     'bb'\n",
      "\t       'ba'\n",
      "\n",
      "'a.*b' (a seguida de cualquier secuencia de caracteres acabada en b, lo más larga posible)\n",
      "\n",
      "\t'abbaabbba'\n",
      "\t'abbaabbb'\n",
      "\n",
      "'a.*?b' (a seguida de cualquier secuencia de caracteres acabada en b, lo más corta posible)\n",
      "\n",
      "\t'abbaabbba'\n",
      "\t'ab'\n",
      "\t   'aab'\n",
      "\n"
     ]
    }
   ],
   "source": [
    "test_pat('abbaabbba',\n",
    "         [('a.', 'a seguida de un carácter cualquiera'),\n",
    "          ('b.', 'b seguida de un carácter cualquiera'),\n",
    "          ('a.*b', 'a seguida de cualquier secuencia de caracteres acabada en b, lo más larga posible'),\n",
    "          ('a.*?b', 'a seguida de cualquier secuencia de caracteres acabada en b, lo más corta posible')])"
   ]
  },
  {
   "cell_type": "markdown",
   "metadata": {},
   "source": [
    "### Conjuntos predefinidos de caracteres.\n",
    "\n",
    "En la tabla siguiente se muestran los códigos de escape (letras precedidas del símbolo *backslash*: `\\`) reconocidos por el módulo `re`, que representan distintos conjuntos de caracteres:\n",
    "\n",
    "Código | Significado\n",
    ":-- | :--\n",
    "\\\\d | Dígitos\n",
    "\\\\D | No dígitos\n",
    "\\\\s | Espacios (tabulador, espacio, salto de línea, etc.)\n",
    "\\\\S | No espacios\n",
    "\\\\w | Caracteres alfanuméricos\n",
    "\\\\W | Caracteres no alfanuméricos"
   ]
  },
  {
   "cell_type": "markdown",
   "metadata": {},
   "source": [
    "Los símbolos *backslash* (`\\`) deben ser precedidos por otro backslash para ser reconocidos como tales en Python. Para evitarlo, se recomienda usar las llamadas *raw strings*, poniendo la letra `r` por delante de la propia cadena. Así, por ejemplo, `r'\\d+'` representa una cadena formada por uno o más dígitos. Veamos algunos ejemplos:"
   ]
  },
  {
   "cell_type": "code",
   "execution_count": 12,
   "metadata": {},
   "outputs": [
    {
     "name": "stdout",
     "output_type": "stream",
     "text": [
      "'\\d+' (una secuencia de dígitos)\n",
      "\n",
      "\t'(Un primer ejemplo) - Ejemplo #1:'\n",
      "\t                               '1'\n",
      "\n",
      "'\\D+' (una secuencia de no dígitos)\n",
      "\n",
      "\t'(Un primer ejemplo) - Ejemplo #1:'\n",
      "\t'(Un primer ejemplo) - Ejemplo #'\n",
      "\t                                ':'\n",
      "\n",
      "'\\s+' (una secuencia de espacios)\n",
      "\n",
      "\t'(Un primer ejemplo) - Ejemplo #1:'\n",
      "\t   ' '\n",
      "\t          ' '\n",
      "\t                   ' '\n",
      "\t                     ' '\n",
      "\t                             ' '\n",
      "\n",
      "'\\S+' (una secuencia de no espacios)\n",
      "\n",
      "\t'(Un primer ejemplo) - Ejemplo #1:'\n",
      "\t'(Un'\n",
      "\t    'primer'\n",
      "\t           'ejemplo)'\n",
      "\t                    '-'\n",
      "\t                      'Ejemplo'\n",
      "\t                              '#1:'\n",
      "\n",
      "'\\w+' (una secuencia de caracteres alfanuméricos)\n",
      "\n",
      "\t'(Un primer ejemplo) - Ejemplo #1:'\n",
      "\t 'Un'\n",
      "\t    'primer'\n",
      "\t           'ejemplo'\n",
      "\t                      'Ejemplo'\n",
      "\t                               '1'\n",
      "\n",
      "'\\W+' (una secuencia de caracteres no alfanuméricos)\n",
      "\n",
      "\t'(Un primer ejemplo) - Ejemplo #1:'\n",
      "\t'('\n",
      "\t   ' '\n",
      "\t          ' '\n",
      "\t                  ') - '\n",
      "\t                             ' #'\n",
      "\t                                ':'\n",
      "\n"
     ]
    }
   ],
   "source": [
    "test_pat('(Un primer ejemplo) - Ejemplo #1:',\n",
    "         [(r'\\d+', 'una secuencia de dígitos'),\n",
    "          (r'\\D+', 'una secuencia de no dígitos'),\n",
    "          (r'\\s+', 'una secuencia de espacios'),\n",
    "          (r'\\S+', 'una secuencia de no espacios'),\n",
    "          (r'\\w+', 'una secuencia de caracteres alfanuméricos'),\n",
    "          (r'\\W+', 'una secuencia de caracteres no alfanuméricos')])"
   ]
  },
  {
   "cell_type": "markdown",
   "metadata": {},
   "source": [
    "### Localización relativa de patrones.\n",
    "\n",
    "Además de describir el contenido de un patrón, es posible especificar también la localización relativa donde se desea encontrar dicho patrón (al principio de una palabra, al final de una línea, etc.). A continuación se muestran los códigos de localización reconocidos por el módulo `re`:\n",
    "\n",
    "Código | Significado\n",
    ":-- | :--\n",
    "^ | Inicio de cadena o de línea\n",
    "$ | Final de cadena o de línea\n",
    "\\\\A | Inicio de cadena\n",
    "\\\\Z | Final de cadena\n",
    "\\\\b | Cadena vacía situada al inicio o final de una palabra\n",
    "\\\\B | Cadena vacía no situada al inicio o final de una palabra"
   ]
  },
  {
   "cell_type": "markdown",
   "metadata": {},
   "source": [
    "En el ejemplo siguiente, los patrones especificados para detectar palabras al inicio o al final de una cadena son diferentes porque una palabra que aparezca al final de la cadena irá seguida de un signo de puntuación. Si utilizáramos el patrón `r'\\w+$'`, no conseguiríamos detectar dicha palabra, porque el signo de puntuación final no es un carácter alfanumérico."
   ]
  },
  {
   "cell_type": "code",
   "execution_count": 13,
   "metadata": {},
   "outputs": [
    {
     "name": "stdout",
     "output_type": "stream",
     "text": [
      "'^\\w+' (palabra al inicio de la cadena)\n",
      "\n",
      "\t'Esto, por exigencias de guión, es un texto con puntuación.'\n",
      "\t'Esto'\n",
      "\n",
      "'\\A\\w+' (palabra al inicio de la cadena)\n",
      "\n",
      "\t'Esto, por exigencias de guión, es un texto con puntuación.'\n",
      "\t'Esto'\n",
      "\n",
      "'\\w+\\S*$' (palabra próxima al final de la cadena)\n",
      "\n",
      "\t'Esto, por exigencias de guión, es un texto con puntuación.'\n",
      "\t                                               'puntuación.'\n",
      "\n",
      "'\\w+\\S*\\Z' (palabra próxima al final de la cadena)\n",
      "\n",
      "\t'Esto, por exigencias de guión, es un texto con puntuación.'\n",
      "\t                                               'puntuación.'\n",
      "\n",
      "'\\w*t\\w*' (palabra que contiene la letra t)\n",
      "\n",
      "\t'Esto, por exigencias de guión, es un texto con puntuación.'\n",
      "\t'Esto'\n",
      "\t                                     'texto'\n",
      "\t                                               'puntuación'\n",
      "\n",
      "'\\bt\\w+' (letra t al inicio de una palabra)\n",
      "\n",
      "\t'Esto, por exigencias de guión, es un texto con puntuación.'\n",
      "\t                                     'texto'\n",
      "\n",
      "'\\w+s\\b' (letra s al final de una palabra)\n",
      "\n",
      "\t'Esto, por exigencias de guión, es un texto con puntuación.'\n",
      "\t          'exigencias'\n",
      "\t                               'es'\n",
      "\n",
      "'\\Bn\\B' (letra n, ni al principio ni al final de una palabra)\n",
      "\n",
      "\t'Esto, por exigencias de guión, es un texto con puntuación.'\n",
      "\t               'n'\n",
      "\t                                                 'n'\n",
      "\n"
     ]
    }
   ],
   "source": [
    "test_pat('Esto, por exigencias de guión, es un texto con puntuación.',\n",
    "         [(r'^\\w+', 'palabra al inicio de la cadena'),\n",
    "          (r'\\A\\w+', 'palabra al inicio de la cadena'),\n",
    "          (r'\\w+\\S*$', 'palabra próxima al final de la cadena'),\n",
    "          (r'\\w+\\S*\\Z', 'palabra próxima al final de la cadena'),\n",
    "          (r'\\w*t\\w*', 'palabra que contiene la letra t'),\n",
    "          (r'\\bt\\w+', 'letra t al inicio de una palabra'),\n",
    "          (r'\\w+s\\b', 'letra s al final de una palabra'),\n",
    "          (r'\\Bn\\B', 'letra n, ni al principio ni al final de una palabra')],\n",
    ")"
   ]
  },
  {
   "cell_type": "markdown",
   "metadata": {},
   "source": [
    "## Búsqueda de patrones restringida\n",
    "\n",
    "A veces interesa encontrar instancias de los patrones sólo en regiones determinadas del texto. Para conseguirlo podemos indicar al módulo `re` que limite la búsqueda a dichas regiones. Por ejempo, si el patrón debe aparecer al inicio de la cadena, utilizar el método `match()` en lugar de `search()` localizará la búsqueda sin necesidad de incluir dicha localización en el patrón:"
   ]
  },
  {
   "cell_type": "code",
   "execution_count": 14,
   "metadata": {},
   "outputs": [
    {
     "name": "stdout",
     "output_type": "stream",
     "text": [
      "Texto: 'Esto, por exigencias de guión, es un texto con puntuación.'\n",
      "Patrón: 'es'\n",
      "Resultado de la búsqueda con match(): None\n",
      "Resultado de la búsqueda con search(): <re.Match object; span=(31, 33), match='es'>\n"
     ]
    }
   ],
   "source": [
    "t = 'Esto, por exigencias de guión, es un texto con puntuación.'\n",
    "pat = 'es'\n",
    "\n",
    "print(f'Texto: {t!r}')\n",
    "print(f'Patrón: {pat!r}')\n",
    "\n",
    "m = re.match(pat, t)\n",
    "print(f'Resultado de la búsqueda con match(): {m}')\n",
    "\n",
    "s = re.search(pat, t)\n",
    "print(f'Resultado de la búsqueda con search(): {s}')"
   ]
  },
  {
   "cell_type": "markdown",
   "metadata": {},
   "source": [
    "Como el texto literal 'es' no aparece al inicio de la cadena, el método `match()` no lo encuentra. Sin embargo, el método `search()` recorre toda la cadena para buscar instancias del patrón y localiza la cadena 'es' en la posición 31.\n",
    "\n",
    "En el caso del método `fullmatch()`, la cadena completa debe encajar con el patrón. En el siguiente ejemplo, la llamada a `search()` demuestra que el patrón 'es' aparece dentro de la cadena pero, como no la abarca por completo, el método `fullmatch()` retorna `None`:"
   ]
  },
  {
   "cell_type": "code",
   "execution_count": 15,
   "metadata": {},
   "outputs": [
    {
     "name": "stdout",
     "output_type": "stream",
     "text": [
      "Texto: 'Esto, por exigencias de guión, es un texto con puntuación.'\n",
      "Patrón: 'es'\n",
      "Resultado de la búsqueda con search(): <re.Match object; span=(31, 33), match='es'>\n",
      "Resultado de la búsqueda con fullmatch(): None\n"
     ]
    }
   ],
   "source": [
    "t = 'Esto, por exigencias de guión, es un texto con puntuación.'\n",
    "pat = 'es'\n",
    "\n",
    "print(f'Texto: {t!r}')\n",
    "print(f'Patrón: {pat!r}')\n",
    "\n",
    "s = re.search(pat, t)\n",
    "print(f'Resultado de la búsqueda con search(): {s}')\n",
    "\n",
    "m = re.fullmatch(pat, t)\n",
    "print(f'Resultado de la búsqueda con fullmatch(): {m}')"
   ]
  },
  {
   "cell_type": "markdown",
   "metadata": {},
   "source": [
    "El método `search()`, aplicado a una expresión regular compilada, admite los argumentos `start` y `end` que limitan la búsqueda al tramo correspondinete de la cadena. En el siguiente ejemplo se implementa una versión poco eficiente del método `iterall()`, que repite iterativamente la búsqueda a partir del final de la última instancia del patrón encontrada, hasta llegar al final de la cadena:"
   ]
  },
  {
   "cell_type": "code",
   "execution_count": 16,
   "metadata": {},
   "outputs": [
    {
     "name": "stdout",
     "output_type": "stream",
     "text": [
      "Texto: 'Dime, de verdad, qué sabes de ella.'\n",
      "\n",
      "   6 :  7 = 'de'\n",
      "  27 : 28 = 'de'\n"
     ]
    }
   ],
   "source": [
    "t = 'Dime, de verdad, qué sabes de ella.'\n",
    "pat = re.compile(r'\\b\\w*de\\w*\\b') # detecta la palabra 'de'\n",
    "\n",
    "print(f'Texto: {t!r}\\n')\n",
    "\n",
    "pos = 0\n",
    "while True:\n",
    "    match = pat.search(t, pos)\n",
    "    if not match:\n",
    "        break\n",
    "    s = match.start()\n",
    "    e = match.end()\n",
    "    print(f'  {s:>2d} : {e-1:>2d} = {t[s:e]!r}')\n",
    "    pos = e # posición de inicio de la siguiente búsqueda"
   ]
  },
  {
   "cell_type": "markdown",
   "metadata": {},
   "source": [
    "## Agrupamiento de patrones.\n",
    "\n",
    "La potencia de las expresiones regulares proviene de su capacidad para encontrar instancias de patrones en una cadena. Agrupando partes de los patrones es posible realizar análisis sofisticados de las cadenas de entrada para ver si cumplen determinadas especificaciones. Esto es lo que se conoce como **parsing**. Para que el módulo `re` reconozca un grupo, basta poner un patrón entre paréntesis: `(patrón)`. Cualquier expresión regular puede constituir un grupo sin más que ponerla entre paréntesis, lo cual permite utilizarla como parte de una expresión regular más grande. Nótese que podemos aplicar los operadores de repetición a un grupo, y de esa manera detectar cualquier sucesión de símbolos que repita el patrón especificado entre paréntesis. Veamos unos ejemplos:"
   ]
  },
  {
   "cell_type": "code",
   "execution_count": 17,
   "metadata": {},
   "outputs": [
    {
     "name": "stdout",
     "output_type": "stream",
     "text": [
      "'a(ab)' (a seguida del literal \"ab\")\n",
      "\n",
      "\t'abbaaabbbbaaaaa'\n",
      "\t    'aab'\n",
      "\n",
      "'a(a*b*)' (a seguida de 0-n repeticiones de a y 0-n repeticiones de b)\n",
      "\n",
      "\t'abbaaabbbbaaaaa'\n",
      "\t'abb'\n",
      "\t   'aaabbbb'\n",
      "\t          'aaaaa'\n",
      "\n",
      "'a(ab)*' (a seguida de 0-n repeticiones del literal \"ab\")\n",
      "\n",
      "\t'abbaaabbbbaaaaa'\n",
      "\t'a'\n",
      "\t   'a'\n",
      "\t    'aab'\n",
      "\t          'a'\n",
      "\t           'a'\n",
      "\t            'a'\n",
      "\t             'a'\n",
      "\t              'a'\n",
      "\n",
      "'a(ab)+' (a seguida de 1-n repeticiones del literal \"ab\")\n",
      "\n",
      "\t'abbaaabbbbaaaaa'\n",
      "\t    'aab'\n",
      "\n"
     ]
    }
   ],
   "source": [
    "test_pat('abbaaabbbbaaaaa',\n",
    "         [('a(ab)', 'a seguida del literal \"ab\"'),\n",
    "          ('a(a*b*)', 'a seguida de 0-n repeticiones de a y 0-n repeticiones de b'),\n",
    "          ('a(ab)*', 'a seguida de 0-n repeticiones del literal \"ab\"'),\n",
    "          ('a(ab)+', 'a seguida de 1-n repeticiones del literal \"ab\"')])"
   ]
  },
  {
   "cell_type": "markdown",
   "metadata": {},
   "source": [
    "El método `groups()` aplicado al objeto de la clase `Match` retornado por `search()` retorna la secuencia de subcadenas que encajan con los grupos definidos dentro del patrón, en el mismo orden en que son detectadas. Veamos un ejemplo:"
   ]
  },
  {
   "cell_type": "code",
   "execution_count": 18,
   "metadata": {},
   "outputs": [
    {
     "name": "stdout",
     "output_type": "stream",
     "text": [
      "Texto: 'Dime, de verdad, qué sabes de ella.'\n",
      "\n",
      "'^(\\w+)' (palabra al inicio de la cadena)\n",
      "\n",
      "\t('Dime',)\n",
      "\n",
      "'(\\w+)\\S*$' (palabra al final de la cadena, opcionalmente con puntuación)\n",
      "\n",
      "\t('ella',)\n",
      "\n",
      "'(\\bd\\w+)\\W+(\\w+)' (palabra empezando por d, seguida de otra palabra)\n",
      "\n",
      "\t('de', 'verdad')\n",
      "\n",
      "'(\\w+s)\\b' (palabra que termina en s)\n",
      "\n",
      "\t('sabes',)\n",
      "\n"
     ]
    }
   ],
   "source": [
    "t = 'Dime, de verdad, qué sabes de ella.'\n",
    "\n",
    "print(f'Texto: {t!r}\\n')\n",
    "\n",
    "pat = [(r'^(\\w+)', 'palabra al inicio de la cadena'),\n",
    "       (r'(\\w+)\\S*$', 'palabra al final de la cadena, opcionalmente con puntuación'),\n",
    "       (r'(\\bd\\w+)\\W+(\\w+)', 'palabra empezando por d, seguida de otra palabra'),\n",
    "       (r'(\\w+s)\\b', 'palabra que termina en s')]\n",
    "\n",
    "for p, desc in pat:\n",
    "    regex = re.compile(p)\n",
    "    match = regex.search(t)\n",
    "    print(f\"'{p}' ({desc})\\n\")\n",
    "    print(f'\\t{match.groups()}\\n')"
   ]
  },
  {
   "cell_type": "markdown",
   "metadata": {},
   "source": [
    "El método `group()` permite encontrar la subcadena que encaja con un grupo en particular. Esto puede ser útil cuando no todas las subcadenas que encajan con los grupos son relevantes en la búsqueda; esto sucede, por ejemplo, cuando algunos de los grupos definen el contexto y solo uno de los grupos es el objetivo real de la búsqueda. Veamos un ejemplo:"
   ]
  },
  {
   "cell_type": "code",
   "execution_count": 19,
   "metadata": {},
   "outputs": [
    {
     "name": "stdout",
     "output_type": "stream",
     "text": [
      "Texto: 'Dime, de verdad, qué sabes de ella.'\n",
      "\n",
      "Patrón:  (\\bd\\w+)\\W+(\\w+)\n",
      "Detección completa: de verdad\n",
      "Palabra que empieza por \"d\": de\n",
      "Palabra que va después: verdad\n"
     ]
    }
   ],
   "source": [
    "t = 'Dime, de verdad, qué sabes de ella.'\n",
    "\n",
    "print(f'Texto: {t!r}\\n')\n",
    "\n",
    "# Palabra que empieza por 'd', seguida de otra palabra\n",
    "regex = re.compile(r'(\\bd\\w+)\\W+(\\w+)')\n",
    "print(f'Patrón:  {regex.pattern}')\n",
    "\n",
    "match = regex.search(t)\n",
    "\n",
    "print(f'Detección completa: {match.group(0)}')\n",
    "print(f'Palabra que empieza por \"d\": {match.group(1)}')\n",
    "print(f'Palabra que va después: {match.group(2)}')"
   ]
  },
  {
   "cell_type": "markdown",
   "metadata": {},
   "source": [
    "Python permite dar nombre a los grupos, lo cual facilita el acceso posterior a dichos grupos y permite modificarlos sin necesidad de tocar el código que los utiliza. La sintaxis es como sigue: `(?P<nombre>patrón)`. El método `groupdict()` permite recuperar en un diccionario las subcadeanas que encajan con cada nombre de grupo. Veámoslo con un ejemplo:"
   ]
  },
  {
   "cell_type": "code",
   "execution_count": 20,
   "metadata": {},
   "outputs": [
    {
     "name": "stdout",
     "output_type": "stream",
     "text": [
      "Texto: 'Dime, de verdad, qué sabes de ella.'\n",
      "\n",
      "'^(?P<first_word>\\w+)'\n",
      "  ('Dime',)\n",
      "  {'first_word': 'Dime'}\n",
      "\n",
      "'(?P<last_word>\\w+)\\S*$'\n",
      "  ('ella',)\n",
      "  {'last_word': 'ella'}\n",
      "\n",
      "'(?P<d_word>\\bd\\w+)\\W+(?P<other_word>\\w+)'\n",
      "  ('de', 'verdad')\n",
      "  {'d_word': 'de', 'other_word': 'verdad'}\n",
      "\n",
      "'(?P<ends_with_s>\\w+s)\\b'\n",
      "  ('sabes',)\n",
      "  {'ends_with_s': 'sabes'}\n",
      "\n"
     ]
    }
   ],
   "source": [
    "t = 'Dime, de verdad, qué sabes de ella.'\n",
    "\n",
    "print(f'Texto: {t!r}\\n')\n",
    "\n",
    "pat = [ r'^(?P<first_word>\\w+)',\n",
    "        r'(?P<last_word>\\w+)\\S*$',\n",
    "        r'(?P<d_word>\\bd\\w+)\\W+(?P<other_word>\\w+)',\n",
    "        r'(?P<ends_with_s>\\w+s)\\b']\n",
    "\n",
    "for p in pat:\n",
    "    regex = re.compile(p)\n",
    "    match = regex.search(t)\n",
    "    print(f\"'{p}'\")\n",
    "    print(f'  {match.groups()}')\n",
    "    print(f'  {match.groupdict()}\\n')"
   ]
  },
  {
   "cell_type": "markdown",
   "metadata": {},
   "source": [
    "A continuación se muestra una nueva función `test_pat2()`, basada en `test_pat()`, pero que, para cada instancia encontrada del patrón, añade las subcadenas que encajan con cada uno de los grupos de dicho patrón, en orden de aparición. Con esta función, los ejemplos que mostraremos después serán más fáciles de seguir."
   ]
  },
  {
   "cell_type": "code",
   "execution_count": 21,
   "metadata": {},
   "outputs": [],
   "source": [
    "def test_pat2(t, l_pat):\n",
    "    \"\"\" Dado un texto t y una lista de patrones l_pat, busca en el texto\n",
    "        instancias de cada patrón y los muestra por la consola\n",
    "        Cada elemento de l_pat es una tupla con un patrón y su descripción\n",
    "    \"\"\"\n",
    "    for pat, desc in l_pat:\n",
    "        print(f\"'{pat}' ({desc})\\n\")\n",
    "        print(f\"\\t{t!r}\")\n",
    "        for match in re.finditer(pat, t):\n",
    "            s = match.start()\n",
    "            e = match.end()\n",
    "            prefix = ' ' * s\n",
    "            print(f\"\\t{prefix}{t[s:e]!r}{' '*(len(t)-e)}\", end=' ')\n",
    "            print(match.groups())\n",
    "            if match.groupdict():\n",
    "                print(f'{\" \"*(len(t)-s)}{match.groupdict()}')\n",
    "        print()\n",
    "    return"
   ]
  },
  {
   "cell_type": "markdown",
   "metadata": {},
   "source": [
    "Puesto que un grupo es en sí mismo una expresión regular, unos grupos pueden anidarse dentro de otros para construir expresiones realmente complejas. En el siguiente ejemplo, vemos lo que sucede al anidar unos grupos dentro de otros (nótese que al recorrer los grupos para mostrar las subcadenas asociadas, primero aparece el grupo más general y después los grupos anidados dentro del primero, de izquierda a derecha):"
   ]
  },
  {
   "cell_type": "code",
   "execution_count": 22,
   "metadata": {},
   "outputs": [
    {
     "name": "stdout",
     "output_type": "stream",
     "text": [
      "'a((a*)(b*))' (a seguida de 0-n repeticiones de a y 0-n repeticiones de b)\n",
      "\n",
      "\t'abbaabbba'\n",
      "\t'abb'       ('bb', '', 'bb')\n",
      "\t   'aabbb'  ('abbb', 'a', 'bbb')\n",
      "\t        'a' ('', '', '')\n",
      "\n"
     ]
    }
   ],
   "source": [
    "test_pat2('abbaabbba',\n",
    "          [(r'a((a*)(b*))', 'a seguida de 0-n repeticiones de a y 0-n repeticiones de b')])"
   ]
  },
  {
   "cell_type": "markdown",
   "metadata": {},
   "source": [
    "Los grupos son útiles también para especificar una serie de patrones alternativos, mediante el metacarácter `|`, que indica que se busca una subcadena que encaje con cualquiera de los patrones enumerados. Sin embargo, hay que utilizarlo con cuidado. El siguiente ejemplo es ilustrativo:"
   ]
  },
  {
   "cell_type": "code",
   "execution_count": 23,
   "metadata": {},
   "outputs": [
    {
     "name": "stdout",
     "output_type": "stream",
     "text": [
      "'a((a+)|(b+))' (a seguida de una secuencia de 1-n a o una secuencia de 1-n b)\n",
      "\n",
      "\t'abbaabbba'\n",
      "\t'abb'       ('bb', None, 'bb')\n",
      "\t   'aa'     ('a', 'a', None)\n",
      "\n",
      "'a((a|b)+)' (a seguida de una secuencia de 1-n a o b)\n",
      "\n",
      "\t'abbaabbba'\n",
      "\t'abbaabbba' ('bbaabbba', 'a')\n",
      "\n"
     ]
    }
   ],
   "source": [
    "test_pat2('abbaabbba',\n",
    "          [(r'a((a+)|(b+))', 'a seguida de una secuencia de 1-n a o una secuencia de 1-n b'),\n",
    "           (r'a((a|b)+)', 'a seguida de una secuencia de 1-n a o b')])"
   ]
  },
  {
   "cell_type": "markdown",
   "metadata": {},
   "source": [
    "Cuando uno de los grupos alternativos no tiene subcadena asignada, pero el patrón completo sí, el método `groups()` le asigna el valor `None`. Por otra parte, en el último caso vemos la subcadena 'bbaabbba' asignada al grupo general '((a|b)+)' y a continuación la subcadena 'a' asignada al grupo '(a|b)' en último lugar.\n",
    "\n",
    "Derfinir un grupo con un sub-patrón puede ser útil incluso cuando la subcadena que encaja con dicho subpatrón no interesa que forme parte del resultado de la búsqueda. Este tipo de grupos se dicen *no capturados* (**non-capturing groups**) y suelen utilizarse para describir patrones repetitivos o alternativos dentro de un patrón más general. La sintaxis de un grupo no capturado es como sigue: `(?:patrón)`. Veamos un ejemplo:"
   ]
  },
  {
   "cell_type": "code",
   "execution_count": 24,
   "metadata": {},
   "outputs": [
    {
     "name": "stdout",
     "output_type": "stream",
     "text": [
      "'a((a+)|(b+))' (grupos anidados que se capturan)\n",
      "\n",
      "\t'abbaabbba'\n",
      "\t'abb'       ('bb', None, 'bb')\n",
      "\t   'aa'     ('a', 'a', None)\n",
      "\n",
      "'a((?:a+)|(?:b+))' (grupos anidados que no se capturan)\n",
      "\n",
      "\t'abbaabbba'\n",
      "\t'abb'       ('bb',)\n",
      "\t   'aa'     ('a',)\n",
      "\n"
     ]
    }
   ],
   "source": [
    "test_pat2('abbaabbba',\n",
    "          [(r'a((a+)|(b+))', 'grupos anidados que se capturan'),\n",
    "          (r'a((?:a+)|(?:b+))', 'grupos anidados que no se capturan')])"
   ]
  },
  {
   "cell_type": "markdown",
   "metadata": {},
   "source": [
    "Nótese que el método `groups()` sólo retorna las subcadenas asociadas a los grupos capturados. En el último caso, solo vemos la subcadena asociada al grupo general (capturado), el cual contiene dos grupos anidados no capturados."
   ]
  },
  {
   "cell_type": "markdown",
   "metadata": {},
   "source": [
    "## Opciones de búsqueda\n",
    "\n",
    "Los métodos `compile()`, `search()` y `match()`, además de otros métodos del módulo `re` que también aceptan patrones de búsqueda, pueden modificar su comportamiento por medio de unos parámetros especiales, conocidos como *flags*, que representan opciones de búsqueda  y pueden combinarse a través del operador OR a nivel de bit. A continuación se presentan algunas de estas opciones."
   ]
  },
  {
   "cell_type": "markdown",
   "metadata": {},
   "source": [
    "### Búsqueda independiente del tamaño del carácter: minúscula o mayúscula.\n",
    "\n",
    "El *flag* `re.IGNORECASE` hace que los caracteres literales y los rangos de caracteres que impliquen letras admitan tanto letras mayúsculas como minúsculas. Veamos un ejemplo:"
   ]
  },
  {
   "cell_type": "code",
   "execution_count": 25,
   "metadata": {},
   "outputs": [
    {
     "name": "stdout",
     "output_type": "stream",
     "text": [
      "Texto: 'Esto, por exigencias de guión, es un texto con puntuación.'\n",
      "Patrón: '\\bE\\w+'\n",
      "\n",
      "Teniendo en cuenta el tamaño del carácter:\n",
      "  'Esto'\n",
      "\n",
      "Sin tener en cuenta el tamaño del carácter:\n",
      "  'Esto'\n",
      "  'exigencias'\n",
      "  'es'\n"
     ]
    }
   ],
   "source": [
    "t = 'Esto, por exigencias de guión, es un texto con puntuación.'\n",
    "pat = r'\\bE\\w+'\n",
    "\n",
    "with_case = re.compile(pat)\n",
    "without_case = re.compile(pat, re.IGNORECASE)\n",
    "\n",
    "print(f'Texto: {t!r}')\n",
    "print(f\"Patrón: '{pat}'\")\n",
    "\n",
    "print('\\nTeniendo en cuenta el tamaño del carácter:')\n",
    "for match in with_case.findall(t):\n",
    "    print(f'  {match!r}')\n",
    "\n",
    "print('\\nSin tener en cuenta el tamaño del carácter:')\n",
    "for match in without_case.findall(t):\n",
    "    print(f'  {match!r}')"
   ]
  },
  {
   "cell_type": "markdown",
   "metadata": {},
   "source": [
    "### Entrada de texto con múltiples líneas.\n",
    "\n",
    "Hay dos *flags* que afectan a la forma en que son tratados los textos que incluyen múltiples líneas: `re.MULTILINE` y `re.DOTALL`. El primero controla cómo se procesan las instrucciones de localización en cadenas de caracteres que contienen saltos de línea (`\\n`). El flag `re.MULTILINE` activa el modo multilínea, bajo el cual las reglas de localización para `^` y `$` se aplican no sólo al inicio y final de la cadena, sino también al inicio y final de cada línea, respectivamente. Veamos un ejemplo:"
   ]
  },
  {
   "cell_type": "code",
   "execution_count": 26,
   "metadata": {},
   "outputs": [
    {
     "name": "stdout",
     "output_type": "stream",
     "text": [
      "Texto: 'Este texto ocupa la primera línea.\\nPero hay una segunda.\\nY una tercera.'\n",
      "Patrón: '(^\\w+)|(\\w+\\S*$)'\n",
      "\n",
      "Tratando la cadena completa como una sola línea:\n",
      "  ('Este', '')\n",
      "  ('', 'tercera.')\n",
      "\n",
      "Considerando las líneas definidas por los saltos de línea:\n",
      "  ('Este', '')\n",
      "  ('', 'línea.')\n",
      "  ('Pero', '')\n",
      "  ('', 'segunda.')\n",
      "  ('Y', '')\n",
      "  ('', 'tercera.')\n"
     ]
    }
   ],
   "source": [
    "t = 'Este texto ocupa la primera línea.\\nPero hay una segunda.\\nY una tercera.'\n",
    "pat = r'(^\\w+)|(\\w+\\S*$)'\n",
    "\n",
    "single_line = re.compile(pat)\n",
    "multiline = re.compile(pat, re.MULTILINE)\n",
    "\n",
    "print(f'Texto: {t!r}')\n",
    "print(f\"Patrón: '{pat}'\")\n",
    "\n",
    "print('\\nTratando la cadena completa como una sola línea:')\n",
    "for match in single_line.findall(t):\n",
    "    print(f'  {match!r}')\n",
    "\n",
    "print('\\nConsiderando las líneas definidas por los saltos de línea:')\n",
    "for match in multiline.findall(t):\n",
    "    print(f'  {match!r}')"
   ]
  },
  {
   "cell_type": "markdown",
   "metadata": {},
   "source": [
    "Normalmente, el metacarácter `.` de una expresión regular encaja con cualquier carácter salvo con el salto de línea (`\\n`). El *flag* `re.DOTALL` hace que el metacarácter `.` encaje con cualquier carácter, también con los saltos de línea:"
   ]
  },
  {
   "cell_type": "code",
   "execution_count": 27,
   "metadata": {},
   "outputs": [
    {
     "name": "stdout",
     "output_type": "stream",
     "text": [
      "Texto: 'Este texto ocupa la primera línea.\\nPero hay una segunda.\\nY una tercera.'\n",
      "Patrón: '.+'\n",
      "\n",
      "Metacarácter '.' no aceptando saltos de línea:\n",
      "  'Este texto ocupa la primera línea.'\n",
      "  'Pero hay una segunda.'\n",
      "  'Y una tercera.'\n",
      "\n",
      "Metacarácter '.' aceptando saltos de línea (DOTALL):\n",
      "  'Este texto ocupa la primera línea.\\nPero hay una segunda.\\nY una tercera.'\n"
     ]
    }
   ],
   "source": [
    "t = 'Este texto ocupa la primera línea.\\nPero hay una segunda.\\nY una tercera.'\n",
    "pat = r'.+'\n",
    "\n",
    "no_newlines = re.compile(pat)\n",
    "dotall = re.compile(pat, re.DOTALL)\n",
    "\n",
    "print(f'Texto: {t!r}')\n",
    "print(f\"Patrón: '{pat}'\")\n",
    "\n",
    "print(\"\\nMetacarácter '.' no aceptando saltos de línea:\")\n",
    "for match in no_newlines.findall(t):\n",
    "    print(f'  {match!r}')\n",
    "\n",
    "print(\"\\nMetacarácter '.' aceptando saltos de línea (DOTALL):\")\n",
    "for match in dotall.findall(t):\n",
    "    print(f'  {match!r}')"
   ]
  },
  {
   "cell_type": "markdown",
   "metadata": {},
   "source": [
    "### Usando una codificación de caracteres distinta a Unicode\n",
    "\n",
    "En Python 3 la codificación por defecto es `Unicode`, de forma que las expresiones regulares aceptadas por el módulo `re` asumen que tanto el texto como los patrones están codificados en Unicode. Esto significa que, por ejemplo, el patrón `\\w+` aceptará tanto la palabra 'compañía' como la palabra 'pingüino', a pesar de que contengan caracteres que no están en la tabla ASCII. El *flag* `re.ASCII` permite restringir la codificación de los caracteres aceptados por los conjuntos predefinidos (como `\\w`) a únicamente los de la tabla ASCII. Veamos un ejemplo:"
   ]
  },
  {
   "cell_type": "code",
   "execution_count": 28,
   "metadata": {},
   "outputs": [
    {
     "name": "stdout",
     "output_type": "stream",
     "text": [
      "Texto: 'Excelente compañía ayer en la fiesta del pingüino'\n",
      "Patrón: '\\w+'\n",
      "ASCII: ['Excelente', 'compa', 'a', 'ayer', 'en', 'la', 'fiesta', 'del', 'ping', 'ino']\n",
      "Unicode: ['Excelente', 'compañía', 'ayer', 'en', 'la', 'fiesta', 'del', 'pingüino']\n"
     ]
    }
   ],
   "source": [
    "t = 'Excelente compañía ayer en la fiesta del pingüino'\n",
    "pat = r'\\w+'\n",
    "\n",
    "ascii_pat = re.compile(pat, re.ASCII)\n",
    "unicode_pat = re.compile(pat)\n",
    "\n",
    "print(f'Texto: {t!r}')\n",
    "print(f\"Patrón: '{pat}'\")\n",
    "\n",
    "print(f\"ASCII: {list(ascii_pat.findall(t))}\")\n",
    "print(f\"Unicode: {list(unicode_pat.findall(t))}\")"
   ]
  },
  {
   "cell_type": "markdown",
   "metadata": {},
   "source": [
    "### Inclusión de comentarios explicativos de los patrones\n",
    "\n",
    "La forma compacta con que se especifican las expresiones regulares según la sintaxis del módulo `re` puede hacerse casi ilegible a medida que las expresiones se hacen más largas. A medida que se añaden grupos de patrones, resulta más difícil recordar por qué cada grupo está ahí, qué representa y cómo interactúa con el resto de la expresión. Utilizar grupos con nombre ayuda a esclarecer estas situaciones, pero una mejor solución es utilizar el *flag* `re.VERBOSE` en las expresiones, lo que permite añadir comentarios y espacios blancos a la expresión, de manera que sea fácilmente legible.\n",
    "\n",
    "En el siguiente ejemplo, donde se aplica un patrón para validar direcciones de email pertenecientes a 3 dominios ('.es', '.eus' y '.net'), veremos cómo el modo *verbose* ayuda a entender mejor las expresiones regulares. Empecemos con una versión básica en la que el patrón no está comentado:"
   ]
  },
  {
   "cell_type": "code",
   "execution_count": 29,
   "metadata": {},
   "outputs": [
    {
     "name": "stdout",
     "output_type": "stream",
     "text": [
      "pablo.matos@a2tv.es                  Válido\n",
      "cris.pardo+flequillo@septima.net     Válido\n",
      "pepe-gotera@chapuzas.gv.eus          Válido\n",
      "otilio@otras.chapuzas.eup            No válido\n"
     ]
    }
   ],
   "source": [
    "email_valido = re.compile('[\\w\\d.+-]+@([\\w\\d.]+\\.)+(es|eus|net)')\n",
    "\n",
    "candidatos = ['pablo.matos@a2tv.es',\n",
    "              'cris.pardo+flequillo@septima.net',\n",
    "              'pepe-gotera@chapuzas.gv.eus',\n",
    "              'otilio@otras.chapuzas.eup']\n",
    "\n",
    "for c in candidatos:\n",
    "    match = email_valido.search(c)\n",
    "    print(f\"{c:<36s} {'Válido' if match else 'No válido'}\")"
   ]
  },
  {
   "cell_type": "markdown",
   "metadata": {},
   "source": [
    "En su forma extendida (comentada), el patrón realizará la misma tarea pero será más fácil de entender. Los comentarios permitirán identificar las distintas partes del patrón y resultará más fácil modificarlas o ampliarlas."
   ]
  },
  {
   "cell_type": "code",
   "execution_count": 30,
   "metadata": {},
   "outputs": [
    {
     "name": "stdout",
     "output_type": "stream",
     "text": [
      "pablo.matos@a2tv.es                  Válido\n",
      "cris.pardo+flequillo@septima.net     Válido\n",
      "pepe-gotera@chapuzas.gv.eus          Válido\n",
      "otilio@otras.chapuzas.eup            No válido\n"
     ]
    }
   ],
   "source": [
    "email_valido = re.compile(\n",
    "    '''\n",
    "        [\\w\\d.+-]+     # Usuario\n",
    "        @\n",
    "        ([\\w\\d.]+\\.)+  # Prefijo del dominio\n",
    "        (es|eus|net)   # Dominios de interés\n",
    "    ''',\n",
    "    re.VERBOSE)\n",
    "\n",
    "candidatos = ['pablo.matos@a2tv.es',\n",
    "              'cris.pardo+flequillo@septima.net',\n",
    "              'pepe-gotera@chapuzas.gv.eus',\n",
    "              'otilio@otras.chapuzas.eup']\n",
    "\n",
    "for c in candidatos:\n",
    "    match = email_valido.search(c)\n",
    "    print(f\"{c:<36s} {'Válido' if match else 'No válido'}\")"
   ]
  },
  {
   "cell_type": "markdown",
   "metadata": {},
   "source": [
    "A continuación se presenta una tercera y última versión que acepta entradas que pueden incluir el nombre de una persona seguido de la dirección de email entre los símbolos `<` y `>`, tal como suelen aparecer en las cabeceras de los mensajes. Añadir suficientes comentarios e indentar convenientemente los distintos elementos de los patrones (grupos, subgrupos, etc.) facilita el mantenimiento de los programas, es decir, su comprensión y futura modificación por parte de otros programadores."
   ]
  },
  {
   "cell_type": "code",
   "execution_count": 31,
   "metadata": {},
   "outputs": [
    {
     "name": "stdout",
     "output_type": "stream",
     "text": [
      "\n",
      "Candidato: 'pablo.matos@a2tv.es'\n",
      "  Nombre: None\n",
      "  Email:  'pablo.matos@a2tv.es'\n",
      "\n",
      "Candidato: 'cris.pardo+flequillo@septima.net'\n",
      "  Nombre: None\n",
      "  Email:  'cris.pardo+flequillo@septima.net'\n",
      "\n",
      "Candidato: 'pepe-gotera@chapuzas.gv.eus'\n",
      "  Nombre: None\n",
      "  Email:  'pepe-gotera@chapuzas.gv.eus'\n",
      "\n",
      "Candidato: 'otilio@otras.chapuzas.eup'\n",
      "  No match\n",
      "\n",
      "Candidato: 'Bob Pop <bobby.pop@comic.net>'\n",
      "  Nombre: 'Bob Pop'\n",
      "  Email:  'bobby.pop@comic.net'\n",
      "\n",
      "Candidato: 'Nancy Rubia nancy.blonde@a2tv.es'\n",
      "  Nombre: None\n",
      "  Email:  'nancy.blonde@a2tv.es'\n",
      "\n",
      "Candidato: 'Lehendakari Urkullu'\n",
      "  No match\n",
      "\n",
      "Candidato: 'Francisco F. Capela <patxi.capela@etbb.eus>'\n",
      "  Nombre: 'Francisco F. Capela'\n",
      "  Email:  'patxi.capela@etbb.eus'\n",
      "\n",
      "Candidato: '<nacho.canut@fangorio.es>'\n",
      "  Nombre: None\n",
      "  Email:  'nacho.canut@fangorio.es'\n"
     ]
    }
   ],
   "source": [
    "email_valido = re.compile(\n",
    "    '''\n",
    "        # Un nombre se compone de letras y puede incluir puntos (.)\n",
    "        # para abreviaturas o iniciales\n",
    "        ((?P<name>\n",
    "           ([\\w.,]+\\s+)*[\\w.,]+)\n",
    "           \\s*\n",
    "           # Las direcciones de email pueden ir entre los símbolos < >\n",
    "           # pero sólo si se ha suministrado previamente un nombre, \n",
    "           # por lo que el símbolo < se incluye dentro de este grupo\n",
    "           <\n",
    "        )? # El nombre es opcional\n",
    "        \n",
    "        # Aquí va la dirección de email\n",
    "        (?P<email>\n",
    "          [\\w\\d.+-]+     # Usuario\n",
    "          @\n",
    "          ([\\w\\d.]+\\.)+  # Prefijo del dominio\n",
    "          (es|eus|net)   # Dominios de interés\n",
    "        )\n",
    "\n",
    "        >? # El símbolo > es opcional\n",
    "    ''',\n",
    "    re.VERBOSE)\n",
    "\n",
    "candidatos = ['pablo.matos@a2tv.es',\n",
    "              'cris.pardo+flequillo@septima.net',\n",
    "              'pepe-gotera@chapuzas.gv.eus',\n",
    "              'otilio@otras.chapuzas.eup',\n",
    "              'Bob Pop <bobby.pop@comic.net>',\n",
    "              'Nancy Rubia nancy.blonde@a2tv.es',\n",
    "              'Lehendakari Urkullu',\n",
    "              'Francisco F. Capela <patxi.capela@etbb.eus>',\n",
    "              '<nacho.canut@fangorio.es>']\n",
    "\n",
    "for c in candidatos:\n",
    "    print(f'\\nCandidato: {c!r}')\n",
    "    match = email_valido.search(c)\n",
    "    if match:\n",
    "        print(f\"  Nombre: {match.groupdict()['name']!r}\")\n",
    "        print(f\"  Email:  {match.groupdict()['email']!r}\")\n",
    "    else:\n",
    "        print('  No match')"
   ]
  },
  {
   "cell_type": "markdown",
   "metadata": {},
   "source": [
    "### Patrones con flags\n",
    "\n",
    "En ocasiones, no es posible incluir *flags* al compilar una expresión regular. Esto sucede, por ejemplo, al pasar un patrón como argumento a una función que lo compilará más tarde. En estos casos, el *flag* puede incluirse en el propio patrón. Estos *flags* deben ir al principio de la expresión para que afecten a todos los elementos de dicha expresión. Así, por ejemplo, añadiendo la cadena `(?i)` al inicio de la expresión regular, estamos indicando que no se tenga en cuenta el tamaño (mayúscula/minúscula) de las letras:"
   ]
  },
  {
   "cell_type": "code",
   "execution_count": 32,
   "metadata": {},
   "outputs": [
    {
     "name": "stdout",
     "output_type": "stream",
     "text": [
      "Texto: 'Esto, por exigencias de guión, es un texto con puntuación.'\n",
      "Patrón: '(?i)\\bE\\w+'\n",
      "Instancias encontradas: ['Esto', 'exigencias', 'es']\n"
     ]
    }
   ],
   "source": [
    "t = 'Esto, por exigencias de guión, es un texto con puntuación.'\n",
    "pat = r'(?i)\\bE\\w+'\n",
    "\n",
    "regex = re.compile(pat)\n",
    "print(f'Texto: {t!r}')\n",
    "print(f\"Patrón: '{pat}'\")\n",
    "print(f'Instancias encontradas: {regex.findall(t)}')"
   ]
  },
  {
   "cell_type": "markdown",
   "metadata": {},
   "source": [
    "Se pueden especificar varios flags al mismo tiempo; por ejemplo, la cadena `(?im)` hace que no se tenga en cuenta el tamaño de las letras y que se procesen cadenas multilínea. En la tabla siguiente se muestran todas las abreviaturas junto con los *flags* correspondientes:\n",
    "\n",
    "Abreviatura | Flag\n",
    ":-- | :--\n",
    "a | ASCII\n",
    "i | IGNORECASE\n",
    "m | MULTILINE\n",
    "s | DOTALL\n",
    "x | VERBOSE"
   ]
  },
  {
   "cell_type": "code",
   "execution_count": null,
   "metadata": {},
   "outputs": [],
   "source": []
  }
 ],
 "metadata": {
  "kernelspec": {
   "display_name": "Python 3",
   "language": "python",
   "name": "python3"
  },
  "language_info": {
   "codemirror_mode": {
    "name": "ipython",
    "version": 3
   },
   "file_extension": ".py",
   "mimetype": "text/x-python",
   "name": "python",
   "nbconvert_exporter": "python",
   "pygments_lexer": "ipython3",
   "version": "3.8.2"
  },
  "nteract": {
   "version": "0.28.0"
  }
 },
 "nbformat": 4,
 "nbformat_minor": 5
}
